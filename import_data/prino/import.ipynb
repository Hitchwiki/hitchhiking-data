{
 "cells": [
  {
   "cell_type": "code",
   "execution_count": 2,
   "metadata": {},
   "outputs": [],
   "source": [
    "import pandas as pd\n",
    "import re\n",
    "import requests\n",
    "import random\n",
    "\n",
    "from tqdm import tqdm\n",
    "from datetime import datetime, timedelta\n",
    "from dateutil.relativedelta import relativedelta\n",
    "\n",
    "# from tqdm.auto import tqdm  # for notebooks\n",
    "\n",
    "# Create new `pandas` methods which use `tqdm` progress\n",
    "# (can use tqdm_gui, optional kwargs, etc.)\n",
    "tqdm.pandas()\n",
    "\n",
    "pd.set_option(\"display.max_rows\", None)\n",
    "pd.set_option(\"display.max_colwidth\", None)\n",
    "pd.set_option(\"display.max_columns\", None)"
   ]
  },
  {
   "cell_type": "code",
   "execution_count": 31,
   "metadata": {},
   "outputs": [],
   "source": [
    "rides = []"
   ]
  },
  {
   "cell_type": "code",
   "execution_count": 32,
   "metadata": {},
   "outputs": [],
   "source": [
    "with open(\"routes.dat\") as f:\n",
    "    for line in f:\n",
    "        if line.startswith(\"{H\"):\n",
    "            this = []\n",
    "            line = re.sub(\" +\", \" \", line)\n",
    "            line = re.sub(\" : \", \" \", line)\n",
    "            parts = line.split(\" \")\n",
    "            try:\n",
    "                a, b = parts[1].split(\".\")\n",
    "            except:\n",
    "                continue\n",
    "            a = a.lstrip(\"0\")\n",
    "            b = b.lstrip(\"0\").rstrip(\":\")\n",
    "            try:\n",
    "                _ = int(a)\n",
    "                _ = int(b)\n",
    "            except:\n",
    "                continue\n",
    "            this.append(a)\n",
    "            this.append(b)\n",
    "            this.append(parts[2].rstrip(\"\\n\"))\n",
    "            if len(parts) > 3 and \"google\" in parts[-1]:\n",
    "                this.append(parts[-1])\n",
    "            else:\n",
    "                this.append(None)\n",
    "            rides.append(this)"
   ]
  },
  {
   "cell_type": "code",
   "execution_count": 33,
   "metadata": {},
   "outputs": [],
   "source": [
    "r = pd.DataFrame(rides, columns=[\"trip\", \"ride\", \"short\", \"long\"])"
   ]
  },
  {
   "cell_type": "code",
   "execution_count": null,
   "metadata": {},
   "outputs": [],
   "source": [
    "r[r[[\"trip\", \"ride\"]].duplicated(keep=False)]"
   ]
  },
  {
   "cell_type": "code",
   "execution_count": 35,
   "metadata": {},
   "outputs": [],
   "source": [
    "short = r[r.long.isna()]"
   ]
  },
  {
   "cell_type": "code",
   "execution_count": 36,
   "metadata": {},
   "outputs": [],
   "source": [
    "short = short[short.short.apply(lambda x: \"/\" in x and len(x.split(\"/\")[-1]) > 5)]"
   ]
  },
  {
   "cell_type": "code",
   "execution_count": 37,
   "metadata": {},
   "outputs": [
    {
     "name": "stderr",
     "output_type": "stream",
     "text": [
      "  0%|          | 0/340 [00:00<?, ?it/s]"
     ]
    },
    {
     "name": "stderr",
     "output_type": "stream",
     "text": [
      "100%|██████████| 340/340 [09:46<00:00,  1.73s/it]\n"
     ]
    }
   ],
   "source": [
    "def get_long(url):\n",
    "    response = requests.get(url)\n",
    "    if response.history:\n",
    "        resp = response.history[-1]\n",
    "        return resp.url\n",
    "\n",
    "\n",
    "short[\"long\"] = short.short.progress_apply(get_long)"
   ]
  },
  {
   "cell_type": "code",
   "execution_count": 39,
   "metadata": {},
   "outputs": [],
   "source": [
    "long = r[~r.long.isna()]"
   ]
  },
  {
   "cell_type": "code",
   "execution_count": 98,
   "metadata": {},
   "outputs": [],
   "source": [
    "all = pd.concat([short, long])\n",
    "all = all[all.long.str.contains(\"/dir/\")]\n",
    "all.to_csv(\"ride_urls.csv\")"
   ]
  },
  {
   "cell_type": "code",
   "execution_count": 99,
   "metadata": {},
   "outputs": [],
   "source": [
    "all = pd.read_csv(\"ride_urls.csv\", index_col=0)"
   ]
  },
  {
   "cell_type": "code",
   "execution_count": 102,
   "metadata": {},
   "outputs": [],
   "source": [
    "def get_start(url):\n",
    "    start = re.findall(r\"dir/(.*?)/\", url)[0]\n",
    "    if not start[0].isnumeric():\n",
    "        start = list(re.findall(r\"!1d(.*?)!2d(.*?)!\", url)[0])\n",
    "    else:\n",
    "        start = start.split(\",\")\n",
    "    return start\n",
    "\n",
    "\n",
    "def get_end(url):\n",
    "    end = re.findall(r\"/.*/(.*)/@\", url)[0]\n",
    "    if not end[0].isnumeric():\n",
    "        end = list(re.findall(r\"!1d(.*?)!2d(.*?)!\", url)[-1])\n",
    "    else:\n",
    "        end = end.split(\",\")\n",
    "\n",
    "    return end"
   ]
  },
  {
   "cell_type": "code",
   "execution_count": 104,
   "metadata": {},
   "outputs": [
    {
     "name": "stderr",
     "output_type": "stream",
     "text": [
      "100%|██████████| 2835/2835 [00:00<00:00, 243819.88it/s]\n",
      "100%|██████████| 2835/2835 [00:00<00:00, 57500.95it/s]\n"
     ]
    }
   ],
   "source": [
    "all[\"start\"] = all.long.progress_apply(get_start)\n",
    "all[\"end\"] = all.long.progress_apply(get_end)"
   ]
  },
  {
   "cell_type": "code",
   "execution_count": 105,
   "metadata": {},
   "outputs": [],
   "source": [
    "all.to_csv(\"ride_coords.csv\")"
   ]
  },
  {
   "cell_type": "code",
   "execution_count": 48,
   "metadata": {},
   "outputs": [],
   "source": [
    "all = pd.read_csv(\"ride_coords.csv\", index_col=0)"
   ]
  },
  {
   "cell_type": "code",
   "execution_count": 49,
   "metadata": {},
   "outputs": [],
   "source": [
    "all[\"stop\"] = all.groupby([\"trip\", \"ride\"]).cumcount()"
   ]
  },
  {
   "cell_type": "code",
   "execution_count": 50,
   "metadata": {},
   "outputs": [
    {
     "name": "stderr",
     "output_type": "stream",
     "text": [
      "/tmp/ipykernel_12679/2237710642.py:1: ParserWarning: Length of header or names does not match length of data. This leads to a loss of data with index_col=False.\n",
      "  df = pd.read_csv(\n"
     ]
    }
   ],
   "source": [
    "df = pd.read_csv(\n",
    "    \"rides.csv\",\n",
    "    names=[\n",
    "        \"trip\",\n",
    "        \"ride\",\n",
    "        \"departure_date\",\n",
    "        \"departure_time\",\n",
    "        \"departure_odometer_km\",\n",
    "        \"arrival_date\",\n",
    "        \"arrival_time\",\n",
    "        \"arrival_odometer_km\",\n",
    "        \"distance_km\",\n",
    "        \"duration_h\",\n",
    "        \"velocity_kmh\",\n",
    "        \"waiting_time\",\n",
    "        \"driver_country\",\n",
    "        \"driver_type\",\n",
    "        \"departure_country\",\n",
    "        \"arrival_country\",\n",
    "        \"departure_type_method\",\n",
    "        \"departure_type_location\",\n",
    "        \"departure_location\",\n",
    "        \"arrival_location\",\n",
    "        \"drop_1\",\n",
    "        \"drop_2\",\n",
    "        \"drop_3\",\n",
    "    ],\n",
    "    index_col=False,\n",
    ")"
   ]
  },
  {
   "cell_type": "code",
   "execution_count": 51,
   "metadata": {},
   "outputs": [],
   "source": [
    "def get_time(x):\n",
    "    try:\n",
    "        t = datetime.strptime(x, \"%H:%M\")\n",
    "        d = timedelta(hours=t.hour, minutes=t.minute)\n",
    "        return int(d.total_seconds() // 60)\n",
    "    except Exception as e:\n",
    "        return None\n",
    "\n",
    "df[\"waiting_time\"] = df[\"waiting_time\"].apply(get_time)"
   ]
  },
  {
   "cell_type": "code",
   "execution_count": 52,
   "metadata": {},
   "outputs": [],
   "source": [
    "df = df.drop(columns=[\"drop_1\", \"drop_2\", \"drop_3\"])"
   ]
  },
  {
   "cell_type": "code",
   "execution_count": 53,
   "metadata": {},
   "outputs": [],
   "source": [
    "df[\"stop\"] = df.groupby([\"trip\", \"ride\"]).cumcount()"
   ]
  },
  {
   "cell_type": "code",
   "execution_count": 54,
   "metadata": {},
   "outputs": [],
   "source": [
    "full = pd.merge(all, df, on=[\"trip\", \"ride\", \"stop\"], how=\"left\")"
   ]
  },
  {
   "cell_type": "code",
   "execution_count": 55,
   "metadata": {},
   "outputs": [],
   "source": [
    "full.dropna(subset=[\"departure_date\"], inplace=True) # drop where no match could be found in rides table"
   ]
  },
  {
   "cell_type": "code",
   "execution_count": 56,
   "metadata": {},
   "outputs": [],
   "source": [
    "full = full[full.departure_type_method != \"q\"] # prearranged rides"
   ]
  },
  {
   "cell_type": "code",
   "execution_count": 57,
   "metadata": {},
   "outputs": [],
   "source": [
    "full[\"departure_type_method\"] = full.departure_type_method.map({\"a\":\"ask\", \"t\":\"thumb\", \"i\":\"invited\"})"
   ]
  },
  {
   "cell_type": "code",
   "execution_count": 58,
   "metadata": {},
   "outputs": [],
   "source": [
    "full.reset_index(drop=True, inplace=True)"
   ]
  },
  {
   "cell_type": "code",
   "execution_count": 59,
   "metadata": {},
   "outputs": [],
   "source": [
    "# export to hitchmap format\n",
    "\n",
    "hm = pd.DataFrame()\n",
    "hm[\"id\"] = [random.randint(9219501639295889231, 1e20) for _ in range(len(full))]\n",
    "hm[\"lat\"] = full.start.apply(lambda x: float(x.split(\",\")[0].lstrip(\"['\").rstrip(\"'\")))\n",
    "hm[\"lon\"] = full.start.apply(lambda x: float(x.split(\",\")[1].rstrip(\"']\").lstrip(\" '\")))\n",
    "hm[\"rating\"] = None\n",
    "hm[\"country\"] = full.departure_country\n",
    "hm[\"wait\"] = full.waiting_time\n",
    "hm[\"name\"] = \"Prino\"  # https://hitchwiki.org/en/User:Prino\n",
    "hm[\"comment\"] = None\n",
    "hm[\"datetime\"] = full.departure_date + \" \" + full.departure_time + \":00.000000\" # using datatime_ride so that one can see age of the ride on the frontend\n",
    "hm[\"reviewed\"] = 1\n",
    "hm[\"banned\"] = 0\n",
    "hm[\"ip\"] = None\n",
    "hm[\"dest_lat\"] = full.end.apply(\n",
    "    lambda x: float(x.split(\",\")[0].lstrip(\"['\").rstrip(\"'\"))\n",
    ")\n",
    "hm[\"dest_lon\"] = full.end.apply(\n",
    "    lambda x: float(x.split(\",\")[1].rstrip(\"']\").lstrip(\" '\"))\n",
    ")\n",
    "hm[\"signal\"] = full.departure_type_method\n",
    "hm[\"datetime_ride\"] = full.departure_date + \" \" + full.departure_time + \":00.000000\"\n",
    "hm[\"gender\"] = \"male\"\n",
    "hm[\"age\"] = full.departure_date.apply(\n",
    "    lambda x: relativedelta(\n",
    "        datetime.strptime(x, \"%Y-%m-%d\").date(), datetime(1960, 1, 1)\n",
    "    ).years\n",
    ")  # roughly\n",
    "# new features\n",
    "hm[\"driver_country\"] = full.driver_country\n",
    "hm[\"driver_gender\"] = full.driver_type.map(\n",
    "    {\n",
    "        \"-\": \"male\",\n",
    "        \"V\": \"female\",\n",
    "        \"E\": \"mixed\",\n",
    "        \"F\": \"mixed\",\n",
    "        \"V*\": \"female\",\n",
    "        \"-*\": \"male\",\n",
    "        \"Elec\": \"male\",\n",
    "        \"V-El\": \"female\",\n",
    "        \"Por\":\"male\",\n",
    "        \"VPor\":\"female\",\n",
    "        \"T\":\"male\",\n",
    "    },\n",
    "    na_action=None,\n",
    ")\n",
    "hm[\"vehicle\"] = full.driver_type.map(\n",
    "    {\n",
    "        \"T\": \"truck\",\n",
    "        \"B\": \"van\",\n",
    "        \"MB\": \"bus\",\n",
    "        \"C\": \"camper\",\n",
    "        \"Bus\": \"bus\",\n",
    "        \"M\": \"motorbike\",\n",
    "    },\n",
    "    na_action=None,\n",
    ")\n",
    "hm[\"vehicle\"] = hm.vehicle.fillna(\"car\")"
   ]
  },
  {
   "cell_type": "code",
   "execution_count": 60,
   "metadata": {},
   "outputs": [],
   "source": [
    "hm.comment.astype(str).replace(\"nan\", None, inplace=True)"
   ]
  },
  {
   "cell_type": "code",
   "execution_count": 61,
   "metadata": {},
   "outputs": [],
   "source": [
    "hm.to_csv(\"prino_to_hitchmap.csv\", index=False)"
   ]
  }
 ],
 "metadata": {
  "kernelspec": {
   "display_name": "heatchmap",
   "language": "python",
   "name": "python3"
  },
  "language_info": {
   "codemirror_mode": {
    "name": "ipython",
    "version": 3
   },
   "file_extension": ".py",
   "mimetype": "text/x-python",
   "name": "python",
   "nbconvert_exporter": "python",
   "pygments_lexer": "ipython3",
   "version": "3.10.14"
  }
 },
 "nbformat": 4,
 "nbformat_minor": 2
}
