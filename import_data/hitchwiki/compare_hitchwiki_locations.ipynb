{
 "cells": [
  {
   "cell_type": "code",
   "execution_count": null,
   "id": "ec3bc25c",
   "metadata": {},
   "outputs": [],
   "source": [
    "import pandas as pd\n",
    "\n",
    "\n",
    "pd.set_option('display.max_rows', None)\n",
    "pd.set_option('display.max_columns', None)\n",
    "pd.set_option('display.max_colwidth', None)\n",
    "pd.set_option('display.expand_frame_repr', False)"
   ]
  },
  {
   "cell_type": "code",
   "execution_count": null,
   "id": "c3e4a5cb",
   "metadata": {},
   "outputs": [],
   "source": [
    "hw_df = pd.read_csv(\"coords_df.csv\")"
   ]
  },
  {
   "cell_type": "code",
   "execution_count": null,
   "id": "29cf6ebf",
   "metadata": {},
   "outputs": [],
   "source": [
    "hw_df.head()"
   ]
  },
  {
   "cell_type": "code",
   "execution_count": null,
   "id": "be372fb7",
   "metadata": {},
   "outputs": [],
   "source": [
    "hw_df = hw_df[hw_df[\"haversine_distance_in_m\"] <= 25.0]"
   ]
  },
  {
   "cell_type": "code",
   "execution_count": null,
   "id": "e4b03b8c",
   "metadata": {},
   "outputs": [],
   "source": [
    "import sqlite3\n",
    "import pandas as pd\n",
    "import wget\n",
    "import os"
   ]
  },
  {
   "cell_type": "code",
   "execution_count": null,
   "id": "f31bf3de",
   "metadata": {},
   "outputs": [],
   "source": [
    "url = 'https://hitchmap.com/dump.sqlite'\n",
    "filename = 'dump.sqlite'\n",
    "if os.path.exists(filename):\n",
    "        os.remove(filename)\n",
    "filename = wget.download(url)"
   ]
  },
  {
   "cell_type": "code",
   "execution_count": null,
   "id": "db4c6a50",
   "metadata": {},
   "outputs": [],
   "source": [
    "points = pd.read_sql('select * from points', sqlite3.connect(filename))\n",
    "len(points)"
   ]
  },
  {
   "cell_type": "code",
   "execution_count": null,
   "id": "9340b2bf",
   "metadata": {},
   "outputs": [],
   "source": [
    "points.head()"
   ]
  },
  {
   "cell_type": "code",
   "execution_count": null,
   "id": "aa706c5a",
   "metadata": {},
   "outputs": [],
   "source": [
    "g = points.groupby([\"lat\", \"lon\"])\n",
    "\n",
    "places = g[[\"country\"]].first()\n",
    "\n",
    "places[\"rating\"] = g.rating.mean().round()\n",
    "places[\"wait\"] = points[~points.wait.isnull()].groupby([\"lat\", \"lon\"]).wait.mean()\n",
    "places[\"review_count\"] = g.size()\n",
    "places.reset_index(inplace=True)\n",
    "len(places)"
   ]
  },
  {
   "cell_type": "code",
   "execution_count": null,
   "id": "e755dc01",
   "metadata": {},
   "outputs": [],
   "source": [
    "places.head()"
   ]
  },
  {
   "cell_type": "code",
   "execution_count": null,
   "id": "1daa0a96",
   "metadata": {},
   "outputs": [],
   "source": [
    "hw_hm_match = hw_df.merge(places, how=\"left\", left_on=[\"nearest_node_lat\", \"nearest_node_lon\"], right_on=[\"lat\", \"lon\"])"
   ]
  },
  {
   "cell_type": "code",
   "execution_count": null,
   "id": "370034ec",
   "metadata": {},
   "outputs": [],
   "source": [
    "hw_hm_match[\"wait\"].mean(), hw_hm_match[\"wait\"].std()"
   ]
  },
  {
   "cell_type": "code",
   "execution_count": null,
   "id": "60eb519b",
   "metadata": {},
   "outputs": [],
   "source": [
    "hw_hm_match[\"review_count\"].mean(), hw_hm_match[\"review_count\"].std()"
   ]
  },
  {
   "cell_type": "code",
   "execution_count": null,
   "id": "a9d54cd4",
   "metadata": {},
   "outputs": [],
   "source": [
    "hw_hm_match[\"rating\"].mean(), hw_hm_match[\"rating\"].std()"
   ]
  },
  {
   "cell_type": "code",
   "execution_count": null,
   "id": "14893768",
   "metadata": {},
   "outputs": [],
   "source": [
    "places[\"wait\"].mean(), places[\"wait\"].std()"
   ]
  },
  {
   "cell_type": "code",
   "execution_count": null,
   "id": "41fc7708",
   "metadata": {},
   "outputs": [],
   "source": [
    "places[\"review_count\"].mean(), places[\"review_count\"].std()"
   ]
  },
  {
   "cell_type": "code",
   "execution_count": null,
   "id": "51c5141f",
   "metadata": {},
   "outputs": [],
   "source": [
    "places[\"rating\"].mean(), places[\"rating\"].std()"
   ]
  }
 ],
 "metadata": {
  "kernelspec": {
   "display_name": "hitchmap-data",
   "language": "python",
   "name": "python3"
  },
  "language_info": {
   "codemirror_mode": {
    "name": "ipython",
    "version": 3
   },
   "file_extension": ".py",
   "mimetype": "text/x-python",
   "name": "python",
   "nbconvert_exporter": "python",
   "pygments_lexer": "ipython3",
   "version": "3.10.17"
  }
 },
 "nbformat": 4,
 "nbformat_minor": 5
}
