{
 "cells": [
  {
   "cell_type": "code",
   "execution_count": null,
   "metadata": {},
   "outputs": [],
   "source": [
    "import sqlite3\n",
    "import pandas as pd\n",
    "from tqdm import tqdm\n",
    "\n",
    "pd.set_option('display.max_rows', None)\n",
    "pd.set_option('display.max_columns', None)\n",
    "pd.set_option('display.float_format', '{:.2f}'.format)"
   ]
  },
  {
   "cell_type": "code",
   "execution_count": null,
   "metadata": {},
   "outputs": [],
   "source": [
    "fn = 'points.sqlite'\n",
    "points = pd.read_sql('select * from points where not banned', sqlite3.connect(fn))\n",
    "len(points[points['from_hitchwiki'] == 1.0])"
   ]
  },
  {
   "cell_type": "code",
   "execution_count": null,
   "metadata": {},
   "outputs": [],
   "source": [
    "points.head()"
   ]
  },
  {
   "cell_type": "code",
   "execution_count": null,
   "metadata": {},
   "outputs": [],
   "source": [
    "hitchwiki_users = points[points['from_hitchwiki'] == 1.0].nickname.unique()\n",
    "len(hitchwiki_users)"
   ]
  },
  {
   "cell_type": "code",
   "execution_count": null,
   "metadata": {},
   "outputs": [],
   "source": [
    "hitchwiki_users"
   ]
  },
  {
   "cell_type": "code",
   "execution_count": null,
   "metadata": {},
   "outputs": [],
   "source": [
    "import requests\n",
    "\n",
    "S = requests.Session()\n",
    "\n",
    "URL = \"https://hitchwiki.org/en/api.php\"\n",
    "\n",
    "def get_wiki_user(name):\n",
    "    try:\n",
    "        PARAMS = {\n",
    "            \"action\": \"query\",\n",
    "            \"format\": \"json\",\n",
    "            \"list\": \"users\",\n",
    "            \"ususers\": name,\n",
    "            \"usprop\": \"blockinfo|groups|editcount|registration|emailable|gender\"\n",
    "        }\n",
    "\n",
    "        R = S.get(url=URL, params=PARAMS)\n",
    "        DATA = R.json()\n",
    "\n",
    "        return DATA[\"query\"][\"users\"][0][\"gender\"]\n",
    "    except Exception as e:\n",
    "        print(f\"Error fetching data for user {name}: {e}\")\n",
    "        return None\n",
    "\n",
    "genders = []\n",
    "\n",
    "for u in tqdm(hitchwiki_users):\n",
    "    genders.append((u, get_wiki_user(u)))"
   ]
  },
  {
   "cell_type": "code",
   "execution_count": null,
   "metadata": {},
   "outputs": [],
   "source": [
    "users = pd.DataFrame(genders, columns=['nickname', \"gender\"])\n",
    "users.gender.value_counts()"
   ]
  },
  {
   "cell_type": "code",
   "execution_count": null,
   "metadata": {},
   "outputs": [],
   "source": [
    "def match_gender(row):\n",
    "    if row[\"from_hitchwiki\"] == 1.0:\n",
    "        gender = users.loc[users['nickname'] == row['nickname']][\"gender\"].iloc[0]\n",
    "        if gender == \"unknown\":\n",
    "            return None\n",
    "        return gender\n",
    "    return None"
   ]
  },
  {
   "cell_type": "code",
   "execution_count": null,
   "metadata": {},
   "outputs": [],
   "source": [
    "points[\"gender\"] = points.apply(match_gender, axis=1)"
   ]
  },
  {
   "cell_type": "code",
   "execution_count": null,
   "metadata": {},
   "outputs": [],
   "source": [
    "len(points[points[\"gender\"].notna()])"
   ]
  },
  {
   "cell_type": "code",
   "execution_count": null,
   "metadata": {},
   "outputs": [],
   "source": [
    "points.gender.value_counts()"
   ]
  }
 ],
 "metadata": {
  "kernelspec": {
   "display_name": "hitchmap-data",
   "language": "python",
   "name": "python3"
  },
  "language_info": {
   "codemirror_mode": {
    "name": "ipython",
    "version": 3
   },
   "file_extension": ".py",
   "mimetype": "text/x-python",
   "name": "python",
   "nbconvert_exporter": "python",
   "pygments_lexer": "ipython3",
   "version": "3.10.17"
  },
  "orig_nbformat": 4
 },
 "nbformat": 4,
 "nbformat_minor": 2
}
