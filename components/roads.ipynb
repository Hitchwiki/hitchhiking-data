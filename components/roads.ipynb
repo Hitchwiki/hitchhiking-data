{
 "cells": [
  {
   "cell_type": "code",
   "execution_count": null,
   "metadata": {},
   "outputs": [],
   "source": [
    "# query full road network at once\n",
    "########################################################\n",
    "\n",
    "places.to_crs(epsg=4326, inplace=True)\n",
    "\n",
    "current_cluster = places.loc[places.cluster == 0]\n",
    "polys = MultiPolygon(current_cluster.geometry.to_list())\n",
    "current_region = polys.convex_hull\n",
    "\n",
    "Network = osmnx.graph_from_polygon(current_region, network_type='drive', retain_all=True, truncate_by_edge=True)\n",
    "Network = osmnx.project_graph(Network, to_crs='epsg:3857')\n",
    "fig, ax = osmnx.plot_graph(Network, figsize=(10,10))\n",
    "\n",
    "# 3 s per spot\n",
    "# distances result in meters if epsg is 3857 for Network and Spots -> but both have to be 4326 before !\n",
    "\n",
    "\n",
    "a = places.loc[places.cluster == 0]\n",
    "# switch back from circle to point\n",
    "a['geometry'] = a.apply(lambda x: Point(x.lon, x.lat), axis=1)\n",
    "a.to_crs(epsg=3857, inplace=True)\n",
    "def get_nearest_road(row):    \n",
    "    try:\n",
    "        return osmnx.distance.nearest_edges(Network, row.geometry.x, row.geometry.y, return_dist=True)\n",
    "    except:\n",
    "        return None\n",
    "\n",
    "a['nearest_road'] = a.apply(get_nearest_road, axis=1)"
   ]
  }
 ],
 "metadata": {
  "language_info": {
   "name": "python"
  }
 },
 "nbformat": 4,
 "nbformat_minor": 2
}
