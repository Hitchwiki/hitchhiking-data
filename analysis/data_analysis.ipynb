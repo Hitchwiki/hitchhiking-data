{
 "cells": [
  {
   "cell_type": "code",
   "execution_count": null,
   "metadata": {},
   "outputs": [],
   "source": [
    "import sqlite3\n",
    "import pandas as pd\n",
    "from tqdm import tqdm\n",
    "import folium\n",
    "\n",
    "pd.set_option('display.max_rows', None)\n",
    "pd.set_option('display.max_columns', None)\n",
    "pd.set_option('display.max_colwidth', None) \n"
   ]
  },
  {
   "cell_type": "code",
   "execution_count": null,
   "metadata": {},
   "outputs": [],
   "source": [
    "fn = 'points.sqlite'\n",
    "points = pd.read_sql('select * from points where not banned', sqlite3.connect(fn))"
   ]
  },
  {
   "cell_type": "code",
   "execution_count": null,
   "metadata": {},
   "outputs": [],
   "source": [
    "points.head()"
   ]
  },
  {
   "cell_type": "code",
   "execution_count": null,
   "metadata": {},
   "outputs": [],
   "source": [
    "points.info()"
   ]
  },
  {
   "cell_type": "markdown",
   "metadata": {},
   "source": [
    "# activity"
   ]
  },
  {
   "cell_type": "code",
   "execution_count": null,
   "metadata": {},
   "outputs": [],
   "source": [
    "df = points\n",
    "df[\"datetime\"] = df[\"datetime\"].astype(\"datetime64[ns]\")\n",
    "\n",
    "plot = df['datetime'].groupby([df[\"datetime\"].dt.year, df[\"datetime\"].dt.month]).count().plot(kind=\"bar\", title=\"Points per month\", figsize=(50, 5))\n",
    "# plot.figure.savefig(\"plots/points_per_month.png\")"
   ]
  },
  {
   "cell_type": "code",
   "execution_count": null,
   "metadata": {},
   "outputs": [],
   "source": [
    "df = points[['datetime', 'wait']].dropna()\n",
    "df[\"datetime\"] = df[\"datetime\"].astype(\"datetime64[ns]\")\n",
    "\n",
    "plot = df['datetime'].groupby([df[\"datetime\"].dt.year, df[\"datetime\"].dt.month]).count().plot(kind=\"bar\", title=\"Points per month\", figsize=(50, 5))\n",
    "# plot.figure.savefig(\"plots/points_per_month_with_waittime.png\")"
   ]
  },
  {
   "cell_type": "markdown",
   "metadata": {},
   "source": [
    "# history"
   ]
  },
  {
   "cell_type": "code",
   "execution_count": null,
   "metadata": {},
   "outputs": [],
   "source": [
    "df = points[points[\"datetime\"].isna()]\n",
    "len(df)"
   ]
  },
  {
   "cell_type": "code",
   "execution_count": null,
   "metadata": {},
   "outputs": [],
   "source": [
    "df.info()"
   ]
  },
  {
   "cell_type": "code",
   "execution_count": null,
   "metadata": {},
   "outputs": [],
   "source": [
    "df = points.sort_values(by='datetime')\n",
    "df.head(1)"
   ]
  },
  {
   "cell_type": "code",
   "execution_count": null,
   "metadata": {},
   "outputs": [],
   "source": [
    "df[~df[\"nickname\"].isna()].head(1)"
   ]
  },
  {
   "cell_type": "code",
   "execution_count": null,
   "metadata": {},
   "outputs": [],
   "source": [
    "old = points[points[\"datetime\"] < \"2010-08-11\"]\n",
    "old = old[old[\"datetime\"] > \"2005-08-01\"]\n",
    "m = folium.Map(location=[old['lat'].mean(), df['lon'].mean()], zoom_start=2)\n",
    "for _, row in tqdm(df.iterrows()):\n",
    "    folium.CircleMarker(location=[row['lat'], row['lon']], radius=2).add_to(m)\n",
    "m"
   ]
  },
  {
   "cell_type": "code",
   "execution_count": null,
   "metadata": {},
   "outputs": [],
   "source": [
    "df[(df[\"datetime\"] > \"2017-01-01\") & (df[\"datetime\"] < \"2020-05-01\")][\"nickname\"].value_counts()\n",
    "# no-one addinf spots consistntly in this period"
   ]
  },
  {
   "cell_type": "code",
   "execution_count": null,
   "metadata": {},
   "outputs": [],
   "source": [
    "df[df[\"nickname\"] == \"Sitko\"].tail()"
   ]
  },
  {
   "cell_type": "code",
   "execution_count": null,
   "metadata": {},
   "outputs": [],
   "source": [
    "df[df[\"nickname\"] == \"Thumb-up\"].tail()"
   ]
  },
  {
   "cell_type": "code",
   "execution_count": null,
   "metadata": {},
   "outputs": [],
   "source": [
    "df[(df[\"datetime\"] < \"2017-01-01\") & (df[\"datetime\"] > \"2005-05-01\")][\"nickname\"].value_counts()\n"
   ]
  },
  {
   "cell_type": "markdown",
   "metadata": {},
   "source": [
    "# top spots"
   ]
  },
  {
   "cell_type": "code",
   "execution_count": null,
   "metadata": {},
   "outputs": [],
   "source": [
    "groups = points.groupby([\"lat\", \"lon\"])\n",
    "places = groups[[\"country\"]].first()\n",
    "places[\"rating\"] = groups.rating.mean()\n",
    "places[\"points\"] = groups.size()"
   ]
  },
  {
   "cell_type": "code",
   "execution_count": null,
   "metadata": {},
   "outputs": [],
   "source": [
    "places['score'] = places['rating']**3 * places['points']\n",
    "places.sort_values(\"score\", ascending=False).head(5)"
   ]
  },
  {
   "cell_type": "markdown",
   "metadata": {},
   "source": [
    "# worst spots"
   ]
  },
  {
   "cell_type": "code",
   "execution_count": null,
   "metadata": {},
   "outputs": [],
   "source": [
    "points['rating_reversed'] = 6 - points['rating']\n",
    "groups = points.groupby([\"lat\", \"lon\"])\n",
    "places = groups[[\"country\"]].first()\n",
    "places[\"rating\"] = groups.rating.mean()\n",
    "places['rating_reversed'] = groups.rating_reversed.mean()\n",
    "places[\"points\"] = groups.size()"
   ]
  },
  {
   "cell_type": "code",
   "execution_count": null,
   "metadata": {},
   "outputs": [],
   "source": [
    "places['score'] = places['rating_reversed']**3 * places['points']\n",
    "places.sort_values(\"score\", ascending=False).head(20)"
   ]
  },
  {
   "cell_type": "markdown",
   "metadata": {},
   "source": [
    "# top contributors"
   ]
  },
  {
   "cell_type": "code",
   "execution_count": null,
   "metadata": {},
   "outputs": [],
   "source": [
    "points.name.value_counts().head(20)"
   ]
  },
  {
   "cell_type": "code",
   "execution_count": null,
   "metadata": {},
   "outputs": [],
   "source": [
    "points[points.datetime.dt.year == 2024].name.value_counts().head(20)"
   ]
  }
 ],
 "metadata": {
  "kernelspec": {
   "display_name": "hitchmap-data",
   "language": "python",
   "name": "python3"
  },
  "language_info": {
   "codemirror_mode": {
    "name": "ipython",
    "version": 3
   },
   "file_extension": ".py",
   "mimetype": "text/x-python",
   "name": "python",
   "nbconvert_exporter": "python",
   "pygments_lexer": "ipython3",
   "version": "3.10.16"
  },
  "orig_nbformat": 4
 },
 "nbformat": 4,
 "nbformat_minor": 2
}
