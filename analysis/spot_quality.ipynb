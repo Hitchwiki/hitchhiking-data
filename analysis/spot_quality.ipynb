{
 "cells": [
  {
   "cell_type": "code",
   "execution_count": null,
   "id": "e97188c2",
   "metadata": {},
   "outputs": [],
   "source": []
  },
  {
   "cell_type": "markdown",
   "id": "43221678",
   "metadata": {},
   "source": [
    "# top spots"
   ]
  },
  {
   "cell_type": "markdown",
   "id": "6905bfef",
   "metadata": {},
   "source": [
    "# worst spots"
   ]
  },
  {
   "cell_type": "code",
   "execution_count": null,
   "id": "0f5f7bda",
   "metadata": {},
   "outputs": [],
   "source": [
    "points['rating_reversed'] = 6 - points['rating']\n",
    "groups = points.groupby([\"lat\", \"lon\"])\n",
    "places = groups[[\"country\"]].first()\n",
    "places[\"rating\"] = groups.rating.mean()\n",
    "places['rating_reversed'] = groups.rating_reversed.mean()\n",
    "places[\"points\"] = groups.size()"
   ]
  },
  {
   "cell_type": "code",
   "execution_count": null,
   "id": "f58c72db",
   "metadata": {},
   "outputs": [],
   "source": [
    "places['score'] = places['rating_reversed']**3 * places['points']\n",
    "places.sort_values(\"score\", ascending=False).head(20)"
   ]
  }
 ],
 "metadata": {
  "language_info": {
   "name": "python"
  }
 },
 "nbformat": 4,
 "nbformat_minor": 5
}
