{
 "cells": [
  {
   "cell_type": "code",
   "execution_count": 7,
   "metadata": {},
   "outputs": [],
   "source": [
    "import sqlite3\n",
    "import pandas as pd\n",
    "from tqdm import tqdm\n",
    "import os\n",
    "import wget\n",
    "\n",
    "pd.set_option('display.max_rows', None)\n",
    "pd.set_option('display.max_columns', None)\n",
    "pd.set_option('display.float_format', '{:.2f}'.format)"
   ]
  },
  {
   "cell_type": "code",
   "execution_count": 8,
   "metadata": {},
   "outputs": [],
   "source": [
    "url = 'https://hitchmap.com/dump.sqlite'\n",
    "filename = 'dump.sqlite'\n",
    "if os.path.exists(filename):\n",
    "        os.remove(filename)\n",
    "filename = wget.download(url)\n",
    "fn = 'dump.sqlite'\n",
    "points = pd.read_sql('select * from points where not banned', sqlite3.connect(fn))\n",
    "points[\"datetime\"] = points[\"datetime\"].astype(\"datetime64[ns]\")"
   ]
  },
  {
   "cell_type": "code",
   "execution_count": 3,
   "metadata": {},
   "outputs": [
    {
     "data": {
      "text/html": [
       "<div>\n",
       "<style scoped>\n",
       "    .dataframe tbody tr th:only-of-type {\n",
       "        vertical-align: middle;\n",
       "    }\n",
       "\n",
       "    .dataframe tbody tr th {\n",
       "        vertical-align: top;\n",
       "    }\n",
       "\n",
       "    .dataframe thead th {\n",
       "        text-align: right;\n",
       "    }\n",
       "</style>\n",
       "<table border=\"1\" class=\"dataframe\">\n",
       "  <thead>\n",
       "    <tr style=\"text-align: right;\">\n",
       "      <th></th>\n",
       "      <th>id</th>\n",
       "      <th>lat</th>\n",
       "      <th>lon</th>\n",
       "      <th>rating</th>\n",
       "      <th>country</th>\n",
       "      <th>wait</th>\n",
       "      <th>nickname</th>\n",
       "      <th>comment</th>\n",
       "      <th>datetime</th>\n",
       "      <th>reviewed</th>\n",
       "      <th>banned</th>\n",
       "      <th>ip</th>\n",
       "      <th>dest_lat</th>\n",
       "      <th>dest_lon</th>\n",
       "      <th>signal</th>\n",
       "      <th>ride_datetime</th>\n",
       "      <th>user_id</th>\n",
       "      <th>from_hitchwiki</th>\n",
       "    </tr>\n",
       "  </thead>\n",
       "  <tbody>\n",
       "    <tr>\n",
       "      <th>0</th>\n",
       "      <td>0</td>\n",
       "      <td>40.97</td>\n",
       "      <td>27.51</td>\n",
       "      <td>3.00</td>\n",
       "      <td>TR</td>\n",
       "      <td>NaN</td>\n",
       "      <td>Tamergem</td>\n",
       "      <td>If you avoid the mini busses, you can get on a...</td>\n",
       "      <td>2011-05-26 10:06:17.000000</td>\n",
       "      <td>1</td>\n",
       "      <td>0</td>\n",
       "      <td></td>\n",
       "      <td>NaN</td>\n",
       "      <td>NaN</td>\n",
       "      <td>None</td>\n",
       "      <td>None</td>\n",
       "      <td>NaN</td>\n",
       "      <td>1.00</td>\n",
       "    </tr>\n",
       "    <tr>\n",
       "      <th>1</th>\n",
       "      <td>1</td>\n",
       "      <td>32.07</td>\n",
       "      <td>34.79</td>\n",
       "      <td>4.00</td>\n",
       "      <td>IL</td>\n",
       "      <td>NaN</td>\n",
       "      <td>None</td>\n",
       "      <td>None</td>\n",
       "      <td>None</td>\n",
       "      <td>1</td>\n",
       "      <td>0</td>\n",
       "      <td></td>\n",
       "      <td>NaN</td>\n",
       "      <td>NaN</td>\n",
       "      <td>None</td>\n",
       "      <td>None</td>\n",
       "      <td>NaN</td>\n",
       "      <td>NaN</td>\n",
       "    </tr>\n",
       "    <tr>\n",
       "      <th>2</th>\n",
       "      <td>2</td>\n",
       "      <td>41.73</td>\n",
       "      <td>27.22</td>\n",
       "      <td>4.00</td>\n",
       "      <td>TR</td>\n",
       "      <td>NaN</td>\n",
       "      <td>None</td>\n",
       "      <td>None</td>\n",
       "      <td>None</td>\n",
       "      <td>1</td>\n",
       "      <td>0</td>\n",
       "      <td></td>\n",
       "      <td>NaN</td>\n",
       "      <td>NaN</td>\n",
       "      <td>None</td>\n",
       "      <td>None</td>\n",
       "      <td>NaN</td>\n",
       "      <td>NaN</td>\n",
       "    </tr>\n",
       "    <tr>\n",
       "      <th>3</th>\n",
       "      <td>3</td>\n",
       "      <td>41.10</td>\n",
       "      <td>29.01</td>\n",
       "      <td>3.00</td>\n",
       "      <td>TR</td>\n",
       "      <td>NaN</td>\n",
       "      <td>Xavierallard</td>\n",
       "      <td>There is a lot of traffic there and little spa...</td>\n",
       "      <td>2011-03-15 12:52:11.000000</td>\n",
       "      <td>1</td>\n",
       "      <td>0</td>\n",
       "      <td></td>\n",
       "      <td>NaN</td>\n",
       "      <td>NaN</td>\n",
       "      <td>None</td>\n",
       "      <td>None</td>\n",
       "      <td>NaN</td>\n",
       "      <td>1.00</td>\n",
       "    </tr>\n",
       "    <tr>\n",
       "      <th>4</th>\n",
       "      <td>4</td>\n",
       "      <td>30.17</td>\n",
       "      <td>67.00</td>\n",
       "      <td>3.00</td>\n",
       "      <td>PK</td>\n",
       "      <td>NaN</td>\n",
       "      <td>None</td>\n",
       "      <td>None</td>\n",
       "      <td>None</td>\n",
       "      <td>1</td>\n",
       "      <td>0</td>\n",
       "      <td></td>\n",
       "      <td>NaN</td>\n",
       "      <td>NaN</td>\n",
       "      <td>None</td>\n",
       "      <td>None</td>\n",
       "      <td>NaN</td>\n",
       "      <td>NaN</td>\n",
       "    </tr>\n",
       "  </tbody>\n",
       "</table>\n",
       "</div>"
      ],
      "text/plain": [
       "   id   lat   lon  rating country  wait      nickname  \\\n",
       "0   0 40.97 27.51    3.00      TR   NaN      Tamergem   \n",
       "1   1 32.07 34.79    4.00      IL   NaN          None   \n",
       "2   2 41.73 27.22    4.00      TR   NaN          None   \n",
       "3   3 41.10 29.01    3.00      TR   NaN  Xavierallard   \n",
       "4   4 30.17 67.00    3.00      PK   NaN          None   \n",
       "\n",
       "                                             comment  \\\n",
       "0  If you avoid the mini busses, you can get on a...   \n",
       "1                                               None   \n",
       "2                                               None   \n",
       "3  There is a lot of traffic there and little spa...   \n",
       "4                                               None   \n",
       "\n",
       "                     datetime  reviewed  banned ip  dest_lat  dest_lon signal  \\\n",
       "0  2011-05-26 10:06:17.000000         1       0          NaN       NaN   None   \n",
       "1                        None         1       0          NaN       NaN   None   \n",
       "2                        None         1       0          NaN       NaN   None   \n",
       "3  2011-03-15 12:52:11.000000         1       0          NaN       NaN   None   \n",
       "4                        None         1       0          NaN       NaN   None   \n",
       "\n",
       "  ride_datetime  user_id  from_hitchwiki  \n",
       "0          None      NaN            1.00  \n",
       "1          None      NaN             NaN  \n",
       "2          None      NaN             NaN  \n",
       "3          None      NaN            1.00  \n",
       "4          None      NaN             NaN  "
      ]
     },
     "execution_count": 3,
     "metadata": {},
     "output_type": "execute_result"
    }
   ],
   "source": [
    "points.head()"
   ]
  },
  {
   "cell_type": "code",
   "execution_count": 4,
   "metadata": {},
   "outputs": [
    {
     "data": {
      "text/plain": [
       "2562"
      ]
     },
     "execution_count": 4,
     "metadata": {},
     "output_type": "execute_result"
    }
   ],
   "source": [
    "hitchwiki_users = points[points['from_hitchwiki'] == 1.0].nickname.unique()\n",
    "len(hitchwiki_users)"
   ]
  },
  {
   "cell_type": "code",
   "execution_count": 5,
   "metadata": {},
   "outputs": [
    {
     "data": {
      "text/plain": [
       "array(['Tamergem', 'Xavierallard', 'Rozwal', ..., 'Lunasis', 'Francagini',\n",
       "       'Silverness'], shape=(2562,), dtype=object)"
      ]
     },
     "execution_count": 5,
     "metadata": {},
     "output_type": "execute_result"
    }
   ],
   "source": [
    "hitchwiki_users"
   ]
  },
  {
   "cell_type": "code",
   "execution_count": null,
   "metadata": {},
   "outputs": [],
   "source": [
    "import requests\n",
    "\n",
    "S = requests.Session()\n",
    "\n",
    "URL = \"https://hitchwiki.org/en/api.php\"\n",
    "\n",
    "def get_wiki_user(name):\n",
    "    try:\n",
    "        PARAMS = {\n",
    "            \"action\": \"query\",\n",
    "            \"format\": \"json\",\n",
    "            \"list\": \"users\",\n",
    "            \"ususers\": name,\n",
    "            \"usprop\": \"blockinfo|groups|editcount|registration|emailable|gender\"\n",
    "        }\n",
    "\n",
    "        R = S.get(url=URL, params=PARAMS)\n",
    "        DATA = R.json()\n",
    "\n",
    "        return DATA[\"query\"][\"users\"][0][\"gender\"]\n",
    "    except Exception as e:\n",
    "        print(f\"Error fetching data for user {name}: {e}\")\n",
    "        return None\n",
    "\n",
    "genders = []\n",
    "\n",
    "for u in tqdm(hitchwiki_users):\n",
    "    genders.append((u, get_wiki_user(u)))"
   ]
  },
  {
   "cell_type": "code",
   "execution_count": 7,
   "metadata": {},
   "outputs": [
    {
     "data": {
      "text/plain": [
       "gender\n",
       "unknown    1940\n",
       "male        224\n",
       "female       48\n",
       "Name: count, dtype: int64"
      ]
     },
     "execution_count": 7,
     "metadata": {},
     "output_type": "execute_result"
    }
   ],
   "source": [
    "users = pd.DataFrame(genders, columns=['nickname', \"gender\"])\n",
    "users.gender.value_counts()"
   ]
  },
  {
   "cell_type": "code",
   "execution_count": 12,
   "metadata": {},
   "outputs": [],
   "source": [
    "users.to_csv('hitchwiki_users.csv', index=False)"
   ]
  },
  {
   "cell_type": "code",
   "execution_count": 10,
   "metadata": {},
   "outputs": [],
   "source": [
    "users = pd.read_csv('hitchwiki_users.csv')"
   ]
  },
  {
   "cell_type": "code",
   "execution_count": 16,
   "metadata": {},
   "outputs": [
    {
     "data": {
      "text/html": [
       "<div>\n",
       "<style scoped>\n",
       "    .dataframe tbody tr th:only-of-type {\n",
       "        vertical-align: middle;\n",
       "    }\n",
       "\n",
       "    .dataframe tbody tr th {\n",
       "        vertical-align: top;\n",
       "    }\n",
       "\n",
       "    .dataframe thead th {\n",
       "        text-align: right;\n",
       "    }\n",
       "</style>\n",
       "<table border=\"1\" class=\"dataframe\">\n",
       "  <thead>\n",
       "    <tr style=\"text-align: right;\">\n",
       "      <th></th>\n",
       "      <th>nickname</th>\n",
       "      <th>gender</th>\n",
       "    </tr>\n",
       "  </thead>\n",
       "  <tbody>\n",
       "    <tr>\n",
       "      <th>0</th>\n",
       "      <td>Tamergem</td>\n",
       "      <td>unknown</td>\n",
       "    </tr>\n",
       "    <tr>\n",
       "      <th>1</th>\n",
       "      <td>Xavierallard</td>\n",
       "      <td>male</td>\n",
       "    </tr>\n",
       "    <tr>\n",
       "      <th>2</th>\n",
       "      <td>Rozwal</td>\n",
       "      <td>unknown</td>\n",
       "    </tr>\n",
       "    <tr>\n",
       "      <th>3</th>\n",
       "      <td>Greg Pelka</td>\n",
       "      <td>male</td>\n",
       "    </tr>\n",
       "    <tr>\n",
       "      <th>4</th>\n",
       "      <td>Duvik</td>\n",
       "      <td>unknown</td>\n",
       "    </tr>\n",
       "  </tbody>\n",
       "</table>\n",
       "</div>"
      ],
      "text/plain": [
       "       nickname   gender\n",
       "0      Tamergem  unknown\n",
       "1  Xavierallard     male\n",
       "2        Rozwal  unknown\n",
       "3    Greg Pelka     male\n",
       "4         Duvik  unknown"
      ]
     },
     "execution_count": 16,
     "metadata": {},
     "output_type": "execute_result"
    }
   ],
   "source": [
    "users.head()"
   ]
  },
  {
   "cell_type": "code",
   "execution_count": 15,
   "metadata": {},
   "outputs": [
    {
     "data": {
      "text/html": [
       "<div>\n",
       "<style scoped>\n",
       "    .dataframe tbody tr th:only-of-type {\n",
       "        vertical-align: middle;\n",
       "    }\n",
       "\n",
       "    .dataframe tbody tr th {\n",
       "        vertical-align: top;\n",
       "    }\n",
       "\n",
       "    .dataframe thead th {\n",
       "        text-align: right;\n",
       "    }\n",
       "</style>\n",
       "<table border=\"1\" class=\"dataframe\">\n",
       "  <thead>\n",
       "    <tr style=\"text-align: right;\">\n",
       "      <th></th>\n",
       "      <th>id</th>\n",
       "      <th>lat</th>\n",
       "      <th>lon</th>\n",
       "      <th>rating</th>\n",
       "      <th>country</th>\n",
       "      <th>wait</th>\n",
       "      <th>nickname</th>\n",
       "      <th>comment</th>\n",
       "      <th>datetime</th>\n",
       "      <th>reviewed</th>\n",
       "      <th>banned</th>\n",
       "      <th>ip</th>\n",
       "      <th>dest_lat</th>\n",
       "      <th>dest_lon</th>\n",
       "      <th>signal</th>\n",
       "      <th>ride_datetime</th>\n",
       "      <th>user_id</th>\n",
       "      <th>from_hitchwiki</th>\n",
       "    </tr>\n",
       "  </thead>\n",
       "  <tbody>\n",
       "    <tr>\n",
       "      <th>0</th>\n",
       "      <td>0</td>\n",
       "      <td>40.97</td>\n",
       "      <td>27.51</td>\n",
       "      <td>3.00</td>\n",
       "      <td>TR</td>\n",
       "      <td>NaN</td>\n",
       "      <td>Tamergem</td>\n",
       "      <td>If you avoid the mini busses, you can get on a...</td>\n",
       "      <td>2011-05-26 10:06:17</td>\n",
       "      <td>1</td>\n",
       "      <td>0</td>\n",
       "      <td></td>\n",
       "      <td>NaN</td>\n",
       "      <td>NaN</td>\n",
       "      <td>None</td>\n",
       "      <td>None</td>\n",
       "      <td>NaN</td>\n",
       "      <td>1.00</td>\n",
       "    </tr>\n",
       "    <tr>\n",
       "      <th>1</th>\n",
       "      <td>1</td>\n",
       "      <td>32.07</td>\n",
       "      <td>34.79</td>\n",
       "      <td>4.00</td>\n",
       "      <td>IL</td>\n",
       "      <td>NaN</td>\n",
       "      <td>None</td>\n",
       "      <td>None</td>\n",
       "      <td>NaT</td>\n",
       "      <td>1</td>\n",
       "      <td>0</td>\n",
       "      <td></td>\n",
       "      <td>NaN</td>\n",
       "      <td>NaN</td>\n",
       "      <td>None</td>\n",
       "      <td>None</td>\n",
       "      <td>NaN</td>\n",
       "      <td>NaN</td>\n",
       "    </tr>\n",
       "    <tr>\n",
       "      <th>2</th>\n",
       "      <td>2</td>\n",
       "      <td>41.73</td>\n",
       "      <td>27.22</td>\n",
       "      <td>4.00</td>\n",
       "      <td>TR</td>\n",
       "      <td>NaN</td>\n",
       "      <td>None</td>\n",
       "      <td>None</td>\n",
       "      <td>NaT</td>\n",
       "      <td>1</td>\n",
       "      <td>0</td>\n",
       "      <td></td>\n",
       "      <td>NaN</td>\n",
       "      <td>NaN</td>\n",
       "      <td>None</td>\n",
       "      <td>None</td>\n",
       "      <td>NaN</td>\n",
       "      <td>NaN</td>\n",
       "    </tr>\n",
       "    <tr>\n",
       "      <th>3</th>\n",
       "      <td>3</td>\n",
       "      <td>41.10</td>\n",
       "      <td>29.01</td>\n",
       "      <td>3.00</td>\n",
       "      <td>TR</td>\n",
       "      <td>NaN</td>\n",
       "      <td>Xavierallard</td>\n",
       "      <td>There is a lot of traffic there and little spa...</td>\n",
       "      <td>2011-03-15 12:52:11</td>\n",
       "      <td>1</td>\n",
       "      <td>0</td>\n",
       "      <td></td>\n",
       "      <td>NaN</td>\n",
       "      <td>NaN</td>\n",
       "      <td>None</td>\n",
       "      <td>None</td>\n",
       "      <td>NaN</td>\n",
       "      <td>1.00</td>\n",
       "    </tr>\n",
       "    <tr>\n",
       "      <th>4</th>\n",
       "      <td>4</td>\n",
       "      <td>30.17</td>\n",
       "      <td>67.00</td>\n",
       "      <td>3.00</td>\n",
       "      <td>PK</td>\n",
       "      <td>NaN</td>\n",
       "      <td>None</td>\n",
       "      <td>None</td>\n",
       "      <td>NaT</td>\n",
       "      <td>1</td>\n",
       "      <td>0</td>\n",
       "      <td></td>\n",
       "      <td>NaN</td>\n",
       "      <td>NaN</td>\n",
       "      <td>None</td>\n",
       "      <td>None</td>\n",
       "      <td>NaN</td>\n",
       "      <td>NaN</td>\n",
       "    </tr>\n",
       "  </tbody>\n",
       "</table>\n",
       "</div>"
      ],
      "text/plain": [
       "   id   lat   lon  rating country  wait      nickname  \\\n",
       "0   0 40.97 27.51    3.00      TR   NaN      Tamergem   \n",
       "1   1 32.07 34.79    4.00      IL   NaN          None   \n",
       "2   2 41.73 27.22    4.00      TR   NaN          None   \n",
       "3   3 41.10 29.01    3.00      TR   NaN  Xavierallard   \n",
       "4   4 30.17 67.00    3.00      PK   NaN          None   \n",
       "\n",
       "                                             comment            datetime  \\\n",
       "0  If you avoid the mini busses, you can get on a... 2011-05-26 10:06:17   \n",
       "1                                               None                 NaT   \n",
       "2                                               None                 NaT   \n",
       "3  There is a lot of traffic there and little spa... 2011-03-15 12:52:11   \n",
       "4                                               None                 NaT   \n",
       "\n",
       "   reviewed  banned ip  dest_lat  dest_lon signal ride_datetime  user_id  \\\n",
       "0         1       0          NaN       NaN   None          None      NaN   \n",
       "1         1       0          NaN       NaN   None          None      NaN   \n",
       "2         1       0          NaN       NaN   None          None      NaN   \n",
       "3         1       0          NaN       NaN   None          None      NaN   \n",
       "4         1       0          NaN       NaN   None          None      NaN   \n",
       "\n",
       "   from_hitchwiki  \n",
       "0            1.00  \n",
       "1             NaN  \n",
       "2             NaN  \n",
       "3            1.00  \n",
       "4             NaN  "
      ]
     },
     "execution_count": 15,
     "metadata": {},
     "output_type": "execute_result"
    }
   ],
   "source": [
    "points.head()"
   ]
  },
  {
   "cell_type": "code",
   "execution_count": 19,
   "metadata": {},
   "outputs": [],
   "source": [
    "def match_gender(row):\n",
    "    if row[\"from_hitchwiki\"] == 1.0:\n",
    "        lookup = users.loc[users['nickname'] == row['nickname']]\n",
    "        if lookup.empty:\n",
    "            return None\n",
    "        gender = lookup[\"gender\"].iloc[0]\n",
    "        if gender == \"unknown\":\n",
    "            return None\n",
    "        return gender\n",
    "    return None"
   ]
  },
  {
   "cell_type": "code",
   "execution_count": 20,
   "metadata": {},
   "outputs": [],
   "source": [
    "points[\"gender\"] = points.apply(match_gender, axis=1)"
   ]
  },
  {
   "cell_type": "code",
   "execution_count": 21,
   "metadata": {},
   "outputs": [
    {
     "data": {
      "text/plain": [
       "3359"
      ]
     },
     "execution_count": 21,
     "metadata": {},
     "output_type": "execute_result"
    }
   ],
   "source": [
    "len(points[points[\"gender\"].notna()])"
   ]
  },
  {
   "cell_type": "code",
   "execution_count": 22,
   "metadata": {},
   "outputs": [
    {
     "data": {
      "text/plain": [
       "gender\n",
       "male      2879\n",
       "female     480\n",
       "Name: count, dtype: int64"
      ]
     },
     "execution_count": 22,
     "metadata": {},
     "output_type": "execute_result"
    }
   ],
   "source": [
    "points.gender.value_counts()"
   ]
  },
  {
   "cell_type": "code",
   "execution_count": 28,
   "metadata": {},
   "outputs": [
    {
     "data": {
      "text/plain": [
       "272"
      ]
     },
     "execution_count": 28,
     "metadata": {},
     "output_type": "execute_result"
    }
   ],
   "source": [
    "submitters = points[[\"nickname\",\"gender\"]].drop_duplicates()\n",
    "submitters = submitters[submitters.gender.notna()]\n",
    "len(submitters)"
   ]
  },
  {
   "cell_type": "code",
   "execution_count": 32,
   "metadata": {},
   "outputs": [
    {
     "data": {
      "text/plain": [
       "gender\n",
       "male     0.82\n",
       "female   0.18\n",
       "Name: proportion, dtype: float64"
      ]
     },
     "execution_count": 32,
     "metadata": {},
     "output_type": "execute_result"
    }
   ],
   "source": [
    "submitters.gender.value_counts(normalize=True)"
   ]
  }
 ],
 "metadata": {
  "kernelspec": {
   "display_name": "hitchmap-data",
   "language": "python",
   "name": "python3"
  },
  "language_info": {
   "codemirror_mode": {
    "name": "ipython",
    "version": 3
   },
   "file_extension": ".py",
   "mimetype": "text/x-python",
   "name": "python",
   "nbconvert_exporter": "python",
   "pygments_lexer": "ipython3",
   "version": "3.10.17"
  },
  "orig_nbformat": 4
 },
 "nbformat": 4,
 "nbformat_minor": 2
}
