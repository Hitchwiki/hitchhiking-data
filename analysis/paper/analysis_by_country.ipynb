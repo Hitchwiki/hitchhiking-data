{
  "cells": [
    {
      "cell_type": "code",
      "execution_count": null,
      "metadata": {
        "colab": {
          "base_uri": "https://localhost:8080/"
        },
        "id": "BISKg2fq8xmJ",
        "outputId": "a7aaade4-b9d6-4f66-c85b-a379336cf1a5"
      },
      "outputs": [],
      "source": [
        "! pip install folium\n",
        "! pip install pycountry\n",
        "! curl https://hitchmap.com/dump.sqlite > points.sqlite"
      ]
    },
    {
      "cell_type": "code",
      "execution_count": null,
      "metadata": {
        "id": "KTmoCPBz84Fq"
      },
      "outputs": [],
      "source": [
        "import folium\n",
        "import sqlite3\n",
        "import pandas as pd\n",
        "from tqdm import tqdm\n",
        "import numpy as np\n",
        "import pycountry\n",
        "import requests"
      ]
    },
    {
      "cell_type": "code",
      "execution_count": null,
      "metadata": {
        "id": "SfOUwinE-b5H"
      },
      "outputs": [],
      "source": [
        "fn = 'points.sqlite'\n",
        "points = pd.read_sql('select * from points where not banned', sqlite3.connect(fn))"
      ]
    },
    {
      "cell_type": "code",
      "execution_count": null,
      "metadata": {
        "colab": {
          "base_uri": "https://localhost:8080/"
        },
        "id": "1ueCAgAr-b7l",
        "outputId": "604d04da-5118-4da4-b589-f2f716b72f4f"
      },
      "outputs": [],
      "source": [
        "country_wait = points.groupby('country')['wait'].mean().reset_index().rename(columns={'wait': 'avg_wait'})\n",
        "len(country_wait)\n"
      ]
    },
    {
      "cell_type": "code",
      "execution_count": null,
      "metadata": {
        "id": "BXwdOWgYA4QP"
      },
      "outputs": [],
      "source": [
        "country_wait[\"avg_wait\"] = np.clip(country_wait[\"avg_wait\"], 0, 100).tolist()"
      ]
    },
    {
      "cell_type": "code",
      "execution_count": null,
      "metadata": {
        "id": "BkgeXd1kAYpq"
      },
      "outputs": [],
      "source": [
        "def alpha2_to_alpha3(alpha2_code):\n",
        "    try:\n",
        "        country = pycountry.countries.get(alpha_2=alpha2_code.upper())\n",
        "        return country.alpha_3 if country else None\n",
        "    except:\n",
        "        return None"
      ]
    },
    {
      "cell_type": "code",
      "execution_count": null,
      "metadata": {
        "id": "kutWgjj4AeVC"
      },
      "outputs": [],
      "source": [
        "country_wait[\"code\"] = country_wait[\"country\"].apply(alpha2_to_alpha3)"
      ]
    },
    {
      "cell_type": "code",
      "execution_count": null,
      "metadata": {
        "colab": {
          "base_uri": "https://localhost:8080/",
          "height": 796
        },
        "id": "AwZUQVOm8z9y",
        "outputId": "c9c99a13-e467-4feb-fbcf-ffc584ea31da"
      },
      "outputs": [],
      "source": [
        "url = 'https://raw.githubusercontent.com/python-visualization/folium/master/examples/data/world-countries.json'\n",
        "geo_json_data = requests.get(url).json()\n",
        "\n",
        "# Create a folium map\n",
        "m = folium.Map(location=[20, 0], zoom_start=2)\n",
        "\n",
        "# Add the Choropleth\n",
        "folium.Choropleth(\n",
        "    geo_data=geo_json_data,\n",
        "    name='choropleth',\n",
        "    data=country_wait,\n",
        "    columns=['code', 'avg_wait'],\n",
        "    key_on='feature.id',\n",
        "    fill_color='RdYlGn_r',\n",
        "    fill_opacity=0.7,\n",
        "    line_opacity=0.2,\n",
        "    nan_fill_color=\"white\",\n",
        "    bins=[0, 10, 20, 30, 40, 50, 60, 70, 80, 90, 100],\n",
        "    legend_name='Average Waiting Time',\n",
        ").add_to(m)\n",
        "\n",
        "# Optional: add layer control\n",
        "folium.LayerControl().add_to(m)\n",
        "\n",
        "# Save screenshot\n",
        "m"
      ]
    },
    {
      "cell_type": "code",
      "execution_count": null,
      "metadata": {
        "colab": {
          "base_uri": "https://localhost:8080/",
          "height": 217
        },
        "id": "4DnbuI2t80Cw",
        "outputId": "aee8ddc5-47dc-4fd6-efa4-7debdacd257e"
      },
      "outputs": [],
      "source": [
        "# from https://data.worldbank.org/indicator/EN.POP.DNST?name_desc=false\n",
        "pop_density = pd.read_csv(\"API_EN.POP.DNST_DS2_en_csv_v2_85433.csv\", header=2)\n",
        "pop_density.head(1)"
      ]
    },
    {
      "cell_type": "code",
      "execution_count": null,
      "metadata": {
        "colab": {
          "base_uri": "https://localhost:8080/"
        },
        "id": "CmR7X5QbJOWb",
        "outputId": "abd50700-e7e6-446f-a557-3bb6344d191b"
      },
      "outputs": [],
      "source": [
        "country_samples = pd.DataFrame(points[\"country\"].value_counts())\n",
        "country_samples[\"code\"] = country_samples.index.map(alpha2_to_alpha3)\n",
        "country_samples = pd.merge(country_samples, pop_density[[\"Country Code\", \"2022\"]], left_on=\"code\", right_on=\"Country Code\", how=\"left\")\n",
        "country_samples[\"normalized_count\"] = country_samples[\"count\"] / country_samples[\"2022\"]\n",
        "country_samples = country_samples.sort_values(by=\"normalized_count\", ascending=False)\n",
        "len(country_samples)"
      ]
    },
    {
      "cell_type": "code",
      "execution_count": null,
      "metadata": {
        "colab": {
          "base_uri": "https://localhost:8080/",
          "height": 677
        },
        "id": "SSgk-LrJJi4L",
        "outputId": "53dcf715-2917-4b86-9346-79e3eb4a0b2f"
      },
      "outputs": [],
      "source": [
        "country_samples.head(20)"
      ]
    },
    {
      "cell_type": "code",
      "execution_count": null,
      "metadata": {
        "colab": {
          "base_uri": "https://localhost:8080/",
          "height": 165
        },
        "id": "TMnmJjRaLZZU",
        "outputId": "ece40d74-e021-4e7c-ea31-177aff06d20c"
      },
      "outputs": [],
      "source": [
        "# from https://data.worldbank.org/indicator/SP.POP.TOTL\n",
        "pop_total = pd.read_csv(\"API_SP.POP.TOTL_DS2_en_csv_v2_131993.csv\", header=2)\n",
        "pop_total.head(1)"
      ]
    },
    {
      "cell_type": "code",
      "execution_count": null,
      "metadata": {
        "colab": {
          "base_uri": "https://localhost:8080/"
        },
        "id": "6gWTqY7xLZZW",
        "outputId": "e800dbb2-e438-4616-9749-d47225818768"
      },
      "outputs": [],
      "source": [
        "country_samples = pd.DataFrame(points[\"country\"].value_counts())\n",
        "country_samples[\"code\"] = country_samples.index.map(alpha2_to_alpha3)\n",
        "country_samples = pd.merge(country_samples, pop_total[[\"Country Code\", \"2023\"]], left_on=\"code\", right_on=\"Country Code\", how=\"left\")\n",
        "country_samples[\"normalized_count\"] = country_samples[\"count\"] / country_samples[\"2023\"]\n",
        "country_samples = country_samples.sort_values(by=\"normalized_count\", ascending=False)\n",
        "len(country_samples)"
      ]
    },
    {
      "cell_type": "code",
      "execution_count": null,
      "metadata": {
        "colab": {
          "base_uri": "https://localhost:8080/",
          "height": 990
        },
        "id": "aav1eIeFLpv0",
        "outputId": "a4d63e12-750c-4df3-fdbc-e3dc440f2ad2"
      },
      "outputs": [],
      "source": [
        "country_samples.head(30)"
      ]
    },
    {
      "cell_type": "code",
      "execution_count": null,
      "metadata": {
        "colab": {
          "base_uri": "https://localhost:8080/",
          "height": 165
        },
        "id": "ndN-F9l-NBO7",
        "outputId": "a9b097d5-3920-4778-9423-568c774f2cb1"
      },
      "outputs": [],
      "source": [
        "# from https://data.worldbank.org/indicator/AG.LND.TOTL.K2\n",
        "size = pd.read_csv(\"API_AG.LND.TOTL.K2_DS2_en_csv_v2_85432.csv\", header=2)\n",
        "size.head(1)"
      ]
    },
    {
      "cell_type": "code",
      "execution_count": null,
      "metadata": {
        "colab": {
          "base_uri": "https://localhost:8080/"
        },
        "id": "XgygooZVNBO8",
        "outputId": "45f08a5c-d59f-41aa-8803-c7573c1ae32f"
      },
      "outputs": [],
      "source": [
        "country_samples = pd.DataFrame(points[\"country\"].value_counts())\n",
        "country_samples[\"code\"] = country_samples.index.map(alpha2_to_alpha3)\n",
        "country_samples = pd.merge(country_samples, size[[\"Country Code\", \"2022\"]], left_on=\"code\", right_on=\"Country Code\", how=\"left\")\n",
        "country_samples[\"normalized_count\"] = country_samples[\"count\"] / country_samples[\"2022\"]\n",
        "country_samples = country_samples.sort_values(by=\"normalized_count\", ascending=False)\n",
        "country_samples[\"normalized_count\"] = np.clip(country_samples[\"normalized_count\"], 0, 0.08).tolist()\n",
        "len(country_samples)"
      ]
    },
    {
      "cell_type": "code",
      "execution_count": null,
      "metadata": {
        "colab": {
          "base_uri": "https://localhost:8080/",
          "height": 990
        },
        "id": "nOQUF_MHNBO9",
        "outputId": "e4a3fa90-1294-4bde-aa3f-b5c1ffb46a92"
      },
      "outputs": [],
      "source": [
        "country_samples.head(30)"
      ]
    },
    {
      "cell_type": "code",
      "execution_count": null,
      "metadata": {
        "colab": {
          "base_uri": "https://localhost:8080/",
          "height": 796
        },
        "id": "64Z2FYMXNvCk",
        "outputId": "2e523468-63de-4ecd-9705-0355346b1c58"
      },
      "outputs": [],
      "source": [
        "url = 'https://raw.githubusercontent.com/python-visualization/folium/master/examples/data/world-countries.json'\n",
        "geo_json_data = requests.get(url).json()\n",
        "\n",
        "# Create a folium map\n",
        "m = folium.Map(location=[20, 0], zoom_start=2)\n",
        "\n",
        "# Add the Choropleth\n",
        "folium.Choropleth(\n",
        "    geo_data=geo_json_data,\n",
        "    name='choropleth',\n",
        "    data=country_samples,\n",
        "    columns=['code', 'normalized_count'],\n",
        "    key_on='feature.id',\n",
        "    fill_color='YlOrBr',\n",
        "    fill_opacity=1.0,\n",
        "    line_opacity=0.2,\n",
        "    nan_fill_color=\"white\",\n",
        "    bins=20,\n",
        "    legend_name='Samples / km^2',\n",
        ").add_to(m)\n",
        "\n",
        "# Optional: add layer control\n",
        "folium.LayerControl().add_to(m)\n",
        "\n",
        "# Save screenshot\n",
        "m"
      ]
    }
  ],
  "metadata": {
    "colab": {
      "provenance": []
    },
    "kernelspec": {
      "display_name": "Python 3",
      "name": "python3"
    },
    "language_info": {
      "name": "python"
    }
  },
  "nbformat": 4,
  "nbformat_minor": 0
}
