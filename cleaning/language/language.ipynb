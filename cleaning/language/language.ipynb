{
 "cells": [
  {
   "cell_type": "code",
   "execution_count": 9,
   "metadata": {},
   "outputs": [],
   "source": [
    "import sqlite3\n",
    "import pandas as pd\n",
    "from lingua import Language, LanguageDetectorBuilder\n",
    "from tqdm import tqdm\n",
    "tqdm.pandas()"
   ]
  },
  {
   "cell_type": "code",
   "execution_count": 2,
   "metadata": {},
   "outputs": [],
   "source": [
    "fn = '../dump.sqlite'\n",
    "points = pd.read_sql('select * from points where not banned', sqlite3.connect(fn))"
   ]
  },
  {
   "cell_type": "code",
   "execution_count": 6,
   "metadata": {},
   "outputs": [
    {
     "data": {
      "text/plain": [
       "Language.ENGLISH"
      ]
     },
     "execution_count": 6,
     "metadata": {},
     "output_type": "execute_result"
    }
   ],
   "source": [
    "languages = [Language.ENGLISH, Language.FRENCH, Language.GERMAN, Language.SPANISH]\n",
    "detector = LanguageDetectorBuilder.from_languages(*languages).build()\n",
    "language = detector.detect_language_of(\"languages are awesome\")\n",
    "language\n",
    "Language.ENGLISH\n",
    "language.iso_code_639_1\n",
    "IsoCode639_1.EN\n",
    "language.iso_code_639_1.name"
   ]
  },
  {
   "cell_type": "code",
   "execution_count": 11,
   "metadata": {},
   "outputs": [],
   "source": [
    "# all languages\n",
    "languages = []\n",
    "\n",
    "def detect(text):\n",
    "    if text is not None:\n",
    "        detector = LanguageDetectorBuilder.from_all_languages().build()\n",
    "        language = detector.detect_language_of(text)\n",
    "        if language is not None:\n",
    "            return language.iso_code_639_1.name\n",
    "        else:\n",
    "            print(text)\n",
    "            return None        \n",
    "    else:\n",
    "        return None"
   ]
  },
  {
   "cell_type": "code",
   "execution_count": 12,
   "metadata": {},
   "outputs": [
    {
     "name": "stderr",
     "output_type": "stream",
     "text": [
      "  8%|▊         | 4534/55857 [00:00<00:07, 7323.58it/s]"
     ]
    },
    {
     "name": "stdout",
     "output_type": "stream",
     "text": [
      ":) :) :)\n",
      ":)\n"
     ]
    },
    {
     "name": "stderr",
     "output_type": "stream",
     "text": [
      " 29%|██▉       | 16243/55857 [00:06<00:15, 2599.29it/s]"
     ]
    },
    {
     "name": "stdout",
     "output_type": "stream",
     "text": [
      "+1\n"
     ]
    },
    {
     "name": "stderr",
     "output_type": "stream",
     "text": [
      " 31%|███       | 17210/55857 [00:06<00:12, 3071.54it/s]"
     ]
    },
    {
     "name": "stdout",
     "output_type": "stream",
     "text": [
      "123\n"
     ]
    },
    {
     "name": "stderr",
     "output_type": "stream",
     "text": [
      " 58%|█████▊    | 32541/55857 [00:10<00:08, 2720.66it/s]"
     ]
    },
    {
     "name": "stdout",
     "output_type": "stream",
     "text": [
      "\n",
      "\n",
      "222\n"
     ]
    },
    {
     "name": "stderr",
     "output_type": "stream",
     "text": [
      " 71%|███████▏  | 39799/55857 [00:15<00:10, 1481.55it/s]"
     ]
    },
    {
     "name": "stdout",
     "output_type": "stream",
     "text": [
      " \n"
     ]
    },
    {
     "name": "stderr",
     "output_type": "stream",
     "text": [
      " 81%|████████  | 45071/55857 [00:19<00:07, 1440.14it/s]"
     ]
    },
    {
     "name": "stdout",
     "output_type": "stream",
     "text": [
      "-23.129553, -46.950233\n"
     ]
    },
    {
     "name": "stderr",
     "output_type": "stream",
     "text": [
      " 95%|█████████▌| 53071/55857 [00:24<00:01, 1603.65it/s]"
     ]
    },
    {
     "name": "stdout",
     "output_type": "stream",
     "text": [
      "\n",
      "\n"
     ]
    },
    {
     "name": "stderr",
     "output_type": "stream",
     "text": [
      "100%|██████████| 55857/55857 [00:26<00:00, 2100.39it/s]\n"
     ]
    }
   ],
   "source": [
    "points['language'] = points['comment'].progress_apply(detect)"
   ]
  },
  {
   "cell_type": "code",
   "execution_count": 13,
   "metadata": {},
   "outputs": [
    {
     "data": {
      "text/plain": [
       "language\n",
       "EN    34113\n",
       "FR      738\n",
       "NL      451\n",
       "DE      395\n",
       "PL      234\n",
       "TL      219\n",
       "LA      214\n",
       "ES      197\n",
       "PT      159\n",
       "RU      137\n",
       "CS       83\n",
       "SV       66\n",
       "RO       64\n",
       "DA       63\n",
       "HU       60\n",
       "CY       53\n",
       "SK       49\n",
       "NB       47\n",
       "TR       46\n",
       "AF       36\n",
       "IT       36\n",
       "FI       32\n",
       "LT       32\n",
       "EO       30\n",
       "SL       26\n",
       "BS       26\n",
       "SN       23\n",
       "YO       22\n",
       "ET       22\n",
       "CA       21\n",
       "SO       19\n",
       "NN       19\n",
       "XH       17\n",
       "HR       17\n",
       "TN       13\n",
       "TS       12\n",
       "UK       12\n",
       "SQ       12\n",
       "LV       12\n",
       "SW       10\n",
       "EU        9\n",
       "ST        8\n",
       "IS        7\n",
       "GA        7\n",
       "HE        5\n",
       "LG        4\n",
       "ID        4\n",
       "ZU        3\n",
       "BG        3\n",
       "KA        3\n",
       "BE        2\n",
       "SR        1\n",
       "VI        1\n",
       "MI        1\n",
       "FA        1\n",
       "JA        1\n",
       "Name: count, dtype: int64"
      ]
     },
     "execution_count": 13,
     "metadata": {},
     "output_type": "execute_result"
    }
   ],
   "source": [
    "points.language.value_counts()"
   ]
  }
 ],
 "metadata": {
  "kernelspec": {
   "display_name": "heatchmap",
   "language": "python",
   "name": "python3"
  },
  "language_info": {
   "codemirror_mode": {
    "name": "ipython",
    "version": 3
   },
   "file_extension": ".py",
   "mimetype": "text/x-python",
   "name": "python",
   "nbconvert_exporter": "python",
   "pygments_lexer": "ipython3",
   "version": "3.10.12"
  }
 },
 "nbformat": 4,
 "nbformat_minor": 2
}
