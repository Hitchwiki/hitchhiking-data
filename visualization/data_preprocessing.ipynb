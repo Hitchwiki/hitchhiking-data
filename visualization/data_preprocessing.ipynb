{
 "cells": [
  {
   "cell_type": "code",
   "execution_count": null,
   "metadata": {},
   "outputs": [],
   "source": [
    "import sqlite3\n",
    "import pandas as pd\n",
    "from matplotlib import pyplot as plt\n",
    "from sklearn.model_selection import train_test_split"
   ]
  },
  {
   "cell_type": "code",
   "execution_count": null,
   "metadata": {},
   "outputs": [],
   "source": [
    "fn = 'dump.sqlite'\n",
    "points = pd.read_sql('select * from points where not banned', sqlite3.connect(fn))\n"
   ]
  },
  {
   "cell_type": "code",
   "execution_count": null,
   "metadata": {},
   "outputs": [],
   "source": [
    "# unnecessary/ unknown features\n",
    "points = points.drop(columns=['banned','ip'])\n",
    "\n",
    "# fokus on basic features\n",
    "points = points[['lat', 'lon', 'wait']]\n",
    "points = points.dropna()"
   ]
  },
  {
   "cell_type": "code",
   "execution_count": null,
   "metadata": {},
   "outputs": [],
   "source": [
    "waiting_time_per_point = points.groupby([\"lat\", \"lon\"]).mean()"
   ]
  },
  {
   "cell_type": "code",
   "execution_count": null,
   "metadata": {},
   "outputs": [],
   "source": [
    "# splitting 60-20-20\n",
    "train, test = train_test_split(waiting_time_per_point, test_size=0.2, random_state=42)\n",
    "train.to_csv(\"data/points_train_val.csv\", index=True) # for cross validation\n",
    "\n",
    "train, val = train_test_split(train, test_size=0.25, random_state=42)"
   ]
  },
  {
   "cell_type": "code",
   "execution_count": null,
   "metadata": {},
   "outputs": [],
   "source": [
    "plt.scatter(train.index.get_level_values('lon'), train.index.get_level_values('lat'), c=train['wait'], cmap='viridis')"
   ]
  },
  {
   "cell_type": "code",
   "execution_count": null,
   "metadata": {},
   "outputs": [],
   "source": [
    "plt.scatter(val.index.get_level_values('lon'), val.index.get_level_values('lat'), c=val['wait'], cmap='viridis')"
   ]
  },
  {
   "cell_type": "code",
   "execution_count": null,
   "metadata": {},
   "outputs": [],
   "source": [
    "plt.scatter(test.index.get_level_values('lon'), test.index.get_level_values('lat'), c=test['wait'], cmap='viridis')"
   ]
  },
  {
   "cell_type": "code",
   "execution_count": null,
   "metadata": {},
   "outputs": [],
   "source": [
    "waiting_time_per_point.to_csv(\"data/points.csv\", index=True)\n",
    "\n",
    "train.to_csv(\"data/points_train.csv\", index=True)\n",
    "train.to_csv(\"data/train.csv\", index=True)\n",
    "val.to_csv(\"data/points_val.csv\", index=True)\n",
    "test.to_csv(\"data/points_test.csv\", index=True)"
   ]
  },
  {
   "cell_type": "code",
   "execution_count": null,
   "metadata": {},
   "outputs": [],
   "source": [
    "len(train), len(val), len(test)"
   ]
  },
  {
   "cell_type": "code",
   "execution_count": null,
   "metadata": {},
   "outputs": [],
   "source": [
    "# kaggle\n",
    "val['Usage'] = 'Public'\n",
    "test['Usage'] = 'Private'\n",
    "kaggle_test = pd.concat([val, test])\n",
    "kaggle_test.to_csv(\"data/test.csv\", index=True)\n",
    "\n",
    "train = pd.read_csv(\"data/train.csv\")\n",
    "test = pd.read_csv(\"data/test.csv\")"
   ]
  },
  {
   "cell_type": "code",
   "execution_count": null,
   "metadata": {},
   "outputs": [],
   "source": [
    "train['id'] = train.index\n",
    "test['id'] = test.index\n",
    "\n",
    "train = train[['id', 'lat', 'lon', 'wait']]\n",
    "solution = test[['id', 'wait', 'Usage']]\n",
    "test = test[['id', 'lat', 'lon']]"
   ]
  },
  {
   "cell_type": "code",
   "execution_count": null,
   "metadata": {},
   "outputs": [],
   "source": [
    "train.to_csv(\"data/train.csv\", index=False)\n",
    "test.to_csv(\"data/test.csv\", index=False)\n",
    "solution.to_csv(\"data/solution.csv\", index=False)"
   ]
  },
  {
   "cell_type": "code",
   "execution_count": null,
   "metadata": {},
   "outputs": [],
   "source": [
    "train[['id', 'wait']].to_csv(\"data/sample_submission.csv\", index=False)"
   ]
  }
 ],
 "metadata": {
  "kernelspec": {
   "display_name": "heatchmap",
   "language": "python",
   "name": "python3"
  },
  "language_info": {
   "codemirror_mode": {
    "name": "ipython",
    "version": 3
   },
   "file_extension": ".py",
   "mimetype": "text/x-python",
   "name": "python",
   "nbconvert_exporter": "python",
   "pygments_lexer": "ipython3",
   "version": "3.10.16"
  },
  "orig_nbformat": 4
 },
 "nbformat": 4,
 "nbformat_minor": 2
}
