{
 "cells": [
  {
   "cell_type": "markdown",
   "metadata": {},
   "source": [
    "# Hitchhiking waiting times across the whole world"
   ]
  },
  {
   "cell_type": "markdown",
   "metadata": {},
   "source": [
    "&#x1f44d; To improve the following maps for the whole hitchhiking community you are able to your own hitchhiking experience with spots and waiting times\n",
    "at [Hitchmap](https://hitchmap.com/). We encourage you to share your experience in especially in the the uncolored areas as we do not have enough data points at this moment to reliably estimate waiting times in those regions. And to out and hitchhike to green the whole world."
   ]
  },
  {
   "cell_type": "code",
   "execution_count": null,
   "metadata": {},
   "outputs": [],
   "source": [
    "map('europe')"
   ]
  },
  {
   "cell_type": "code",
   "execution_count": null,
   "metadata": {},
   "outputs": [],
   "source": [
    "map('north_america')"
   ]
  },
  {
   "cell_type": "code",
   "execution_count": null,
   "metadata": {},
   "outputs": [],
   "source": [
    "map('south_america')"
   ]
  },
  {
   "cell_type": "code",
   "execution_count": null,
   "metadata": {},
   "outputs": [],
   "source": [
    "map('asia')"
   ]
  },
  {
   "cell_type": "code",
   "execution_count": null,
   "metadata": {},
   "outputs": [],
   "source": [
    "map('australia')"
   ]
  },
  {
   "cell_type": "code",
   "execution_count": null,
   "metadata": {},
   "outputs": [],
   "source": [
    "map('africa')"
   ]
  },
  {
   "cell_type": "code",
   "execution_count": null,
   "metadata": {},
   "outputs": [],
   "source": [
    "from utils_imports import *"
   ]
  },
  {
   "cell_type": "markdown",
   "metadata": {},
   "source": [
    "## Some background information"
   ]
  },
  {
   "cell_type": "markdown",
   "metadata": {},
   "source": [
    "To build those maps we used the data provided and collected by [Hitchmap](https://hitchmap.com/) users since 2005 (most extensively from 2010 to 2016). Currently we are using the dump from 04/11/2024.\n",
    "\n",
    "We build a machine learning model to predict how long one would wait in each region. From the known spots we assumed that they give us some information about region close around them as well as regions a little further away from them. With this we aknowledge that hitchhiking waiting times are mainly influenced by culture and certain irregularities in the road network. To learn more about the model we applied read [this blog post](https://tillwenke.github.io/2024/04/21/hitchmap-gp.html).\n",
    "\n",
    "High resolution versions of the currently available maps can be found [here]().\n",
    "\n",
    "To build your own maps and models you can take a look at [our GitHub repository](https://github.com/Hitchwiki/hitchmap-data/tree/main/visualization).\n",
    "\n",
    "If you are interested in the [Hitchmap](https://hitchmap.com/) and miss certain functionalities you can check out [their GitHub repository](https://github.com/bopjesvla/hitch).\n"
   ]
  }
 ],
 "metadata": {
  "kernelspec": {
   "display_name": "Python 3",
   "language": "python",
   "name": "python3"
  },
  "language_info": {
   "codemirror_mode": {
    "name": "ipython",
    "version": 3
   },
   "file_extension": ".py",
   "mimetype": "text/x-python",
   "name": "python",
   "nbconvert_exporter": "python",
   "pygments_lexer": "ipython3",
   "version": "3.10.13"
  }
 },
 "nbformat": 4,
 "nbformat_minor": 2
}
