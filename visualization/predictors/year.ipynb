{
 "cells": [
  {
   "cell_type": "code",
   "execution_count": null,
   "metadata": {},
   "outputs": [],
   "source": [
    "import pandas as pd\n",
    "import numpy as np\n",
    "import seaborn as sns\n",
    "import sys\n",
    "sys.path.append('./utils')\n",
    "from utils_imports import *\n",
    "from gpmap import GPMap, recalc"
   ]
  },
  {
   "cell_type": "markdown",
   "metadata": {},
   "source": [
    "# required RAM"
   ]
  },
  {
   "cell_type": "code",
   "execution_count": null,
   "metadata": {},
   "outputs": [],
   "source": [
    "%load_ext memory_profiler"
   ]
  },
  {
   "cell_type": "code",
   "execution_count": null,
   "metadata": {},
   "outputs": [],
   "source": [
    "# we require 7GB of RAM\n",
    "%memit recalc()"
   ]
  },
  {
   "cell_type": "markdown",
   "metadata": {},
   "source": [
    "# todo: remove pixels from recalc that are in the sea"
   ]
  },
  {
   "cell_type": "code",
   "execution_count": null,
   "metadata": {},
   "outputs": [],
   "source": [
    "res = 1\n",
    "method = \"TransformedTargetRegressorWithUncertainty\"\n",
    "tolerance = 3.0\n",
    "recalc_radius = 800000\n",
    "region = \"world\""
   ]
  },
  {
   "cell_type": "code",
   "execution_count": null,
   "metadata": {},
   "outputs": [],
   "source": [
    "points = get_points(\"dump.sqlite\", begin=pd.Timestamp(\"2024-1-30\"), until=pd.Timestamp(\"2024-3-30\"))\n",
    "points[\"lon\"] = points.geometry.x\n",
    "points[\"lat\"] = points.geometry.y\n",
    "points.head()"
   ]
  },
  {
   "cell_type": "code",
   "execution_count": null,
   "metadata": {},
   "outputs": [],
   "source": [
    "map = MapBasedModel(method=method, region=\"world\", resolution=res, version=\"diff_mar\")\n",
    "map.get_map_grid()\n",
    "recalc_radius_pixels = int(np.ceil(abs(recalc_radius / (map.grid[0][0][0] - map.grid[0][0][1]))))\n",
    "recalc_radius_pixels"
   ]
  },
  {
   "cell_type": "code",
   "execution_count": null,
   "metadata": {},
   "outputs": [],
   "source": [
    "map.get_landmass_raster()\n",
    "landmass = map.landmass_raster"
   ]
  },
  {
   "cell_type": "code",
   "execution_count": null,
   "metadata": {},
   "outputs": [],
   "source": [
    "plt.imshow(landmass, cmap='viridis', interpolation='nearest')\n",
    "\n",
    "# Add a color bar to show the scale\n",
    "plt.colorbar()\n",
    "\n",
    "# Add labels for better understanding (optional)\n",
    "plt.title(\"Heatmap of 2D Array\")\n",
    "plt.xlabel(\"X-axis\")\n",
    "plt.ylabel(\"Y-axis\")\n",
    "\n",
    "# Show the plot\n",
    "plt.show()\n",
    "landmass.shape"
   ]
  },
  {
   "cell_type": "code",
   "execution_count": null,
   "metadata": {},
   "outputs": [],
   "source": [
    "m = MapBasedModel(method=method, region=region, resolution=res, version=\"tif\")\n",
    "\n",
    "m.raw_raster = np.ones(map.grid.shape[1:])\n",
    "\n",
    "m.save_as_raster()\n",
    "\n",
    "nodata = 0\n",
    "with rasterio.open(m.rasterio_path) as heatmap:\n",
    "    start = time.time()\n",
    "    max_map_wait = heatmap.read().max()\n",
    "    min_map_wait = heatmap.read().min()\n",
    "\n",
    "    out_image, out_transform = rasterio.mask.mask(\n",
    "        heatmap, country_shapes, nodata=nodata\n",
    "    )\n",
    "    out_meta = heatmap.meta\n",
    "    print(f\"Time elapsed to transform heatmap: {time.time() - start}\")\n",
    "\n",
    "out_image[0]"
   ]
  },
  {
   "cell_type": "code",
   "execution_count": null,
   "metadata": {},
   "outputs": [],
   "source": [
    "# Open the GeoTIFF file\n",
    "with rasterio.open(new_map_path) as src:\n",
    "    # Read the first band (assuming single-band raster, adjust for multi-band)\n",
    "    numpy_array = src.read(1)"
   ]
  },
  {
   "cell_type": "code",
   "execution_count": null,
   "metadata": {},
   "outputs": [],
   "source": [
    "plt.imshow(numpy_array, cmap='viridis', interpolation='nearest')\n",
    "\n",
    "# Add a color bar to show the scale\n",
    "plt.colorbar()\n",
    "\n",
    "# Add labels for better understanding (optional)\n",
    "plt.title(\"Heatmap of 2D Array\")\n",
    "plt.xlabel(\"X-axis\")\n",
    "plt.ylabel(\"Y-axis\")\n",
    "\n",
    "# Show the plot\n",
    "plt.show()\n",
    "numpy_array.shape"
   ]
  },
  {
   "cell_type": "code",
   "execution_count": null,
   "metadata": {},
   "outputs": [],
   "source": [
    "def pixel_from_point(point) -> tuple[int, int]:\n",
    "    lats = map.Y.transpose()[0]\n",
    "    lat_index = None\n",
    "    for i, lat in enumerate(lats):\n",
    "        if lat >= point[\"lat\"] and point[\"lat\"] >= lats[i+1]:\n",
    "            lat_index = i\n",
    "            break\n",
    "\n",
    "    lons = map.X[0]\n",
    "    lon_index = None\n",
    "    for i, lon in enumerate(lons):\n",
    "        if lon <= point[\"lon\"] and point[\"lon\"] <= lons[i+1]:\n",
    "            lon_index = i\n",
    "            break\n",
    "\n",
    "    return (lat_index, lon_index)"
   ]
  },
  {
   "cell_type": "code",
   "execution_count": null,
   "metadata": {},
   "outputs": [],
   "source": [
    "recalc = np.zeros(map.grid.shape[1:])\n",
    "recalc.shape"
   ]
  },
  {
   "cell_type": "code",
   "execution_count": null,
   "metadata": {},
   "outputs": [],
   "source": [
    "for i, point in points.iterrows():\n",
    "    lat_pixel, lon_pixel = pixel_from_point(point)\n",
    "\n",
    "    for i in range(lat_pixel - recalc_radius_pixels, lat_pixel + recalc_radius_pixels):\n",
    "        for j in range(lon_pixel - recalc_radius_pixels, lon_pixel + recalc_radius_pixels):\n",
    "            if i < 0 or j < 0 or i >= recalc.shape[0] or j >= recalc.shape[1]:\n",
    "                continue\n",
    "            recalc[i, j] = 1"
   ]
  },
  {
   "cell_type": "code",
   "execution_count": null,
   "metadata": {},
   "outputs": [],
   "source": [
    "plt.imshow(recalc, cmap='viridis', interpolation='nearest')\n",
    "\n",
    "# Add a color bar to show the scale\n",
    "plt.colorbar()\n",
    "\n",
    "# Add labels for better understanding (optional)\n",
    "plt.title(\"Heatmap of 2D Array\")\n",
    "plt.xlabel(\"X-axis\")\n",
    "plt.ylabel(\"Y-axis\")\n",
    "\n",
    "# Show the plot\n",
    "plt.show()"
   ]
  },
  {
   "cell_type": "code",
   "execution_count": null,
   "metadata": {},
   "outputs": [],
   "source": [
    "recalc_landmass = recalc * landmass"
   ]
  },
  {
   "cell_type": "code",
   "execution_count": null,
   "metadata": {},
   "outputs": [],
   "source": [
    "plt.imshow(recalc_landmass, cmap='viridis', interpolation='nearest')\n",
    "\n",
    "# Add a color bar to show the scale\n",
    "plt.colorbar()\n",
    "\n",
    "# Add labels for better understanding (optional)\n",
    "plt.title(\"Heatmap of 2D Array\")\n",
    "plt.xlabel(\"X-axis\")\n",
    "plt.ylabel(\"Y-axis\")\n",
    "\n",
    "# Show the plot\n",
    "plt.show()"
   ]
  },
  {
   "cell_type": "code",
   "execution_count": null,
   "metadata": {},
   "outputs": [],
   "source": [
    "print(recalc.sum(), recalc.shape[0] * recalc.shape[1], recalc.sum() / (recalc.shape[0] * recalc.shape[1]))\n",
    "print(landmass.sum(), landmass.shape[0] * landmass.shape[1], landmass.sum() / (landmass.shape[0] * landmass.shape[1]))\n",
    "print(recalc_landmass.sum(), recalc_landmass.shape[0] * recalc_landmass.shape[1], recalc_landmass.sum() / (recalc_landmass.shape[0] * recalc_landmass.shape[1]))"
   ]
  },
  {
   "cell_type": "code",
   "execution_count": null,
   "metadata": {},
   "outputs": [],
   "source": [
    "stop"
   ]
  },
  {
   "cell_type": "code",
   "execution_count": null,
   "metadata": {},
   "outputs": [],
   "source": [
    "points = get_points(\"dump.sqlite\", until=pd.Timestamp(\"2024-03-30\"))\n",
    "points[\"lon\"] = points.geometry.x\n",
    "points[\"lat\"] = points.geometry.y\n",
    "\n",
    "X = points[[\"lon\", \"lat\"]].values\n",
    "y = points[\"wait\"].values\n",
    "X.shape, y.shape\n",
    "\n",
    "with open(\"models/kernel.pkl\", \"rb\") as file:\n",
    "    gpr = pickle.load(file)\n",
    "    \n",
    "print(gpr.regressor.optimizer)\n",
    "gpr.regressor.optimizer = None\n",
    "print(gpr.regressor.optimizer)\n",
    "\n",
    "gpr = fit_gpr_silent(gpr, X, y)"
   ]
  },
  {
   "cell_type": "code",
   "execution_count": null,
   "metadata": {},
   "outputs": [],
   "source": [
    "version = \"mar_updated\"\n",
    "model = gpr\n",
    "verbose = True\n",
    "\n",
    "model_name = type(model).__name__\n",
    "\n",
    "raster_maker = MapBasedModel(\n",
    "    method=model_name,\n",
    "    region=region,\n",
    "    resolution=res,\n",
    "    version=version,\n",
    "    verbose=verbose,\n",
    ")\n",
    "\n",
    "jan_map = load_numpy_map(resolution=res, method=method, version=\"jan\")\n",
    "raster_maker.raw_raster = jan_map\n",
    "\n",
    "raster_maker.get_map_grid()\n",
    "\n",
    "# transposing the grid enables us to iterate over it vertically\n",
    "# and single elements become lon-lat pairs that can be fed into the model\n",
    "print(\"Compute rows of pixels...\")\n",
    "start = time.time()\n",
    "to_predict = []\n",
    "pixels_to_predict = []\n",
    "for x, vertical_line in tqdm(\n",
    "    enumerate(raster_maker.grid.transpose()), total=len(raster_maker.grid.transpose())\n",
    "):\n",
    "    for y, coords in enumerate(vertical_line):\n",
    "        if recalc_landmass[y][x] == 0:\n",
    "            continue\n",
    "        this_point = [float(coords[0]), float(coords[1])]\n",
    "        to_predict.append(this_point)\n",
    "        pixels_to_predict.append((y, x))\n",
    "        # batching the model calls\n",
    "        if len(to_predict) == 1000:\n",
    "            print(f\"Predicting {len(to_predict)} pixels...\")\n",
    "            prediction = model.predict(np.array(to_predict), return_std=False)\n",
    "            for i, (y, x) in enumerate(pixels_to_predict):\n",
    "                raster_maker.raw_raster[y][x] = prediction[i]\n",
    "\n",
    "            to_predict = []\n",
    "            pixels_to_predict = []\n",
    "        \n",
    "print(f\"Predicting {len(to_predict)} pixels...\")\n",
    "prediction = model.predict(np.array(to_predict), return_std=False)\n",
    "for i, (y, x) in enumerate(pixels_to_predict):\n",
    "    raster_maker.raw_raster[y][x] = prediction[i]\n",
    "\n",
    "print(f\"Time elapsed to compute full map: {time.time() - start}\")\n",
    "print(\n",
    "    f\"For map of shape: {raster_maker.raw_raster.shape} that is {raster_maker.raw_raster.shape[0] * raster_maker.raw_raster.shape[1]} pixels and an effective time per pixel of {(time.time() - start) / (raster_maker.raw_raster.shape[0] * raster_maker.raw_raster.shape[1])} seconds\"\n",
    ")\n",
    "print((f\"Only {recalc_landmass.sum()} pixels were recalculated. That is {recalc_landmass.sum() / (raster_maker.raw_raster.shape[0] * raster_maker.raw_raster.shape[1]) * 100}% of the map.\"))\n",
    "print(f\"And time per recalculated pixel was {(time.time() - start) / recalc_landmass.sum()} seconds\")\n",
    "\n",
    "save_numpy_map(\n",
    "    raster_maker.raw_raster,\n",
    "    region=region,\n",
    "    method=model_name,\n",
    "    resolution=res,\n",
    "    version=version,\n",
    ")\n",
    "\n",
    "raster_maker.save_as_raster()\n",
    "raster_maker.build_map() # for march\n",
    "a = raster_maker.raw_raster"
   ]
  },
  {
   "cell_type": "code",
   "execution_count": null,
   "metadata": {},
   "outputs": [],
   "source": [
    "# for january\n",
    "version = \"jan\"\n",
    "verbose = True\n",
    "\n",
    "model_name = type(model).__name__\n",
    "\n",
    "raster_maker = MapBasedModel(\n",
    "    method=model_name,\n",
    "    region=region,\n",
    "    resolution=res,\n",
    "    version=version,\n",
    "    verbose=verbose,\n",
    ")\n",
    "raster_maker.get_map_grid()\n",
    "jan_map = load_numpy_map(resolution=res, method=method, version=\"jan\")\n",
    "raster_maker.raw_raster = jan_map\n",
    "raster_maker.save_as_raster()\n",
    "raster_maker.build_map()\n",
    "b = raster_maker.raw_raster"
   ]
  },
  {
   "cell_type": "code",
   "execution_count": null,
   "metadata": {},
   "outputs": [],
   "source": [
    "diff = ~np.isclose(a, b, atol=tolerance)"
   ]
  },
  {
   "cell_type": "code",
   "execution_count": null,
   "metadata": {},
   "outputs": [],
   "source": [
    "plt.imshow(diff, cmap='viridis', interpolation='nearest')\n",
    "\n",
    "# Add a color bar to show the scale\n",
    "plt.colorbar()\n",
    "\n",
    "# Add labels for better understanding (optional)\n",
    "plt.title(\"Heatmap of 2D Array\")\n",
    "plt.xlabel(\"X-axis\")\n",
    "plt.ylabel(\"Y-axis\")\n",
    "\n",
    "# Show the plot\n",
    "plt.show()"
   ]
  },
  {
   "cell_type": "code",
   "execution_count": null,
   "metadata": {},
   "outputs": [],
   "source": [
    "stop"
   ]
  },
  {
   "cell_type": "markdown",
   "metadata": {},
   "source": [
    "# high res"
   ]
  },
  {
   "cell_type": "code",
   "execution_count": null,
   "metadata": {},
   "outputs": [],
   "source": [
    "map.build_map()"
   ]
  },
  {
   "cell_type": "code",
   "execution_count": null,
   "metadata": {},
   "outputs": [],
   "source": [
    "res = 10\n",
    "method = \"TransformedTargetRegressorWithUncertainty\"\n",
    "tolerance = 3.0\n",
    "recalc_radius = 800000\n",
    "region = \"world\""
   ]
  },
  {
   "cell_type": "code",
   "execution_count": null,
   "metadata": {},
   "outputs": [],
   "source": [
    "points = get_points(\"dump.sqlite\", begin=pd.Timestamp(\"2024-1-30\"), until=pd.Timestamp(\"2024-3-30\"))\n",
    "points[\"lon\"] = points.geometry.x\n",
    "points[\"lat\"] = points.geometry.y\n",
    "points.head(), len(points)"
   ]
  },
  {
   "cell_type": "code",
   "execution_count": null,
   "metadata": {},
   "outputs": [],
   "source": [
    "map = GPMap()\n",
    "map.get_map_grid()\n",
    "recalc_radius_pixels = int(np.ceil(abs(recalc_radius / (map.grid[0][0][0] - map.grid[0][0][1]))))\n",
    "recalc_radius_pixels"
   ]
  },
  {
   "cell_type": "code",
   "execution_count": null,
   "metadata": {},
   "outputs": [],
   "source": [
    "map.get_landmass_raster()\n",
    "landmass = map.landmass_raster"
   ]
  },
  {
   "cell_type": "code",
   "execution_count": null,
   "metadata": {},
   "outputs": [],
   "source": [
    "def pixel_from_point(point) -> tuple[int, int]:\n",
    "    lats = map.Y.transpose()[0]\n",
    "    lat_index = None\n",
    "    for i, lat in enumerate(lats):\n",
    "        if lat >= point[\"lat\"] and point[\"lat\"] >= lats[i+1]:\n",
    "            lat_index = i\n",
    "            break\n",
    "\n",
    "    lons = map.X[0]\n",
    "    lon_index = None\n",
    "    for i, lon in enumerate(lons):\n",
    "        if lon <= point[\"lon\"] and point[\"lon\"] <= lons[i+1]:\n",
    "            lon_index = i\n",
    "            break\n",
    "\n",
    "    return (lat_index, lon_index)"
   ]
  },
  {
   "cell_type": "code",
   "execution_count": null,
   "metadata": {},
   "outputs": [],
   "source": [
    "recalc = np.zeros(map.grid.shape[1:])\n",
    "recalc.shape"
   ]
  },
  {
   "cell_type": "code",
   "execution_count": null,
   "metadata": {},
   "outputs": [],
   "source": [
    "for i, point in points.iterrows():\n",
    "    lat_pixel, lon_pixel = pixel_from_point(point)\n",
    "\n",
    "    for i in range(lat_pixel - recalc_radius_pixels, lat_pixel + recalc_radius_pixels):\n",
    "        for j in range(lon_pixel - recalc_radius_pixels, lon_pixel + recalc_radius_pixels):\n",
    "            if i < 0 or j < 0 or i >= recalc.shape[0] or j >= recalc.shape[1]:\n",
    "                continue\n",
    "            recalc[i, j] = 1"
   ]
  },
  {
   "cell_type": "code",
   "execution_count": null,
   "metadata": {},
   "outputs": [],
   "source": [
    "plt.imshow(recalc, cmap='viridis', interpolation='nearest')\n",
    "\n",
    "# Add a color bar to show the scale\n",
    "plt.colorbar()\n",
    "\n",
    "# Add labels for better understanding (optional)\n",
    "plt.title(\"Heatmap of 2D Array\")\n",
    "plt.xlabel(\"X-axis\")\n",
    "plt.ylabel(\"Y-axis\")\n",
    "\n",
    "# Show the plot\n",
    "plt.show()"
   ]
  },
  {
   "cell_type": "code",
   "execution_count": null,
   "metadata": {},
   "outputs": [],
   "source": [
    "recalc_landmass = recalc * landmass"
   ]
  },
  {
   "cell_type": "code",
   "execution_count": null,
   "metadata": {},
   "outputs": [],
   "source": [
    "plt.imshow(recalc_landmass, cmap='viridis', interpolation='nearest')\n",
    "\n",
    "# Add a color bar to show the scale\n",
    "plt.colorbar()\n",
    "\n",
    "# Add labels for better understanding (optional)\n",
    "plt.title(\"Heatmap of 2D Array\")\n",
    "plt.xlabel(\"X-axis\")\n",
    "plt.ylabel(\"Y-axis\")\n",
    "\n",
    "# Show the plot\n",
    "plt.show()"
   ]
  },
  {
   "cell_type": "code",
   "execution_count": null,
   "metadata": {},
   "outputs": [],
   "source": [
    "print(recalc.sum(), recalc.shape[0] * recalc.shape[1], recalc.sum() / (recalc.shape[0] * recalc.shape[1]))\n",
    "print(landmass.sum(), landmass.shape[0] * landmass.shape[1], landmass.sum() / (landmass.shape[0] * landmass.shape[1]))\n",
    "print(recalc_landmass.sum(), recalc_landmass.shape[0] * recalc_landmass.shape[1], recalc_landmass.sum() / (recalc_landmass.shape[0] * recalc_landmass.shape[1]))"
   ]
  },
  {
   "cell_type": "code",
   "execution_count": null,
   "metadata": {},
   "outputs": [],
   "source": [
    "points = get_points(\"dump.sqlite\", until=pd.Timestamp(\"2024-03-30\"))\n",
    "points[\"lon\"] = points.geometry.x\n",
    "points[\"lat\"] = points.geometry.y\n",
    "\n",
    "X = points[[\"lon\", \"lat\"]].values\n",
    "y = points[\"wait\"].values\n",
    "X.shape, y.shape\n",
    "\n",
    "with open(\"models/kernel.pkl\", \"rb\") as file:\n",
    "    gpr = pickle.load(file)\n",
    "    \n",
    "print(gpr.regressor.optimizer)\n",
    "gpr.regressor.optimizer = None\n",
    "print(gpr.regressor.optimizer)\n",
    "\n",
    "gpr = fit_gpr_silent(gpr, X, y)"
   ]
  },
  {
   "cell_type": "code",
   "execution_count": null,
   "metadata": {},
   "outputs": [],
   "source": [
    "version = \"mar_updated\"\n",
    "model = gpr\n",
    "verbose = True\n",
    "\n",
    "model_name = type(model).__name__\n",
    "\n",
    "raster_maker = MapBasedModel(\n",
    "    method=model_name,\n",
    "    region=region,\n",
    "    resolution=res,\n",
    "    version=version,\n",
    "    verbose=verbose,\n",
    ")\n",
    "\n",
    "jan_map = load_numpy_map(resolution=res, method=method, version=\"jan\")\n",
    "raster_maker.raw_raster = jan_map\n",
    "\n",
    "raster_maker.get_map_grid()\n",
    "\n",
    "print(\"Compute pixels that are expected to differ...\")\n",
    "start = time.time()\n",
    "to_predict = []\n",
    "pixels_to_predict = []\n",
    "for x, vertical_line in tqdm(\n",
    "    enumerate(raster_maker.grid.transpose()), total=len(raster_maker.grid.transpose())\n",
    "):\n",
    "    for y, coords in enumerate(vertical_line):\n",
    "        if recalc_landmass[y][x] == 0:\n",
    "            continue\n",
    "        this_point = [float(coords[0]), float(coords[1])]\n",
    "        to_predict.append(this_point)\n",
    "        pixels_to_predict.append((y, x))\n",
    "        # batching the model calls\n",
    "        if len(to_predict) == 10000:\n",
    "            prediction = model.predict(np.array(to_predict), return_std=False)\n",
    "            for i, (y, x) in enumerate(pixels_to_predict):\n",
    "                raster_maker.raw_raster[y][x] = prediction[i]\n",
    "\n",
    "            to_predict = []\n",
    "            pixels_to_predict = []\n",
    "        \n",
    "prediction = model.predict(np.array(to_predict), return_std=False)\n",
    "for i, (y, x) in enumerate(pixels_to_predict):\n",
    "    raster_maker.raw_raster[y][x] = prediction[i]\n",
    "\n",
    "print(f\"Time elapsed to compute full map: {time.time() - start}\")\n",
    "print(\n",
    "    f\"For map of shape: {raster_maker.raw_raster.shape} that is {raster_maker.raw_raster.shape[0] * raster_maker.raw_raster.shape[1]} pixels and an effective time per pixel of {(time.time() - start) / (raster_maker.raw_raster.shape[0] * raster_maker.raw_raster.shape[1])} seconds\"\n",
    ")\n",
    "print((f\"Only {recalc_landmass.sum()} pixels were recalculated. That is {recalc_landmass.sum() / (raster_maker.raw_raster.shape[0] * raster_maker.raw_raster.shape[1]) * 100}% of the map.\"))\n",
    "print(f\"And time per recalculated pixel was {(time.time() - start) / recalc_landmass.sum()} seconds\")\n",
    "\n",
    "save_numpy_map(\n",
    "    raster_maker.raw_raster,\n",
    "    region=region,\n",
    "    method=model_name,\n",
    "    resolution=res,\n",
    "    version=version,\n",
    ")\n",
    "\n",
    "raster_maker.save_as_raster()\n",
    "raster_maker.build_map() # for march\n",
    "a = raster_maker.raw_raster"
   ]
  },
  {
   "cell_type": "code",
   "execution_count": null,
   "metadata": {},
   "outputs": [],
   "source": [
    "# for january\n",
    "version = \"jan\"\n",
    "verbose = True\n",
    "\n",
    "model_name = type(model).__name__\n",
    "\n",
    "raster_maker = MapBasedModel(\n",
    "    method=model_name,\n",
    "    region=region,\n",
    "    resolution=res,\n",
    "    version=version,\n",
    "    verbose=verbose,\n",
    ")\n",
    "raster_maker.get_map_grid()\n",
    "jan_map = load_numpy_map(resolution=res, method=method, version=\"jan\")\n",
    "raster_maker.raw_raster = jan_map\n",
    "raster_maker.save_as_raster()\n",
    "raster_maker.build_map()\n",
    "b = raster_maker.raw_raster"
   ]
  },
  {
   "cell_type": "code",
   "execution_count": null,
   "metadata": {},
   "outputs": [],
   "source": [
    "diff = ~np.isclose(a, b, atol=tolerance)"
   ]
  },
  {
   "cell_type": "code",
   "execution_count": null,
   "metadata": {},
   "outputs": [],
   "source": [
    "plt.imshow(diff, cmap='viridis', interpolation='nearest')\n",
    "\n",
    "# Add a color bar to show the scale\n",
    "plt.colorbar()\n",
    "\n",
    "# Add labels for better understanding (optional)\n",
    "plt.title(\"Heatmap of 2D Array\")\n",
    "plt.xlabel(\"X-axis\")\n",
    "plt.ylabel(\"Y-axis\")\n",
    "\n",
    "# Show the plot\n",
    "plt.show()"
   ]
  },
  {
   "cell_type": "markdown",
   "metadata": {},
   "source": [
    "# determine area of map to update around newly added points"
   ]
  },
  {
   "cell_type": "code",
   "execution_count": null,
   "metadata": {},
   "outputs": [],
   "source": [
    "months = [\"jan\", \"mar\", \"may\", \"jul\", \"sep\", \"nov\"]\n",
    "dates = [\"2024-1-30\", \"2024-3-30\", \"2024-5-30\", \"2024-7-30\", \"2024-9-30\", \"2024-11-30\"]\n",
    "\n",
    "for i in range(5):\n",
    "    print(f\"Months: {months[i]} - {months[i+1]}\")\n",
    "    points = get_points(\"dump.sqlite\", begin=pd.Timestamp(dates[i]), until=pd.Timestamp(dates[i+1]))\n",
    "    points[\"lon\"] = points.geometry.x\n",
    "    points[\"lat\"] = points.geometry.y\n",
    "\n",
    "    map1 = load_numpy_map(resolution=res, method=method, version=months[i])\n",
    "    map2 = load_numpy_map(resolution=res, method=method, version=months[i+1])\n",
    "    diff = ~np.isclose(map1, map2, atol=tolerance)\n",
    "    diff = diff * 100\n",
    "\n",
    "    map = MapBasedModel(method=method, region=\"world\", resolution=res, version=\"diff_mar\")\n",
    "    map.raw_raster = diff\n",
    "    map.get_map_grid()\n",
    "    map.save_as_raster()\n",
    "    map.build_map(points=points, show_points=True)"
   ]
  }
 ],
 "metadata": {
  "kernelspec": {
   "display_name": "heatchmap",
   "language": "python",
   "name": "python3"
  },
  "language_info": {
   "codemirror_mode": {
    "name": "ipython",
    "version": 3
   },
   "file_extension": ".py",
   "mimetype": "text/x-python",
   "name": "python",
   "nbconvert_exporter": "python",
   "pygments_lexer": "ipython3",
   "version": "3.10.14"
  }
 },
 "nbformat": 4,
 "nbformat_minor": 2
}
