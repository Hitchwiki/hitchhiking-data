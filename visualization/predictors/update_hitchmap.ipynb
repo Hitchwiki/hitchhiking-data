{
 "cells": [
  {
   "cell_type": "code",
   "execution_count": null,
   "metadata": {},
   "outputs": [],
   "source": [
    "import sys\n",
    "sys.path.append('./utils')\n",
    "from utils_imports import *\n"
   ]
  },
  {
   "cell_type": "markdown",
   "metadata": {},
   "source": [
    "# train"
   ]
  },
  {
   "cell_type": "code",
   "execution_count": null,
   "metadata": {},
   "outputs": [],
   "source": [
    "res = 5"
   ]
  },
  {
   "cell_type": "code",
   "execution_count": null,
   "metadata": {},
   "outputs": [],
   "source": [
    "points = get_points(\"dump.sqlite\", until=pd.Timestamp(\"2024-01-30\"))\n",
    "points[\"lon\"] = points.geometry.x\n",
    "points[\"lat\"] = points.geometry.y\n",
    "\n",
    "X = points[[\"lon\", \"lat\"]].values\n",
    "y = points[\"wait\"].values\n",
    "X.shape, y.shape\n",
    "\n",
    "with open(\"models/kernel.pkl\", \"rb\") as file:\n",
    "    gpr = pickle.load(file)\n",
    "    \n",
    "print(gpr.regressor.optimizer)\n",
    "gpr.regressor.optimizer = None\n",
    "print(gpr.regressor.optimizer)\n",
    "\n",
    "gpr = fit_gpr_silent(gpr, X, y)\n",
    "raster_maker = raster_from_model(\n",
    "    gpr,\n",
    "    \"world\",\n",
    "    res,\n",
    "    show_uncertainties=True,\n",
    "    verbose=True,\n",
    ")\n",
    "\n",
    "with open(\"jan.pkl\", \"wb\") as file:\n",
    "    pickle.dump(raster_maker, file)"
   ]
  },
  {
   "cell_type": "code",
   "execution_count": null,
   "metadata": {},
   "outputs": [],
   "source": [
    "points = get_points(\"dump.sqlite\", until=pd.Timestamp(\"2024-03-30\"))\n",
    "points[\"lon\"] = points.geometry.x\n",
    "points[\"lat\"] = points.geometry.y\n",
    "\n",
    "X = points[[\"lon\", \"lat\"]].values\n",
    "y = points[\"wait\"].values\n",
    "X.shape, y.shape\n",
    "\n",
    "with open(\"models/kernel.pkl\", \"rb\") as file:\n",
    "    gpr = pickle.load(file)\n",
    "    \n",
    "print(gpr.regressor.optimizer)\n",
    "gpr.regressor.optimizer = None\n",
    "print(gpr.regressor.optimizer)\n",
    "\n",
    "gpr = fit_gpr_silent(gpr, X, y)\n",
    "raster_maker = raster_from_model(\n",
    "    gpr,\n",
    "    \"world\",\n",
    "    res,\n",
    "    show_uncertainties=True,\n",
    "    verbose=True,\n",
    ")\n",
    "\n",
    "with open(\"mar.pkl\", \"wb\") as file:\n",
    "    pickle.dump(raster_maker, file)"
   ]
  },
  {
   "cell_type": "code",
   "execution_count": null,
   "metadata": {},
   "outputs": [],
   "source": [
    "points = get_points(\"dump.sqlite\", until=pd.Timestamp(\"2024-05-30\"))\n",
    "points[\"lon\"] = points.geometry.x\n",
    "points[\"lat\"] = points.geometry.y\n",
    "\n",
    "X = points[[\"lon\", \"lat\"]].values\n",
    "y = points[\"wait\"].values\n",
    "X.shape, y.shape\n",
    "\n",
    "with open(\"models/kernel.pkl\", \"rb\") as file:\n",
    "    gpr = pickle.load(file)\n",
    "    \n",
    "print(gpr.regressor.optimizer)\n",
    "gpr.regressor.optimizer = None\n",
    "print(gpr.regressor.optimizer)\n",
    "\n",
    "gpr = fit_gpr_silent(gpr, X, y)\n",
    "raster_maker = raster_from_model(\n",
    "    gpr,\n",
    "    \"world\",\n",
    "    res,\n",
    "    show_uncertainties=True,\n",
    "    verbose=True,\n",
    ")\n",
    "\n",
    "with open(\"may.pkl\", \"wb\") as file:\n",
    "    pickle.dump(raster_maker, file)"
   ]
  },
  {
   "cell_type": "code",
   "execution_count": null,
   "metadata": {},
   "outputs": [],
   "source": [
    "points = get_points(\"dump.sqlite\", until=pd.Timestamp(\"2024-07-30\"))\n",
    "points[\"lon\"] = points.geometry.x\n",
    "points[\"lat\"] = points.geometry.y\n",
    "\n",
    "X = points[[\"lon\", \"lat\"]].values\n",
    "y = points[\"wait\"].values\n",
    "X.shape, y.shape\n",
    "\n",
    "with open(\"models/kernel.pkl\", \"rb\") as file:\n",
    "    gpr = pickle.load(file)\n",
    "    \n",
    "print(gpr.regressor.optimizer)\n",
    "gpr.regressor.optimizer = None\n",
    "print(gpr.regressor.optimizer)\n",
    "\n",
    "gpr = fit_gpr_silent(gpr, X, y)\n",
    "raster_maker = raster_from_model(\n",
    "    gpr,\n",
    "    \"world\",\n",
    "    res,\n",
    "    show_uncertainties=True,\n",
    "    verbose=True,\n",
    ")\n",
    "\n",
    "with open(\"jul.pkl\", \"wb\") as file:\n",
    "    pickle.dump(raster_maker, file)"
   ]
  },
  {
   "cell_type": "code",
   "execution_count": null,
   "metadata": {},
   "outputs": [],
   "source": [
    "points = get_points(\"dump.sqlite\", until=pd.Timestamp(\"2024-09-30\"))\n",
    "points[\"lon\"] = points.geometry.x\n",
    "points[\"lat\"] = points.geometry.y\n",
    "\n",
    "X = points[[\"lon\", \"lat\"]].values\n",
    "y = points[\"wait\"].values\n",
    "X.shape, y.shape\n",
    "\n",
    "with open(\"models/kernel.pkl\", \"rb\") as file:\n",
    "    gpr = pickle.load(file)\n",
    "    \n",
    "print(gpr.regressor.optimizer)\n",
    "gpr.regressor.optimizer = None\n",
    "print(gpr.regressor.optimizer)\n",
    "\n",
    "gpr = fit_gpr_silent(gpr, X, y)\n",
    "raster_maker = raster_from_model(\n",
    "    gpr,\n",
    "    \"world\",\n",
    "    res,\n",
    "    show_uncertainties=True,\n",
    "    verbose=True,\n",
    ")\n",
    "\n",
    "with open(\"sep.pkl\", \"wb\") as file:\n",
    "    pickle.dump(raster_maker, file)"
   ]
  },
  {
   "cell_type": "code",
   "execution_count": null,
   "metadata": {},
   "outputs": [],
   "source": [
    "points = get_points(\"dump.sqlite\", until=pd.Timestamp(\"2024-11-30\"))\n",
    "points[\"lon\"] = points.geometry.x\n",
    "points[\"lat\"] = points.geometry.y\n",
    "\n",
    "X = points[[\"lon\", \"lat\"]].values\n",
    "y = points[\"wait\"].values\n",
    "X.shape, y.shape\n",
    "\n",
    "with open(\"models/kernel.pkl\", \"rb\") as file:\n",
    "    gpr = pickle.load(file)\n",
    "    \n",
    "print(gpr.regressor.optimizer)\n",
    "gpr.regressor.optimizer = None\n",
    "print(gpr.regressor.optimizer)\n",
    "\n",
    "gpr = fit_gpr_silent(gpr, X, y)\n",
    "raster_maker = raster_from_model(\n",
    "    gpr,\n",
    "    \"world\",\n",
    "    res,\n",
    "    show_uncertainties=True,\n",
    "    verbose=True,\n",
    ")\n",
    "\n",
    "with open(\"nov.pkl\", \"wb\") as file:\n",
    "    pickle.dump(raster_maker, file)"
   ]
  },
  {
   "cell_type": "code",
   "execution_count": null,
   "metadata": {},
   "outputs": [],
   "source": [
    "stop"
   ]
  },
  {
   "cell_type": "markdown",
   "metadata": {},
   "source": [
    "# draw"
   ]
  },
  {
   "cell_type": "code",
   "execution_count": null,
   "metadata": {},
   "outputs": [],
   "source": [
    "from datasets import load_dataset\n",
    "import matplotlib.pyplot as plt\n",
    "import numpy as np"
   ]
  },
  {
   "cell_type": "code",
   "execution_count": null,
   "metadata": {},
   "outputs": [],
   "source": [
    "import xyzservices.providers as xyz\n",
    "import folium\n",
    "lon, lat = 12, 48.875\n",
    "zoom_start = 2\n",
    "\n",
    "\n",
    "tiles = xyz.CartoDB.Positron\n",
    "m = folium.Map(\n",
    "    tiles=folium.TileLayer(no_wrap=True, tiles=tiles),\n",
    "    attr=\"Dummy\",\n",
    "    zoom_start=zoom_start,\n",
    "    location=[lat, lon],\n",
    ")"
   ]
  },
  {
   "cell_type": "code",
   "execution_count": null,
   "metadata": {},
   "outputs": [],
   "source": [
    "BUCKETS = [\n",
    "    \"#008200\",  # dark green\n",
    "    \"#00c800\",  # light green\n",
    "    \"#c8ff00\",  # light yellow\n",
    "    \"#ffff00\",  # yellow\n",
    "    \"#ffc800\",  # light orange\n",
    "    \"#ff8200\",  # dark orange\n",
    "    \"red\",  # red\n",
    "    \"#c80000\",  # dark red\n",
    "    \"#820000\",  # wine red\n",
    "    \"#330100\",  # drop?\n",
    "]\n",
    "\n",
    "# define the heatmap color scale\n",
    "# values higher than the upper boundary are colored in the upmost color\n",
    "BOUNDARIES = [0, 10, 20, 30, 40, 50, 60, 70, 80, 90, 100]\n",
    "\n",
    "import matplotlib.colors as colors\n",
    "cmap = colors.ListedColormap(BUCKETS)\n",
    "\n",
    "norm = colors.BoundaryNorm(BOUNDARIES, cmap.N, clip=True)\n",
    "cmap.set_bad(color=\"#000000\", alpha=0.0) # opaque for NaN values (sea)"
   ]
  },
  {
   "cell_type": "code",
   "execution_count": null,
   "metadata": {},
   "outputs": [],
   "source": [
    "ds = load_dataset(\"tillwenke/heatchmap-map\", cache_dir=\"intermediate/huggingface\")\n",
    "ds = ds.with_format(\"np\")\n",
    "ds = ds[list(ds.column_names.keys())[0]]"
   ]
  },
  {
   "cell_type": "code",
   "execution_count": null,
   "metadata": {},
   "outputs": [],
   "source": [
    "image = ds[\"waiting_times\"]\n",
    "plt.imshow(image.clip(0,100), cmap=\"viridis\", interpolation=\"nearest\")\n",
    "plt.colorbar()\n",
    "plt.xlabel(\"Longitude\")\n",
    "plt.ylabel(\"Latitude\")\n",
    "plt.show()"
   ]
  },
  {
   "cell_type": "code",
   "execution_count": null,
   "metadata": {},
   "outputs": [],
   "source": [
    "uncertainties = ds[\"uncertainties\"]\n",
    "plt.imshow(image.clip(0,100), cmap=\"viridis\", interpolation=\"nearest\")\n",
    "plt.colorbar()\n",
    "plt.xlabel(\"Longitude\")\n",
    "plt.ylabel(\"Latitude\")\n",
    "plt.show()"
   ]
  },
  {
   "cell_type": "code",
   "execution_count": null,
   "metadata": {},
   "outputs": [],
   "source": [
    "uncertainties = np.where(\n",
    "    np.isnan(raster.read()[0]), uncertainties.min(), uncertainties\n",
    ")\n",
    "if (uncertainties.max() - uncertainties.min()) != 0:\n",
    "    uncertainties = (uncertainties - uncertainties.min()) / (\n",
    "        uncertainties.max() - uncertainties.min()\n",
    "    )\n",
    "    uncertainties = 1 - uncertainties\n",
    "    if discrete_uncertainties:\n",
    "        # threshold for uncertainty decided by experiment\n",
    "        uncertainties = np.where(uncertainties < 0.25, 0.0, 1.0)\n",
    "else:\n",
    "    uncertainties = 1.0\n",
    "# let certainty have no influence on sea color\n",
    "uncertainties = np.where(np.isnan(raster.read()[0]), 1, uncertainties)\n",
    "uncertainties = uncertainties.astype(\n",
    "    np.float64\n",
    ")  # matplotlib cannot handle float128\n",
    "self.uncertainties = uncertainties\n",
    "print(f\"Time elapsed to load uncertainties: {time.time() - start}\")"
   ]
  },
  {
   "cell_type": "code",
   "execution_count": null,
   "metadata": {},
   "outputs": [],
   "source": [
    "from heatchmap.gpmap import GPMap\n",
    "mymap = GPMap()\n",
    "mymap.get_map_grid()\n",
    "mymap.get_landmass_raster()\n",
    "mymap.landmass_raster.shape"
   ]
  },
  {
   "cell_type": "code",
   "execution_count": null,
   "metadata": {},
   "outputs": [],
   "source": [
    "image = np.where(mymap.landmass_raster, image, np.nan)"
   ]
  },
  {
   "cell_type": "code",
   "execution_count": null,
   "metadata": {},
   "outputs": [],
   "source": [
    "image = norm(image).data\n",
    "\n",
    "import numpy as np\n",
    "import matplotlib.pyplot as plt\n",
    "\n",
    "# Input 2D scalar array\n",
    "scalars = image\n",
    "\n",
    "# Apply the colormap to scalars\n",
    "colors = cmap(scalars)\n",
    "\n",
    "# Combine RGB values with the opacity\n",
    "rgba_array = np.empty_like(colors)\n",
    "rgba_array[:, :, :3] = colors[:, :, :3]  # RGB\n",
    "rgba_array[:, :, 3] = 1.0  # A\n",
    "\n",
    "# Verify shape and content\n",
    "print(rgba_array.shape)"
   ]
  },
  {
   "cell_type": "code",
   "execution_count": null,
   "metadata": {},
   "outputs": [],
   "source": [
    "folium.raster_layers.ImageOverlay(\n",
    "    image=rgba_array,\n",
    "    bounds=[[-56, -180], [80, 180]],\n",
    ").add_to(m)"
   ]
  },
  {
   "cell_type": "code",
   "execution_count": null,
   "metadata": {},
   "outputs": [],
   "source": [
    "m"
   ]
  },
  {
   "cell_type": "code",
   "execution_count": null,
   "metadata": {},
   "outputs": [],
   "source": [
    "from string import Template\n",
    "m.get_root().render()\n",
    "\n",
    "header = m.get_root().header.render()\n",
    "header = header.replace(\n",
    "    '<link rel=\"stylesheet\" href=\"https://cdn.jsdelivr.net/npm/bootstrap@5.2.2/dist/css/bootstrap.min.css\"/>',\n",
    "    '<link rel=\"stylesheet\" href=\"https://maxcdn.bootstrapcdn.com/bootstrap/3.2.0/css/bootstrap.min.css\">',\n",
    ")\n",
    "header = header.replace(\n",
    "    '<link rel=\"stylesheet\" href=\"https://netdna.bootstrapcdn.com/bootstrap/3.0.0/css/bootstrap.min.css\"/>',\n",
    "    '<link rel=\"stylesheet\" href=\"https://maxcdn.bootstrapcdn.com/bootstrap/3.2.0/css/bootstrap-theme.min.css\">',\n",
    ")\n",
    "body = m.get_root().html.render()\n",
    "script = m.get_root().script.render()\n",
    "\n",
    "outname = \"hitchhiking.html\"\n",
    "template = open(\"src.html\", encoding=\"utf-8\").read()\n",
    "\n",
    "output = Template(template).substitute(\n",
    "    {\n",
    "        \"folium_head\": header,\n",
    "        \"folium_body\": body,\n",
    "        \"folium_script\": script,\n",
    "        \"hitch_script\": open(\"map.js\", encoding=\"utf-8\").read(),\n",
    "        \"hitch_style\": open(\"style.css\", encoding=\"utf-8\").read(),\n",
    "    }\n",
    ")\n",
    "\n",
    "open(outname, \"w\", encoding=\"utf-8\").write(output)"
   ]
  }
 ],
 "metadata": {
  "kernelspec": {
   "display_name": "hitchmap-data",
   "language": "python",
   "name": "python3"
  },
  "language_info": {
   "codemirror_mode": {
    "name": "ipython",
    "version": 3
   },
   "file_extension": ".py",
   "mimetype": "text/x-python",
   "name": "python",
   "nbconvert_exporter": "python",
   "pygments_lexer": "ipython3",
   "version": "3.10.16"
  }
 },
 "nbformat": 4,
 "nbformat_minor": 2
}
