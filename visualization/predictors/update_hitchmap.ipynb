{
 "cells": [
  {
   "cell_type": "code",
   "execution_count": 7,
   "metadata": {},
   "outputs": [],
   "source": [
    "import sys\n",
    "sys.path.append('./utils')\n",
    "from utils_imports import *"
   ]
  },
  {
   "cell_type": "markdown",
   "metadata": {},
   "source": [
    "# train"
   ]
  },
  {
   "cell_type": "code",
   "execution_count": null,
   "metadata": {},
   "outputs": [],
   "source": [
    "res = 10"
   ]
  },
  {
   "cell_type": "code",
   "execution_count": null,
   "metadata": {},
   "outputs": [
    {
     "data": {
      "text/plain": [
       "((19031, 2), (19031,))"
      ]
     },
     "execution_count": 10,
     "metadata": {},
     "output_type": "execute_result"
    }
   ],
   "source": [
    "points = get_points(\"dump.sqlite\", pd.Timestamp(\"2024-01-30\"))\n",
    "points[\"lon\"] = points.geometry.x\n",
    "points[\"lat\"] = points.geometry.y\n",
    "\n",
    "X = points[[\"lon\", \"lat\"]].values\n",
    "y = points[\"wait\"].values\n",
    "X.shape, y.shape\n",
    "\n",
    "with open(\"models/kernel.pkl\", \"rb\") as file:\n",
    "    gpr = pickle.load(file)\n",
    "    \n",
    "print(gpr.regressor.optimizer)\n",
    "gpr.regressor.optimizer = None\n",
    "print(gpr.regressor.optimizer)\n",
    "\n",
    "gpr = fit_gpr_silent(gpr, X, y)\n",
    "raster_maker = raster_from_model(\n",
    "    gpr,\n",
    "    \"world\",\n",
    "    res,\n",
    "    show_uncertainties=True,\n",
    "    verbose=True,\n",
    ")\n",
    "\n",
    "with open(\"jan.pkl\", \"wb\") as file:\n",
    "    pickle.dump(raster_maker, file)"
   ]
  },
  {
   "cell_type": "code",
   "execution_count": null,
   "metadata": {},
   "outputs": [],
   "source": [
    "points = get_points(\"dump.sqlite\", pd.Timestamp(\"2024-03-30\"))\n",
    "points[\"lon\"] = points.geometry.x\n",
    "points[\"lat\"] = points.geometry.y\n",
    "\n",
    "X = points[[\"lon\", \"lat\"]].values\n",
    "y = points[\"wait\"].values\n",
    "X.shape, y.shape\n",
    "\n",
    "with open(\"models/kernel.pkl\", \"rb\") as file:\n",
    "    gpr = pickle.load(file)\n",
    "    \n",
    "print(gpr.regressor.optimizer)\n",
    "gpr.regressor.optimizer = None\n",
    "print(gpr.regressor.optimizer)\n",
    "\n",
    "gpr = fit_gpr_silent(gpr, X, y)\n",
    "raster_maker = raster_from_model(\n",
    "    gpr,\n",
    "    \"world\",\n",
    "    res,\n",
    "    show_uncertainties=True,\n",
    "    verbose=True,\n",
    ")\n",
    "\n",
    "with open(\"mar.pkl\", \"wb\") as file:\n",
    "    pickle.dump(raster_maker, file)"
   ]
  },
  {
   "cell_type": "code",
   "execution_count": null,
   "metadata": {},
   "outputs": [],
   "source": [
    "points = get_points(\"dump.sqlite\", pd.Timestamp(\"2024-05-30\"))\n",
    "points[\"lon\"] = points.geometry.x\n",
    "points[\"lat\"] = points.geometry.y\n",
    "\n",
    "X = points[[\"lon\", \"lat\"]].values\n",
    "y = points[\"wait\"].values\n",
    "X.shape, y.shape\n",
    "\n",
    "with open(\"models/kernel.pkl\", \"rb\") as file:\n",
    "    gpr = pickle.load(file)\n",
    "    \n",
    "print(gpr.regressor.optimizer)\n",
    "gpr.regressor.optimizer = None\n",
    "print(gpr.regressor.optimizer)\n",
    "\n",
    "gpr = fit_gpr_silent(gpr, X, y)\n",
    "raster_maker = raster_from_model(\n",
    "    gpr,\n",
    "    \"world\",\n",
    "    res,\n",
    "    show_uncertainties=True,\n",
    "    verbose=True,\n",
    ")\n",
    "\n",
    "with open(\"may.pkl\", \"wb\") as file:\n",
    "    pickle.dump(raster_maker, file)"
   ]
  },
  {
   "cell_type": "code",
   "execution_count": null,
   "metadata": {},
   "outputs": [],
   "source": [
    "points = get_points(\"dump.sqlite\", pd.Timestamp(\"2024-07-30\"))\n",
    "points[\"lon\"] = points.geometry.x\n",
    "points[\"lat\"] = points.geometry.y\n",
    "\n",
    "X = points[[\"lon\", \"lat\"]].values\n",
    "y = points[\"wait\"].values\n",
    "X.shape, y.shape\n",
    "\n",
    "with open(\"models/kernel.pkl\", \"rb\") as file:\n",
    "    gpr = pickle.load(file)\n",
    "    \n",
    "print(gpr.regressor.optimizer)\n",
    "gpr.regressor.optimizer = None\n",
    "print(gpr.regressor.optimizer)\n",
    "\n",
    "gpr = fit_gpr_silent(gpr, X, y)\n",
    "raster_maker = raster_from_model(\n",
    "    gpr,\n",
    "    \"world\",\n",
    "    res,\n",
    "    show_uncertainties=True,\n",
    "    verbose=True,\n",
    ")\n",
    "\n",
    "with open(\"jul.pkl\", \"wb\") as file:\n",
    "    pickle.dump(raster_maker, file)"
   ]
  },
  {
   "cell_type": "code",
   "execution_count": null,
   "metadata": {},
   "outputs": [],
   "source": [
    "points = get_points(\"dump.sqlite\", pd.Timestamp(\"2024-09-30\"))\n",
    "points[\"lon\"] = points.geometry.x\n",
    "points[\"lat\"] = points.geometry.y\n",
    "\n",
    "X = points[[\"lon\", \"lat\"]].values\n",
    "y = points[\"wait\"].values\n",
    "X.shape, y.shape\n",
    "\n",
    "with open(\"models/kernel.pkl\", \"rb\") as file:\n",
    "    gpr = pickle.load(file)\n",
    "    \n",
    "print(gpr.regressor.optimizer)\n",
    "gpr.regressor.optimizer = None\n",
    "print(gpr.regressor.optimizer)\n",
    "\n",
    "gpr = fit_gpr_silent(gpr, X, y)\n",
    "raster_maker = raster_from_model(\n",
    "    gpr,\n",
    "    \"world\",\n",
    "    res,\n",
    "    show_uncertainties=True,\n",
    "    verbose=True,\n",
    ")\n",
    "\n",
    "with open(\"sep.pkl\", \"wb\") as file:\n",
    "    pickle.dump(raster_maker, file)"
   ]
  },
  {
   "cell_type": "code",
   "execution_count": null,
   "metadata": {},
   "outputs": [],
   "source": [
    "points = get_points(\"dump.sqlite\", pd.Timestamp(\"2024-11-30\"))\n",
    "points[\"lon\"] = points.geometry.x\n",
    "points[\"lat\"] = points.geometry.y\n",
    "\n",
    "X = points[[\"lon\", \"lat\"]].values\n",
    "y = points[\"wait\"].values\n",
    "X.shape, y.shape\n",
    "\n",
    "with open(\"models/kernel.pkl\", \"rb\") as file:\n",
    "    gpr = pickle.load(file)\n",
    "    \n",
    "print(gpr.regressor.optimizer)\n",
    "gpr.regressor.optimizer = None\n",
    "print(gpr.regressor.optimizer)\n",
    "\n",
    "gpr = fit_gpr_silent(gpr, X, y)\n",
    "raster_maker = raster_from_model(\n",
    "    gpr,\n",
    "    \"world\",\n",
    "    res,\n",
    "    show_uncertainties=True,\n",
    "    verbose=True,\n",
    ")\n",
    "\n",
    "with open(\"nov.pkl\", \"wb\") as file:\n",
    "    pickle.dump(raster_maker, file)"
   ]
  },
  {
   "cell_type": "code",
   "execution_count": null,
   "metadata": {},
   "outputs": [],
   "source": [
    "stop"
   ]
  },
  {
   "cell_type": "markdown",
   "metadata": {},
   "source": [
    "# draw"
   ]
  },
  {
   "cell_type": "code",
   "execution_count": 363,
   "metadata": {},
   "outputs": [
    {
     "data": {
      "text/plain": [
       "'intermediate/map_TransformedTargetRegressorWithUncertainty_world_1.tif'"
      ]
     },
     "execution_count": 363,
     "metadata": {},
     "output_type": "execute_result"
    }
   ],
   "source": [
    "map_path = raster_maker.get_raster_path()\n",
    "map_path"
   ]
  },
  {
   "cell_type": "code",
   "execution_count": 364,
   "metadata": {},
   "outputs": [],
   "source": [
    "countries = gpd.read_file(\n",
    "    \"map_features/countries/ne_110m_admin_0_countries.shp\"\n",
    ")\n",
    "countries = countries.to_crs(epsg=3857)\n",
    "countries = countries[countries.NAME != \"Antarctica\"]\n",
    "country_shapes = countries.geometry\n",
    "country_shapes = country_shapes.apply(lambda x: make_valid(x))"
   ]
  },
  {
   "cell_type": "code",
   "execution_count": 365,
   "metadata": {},
   "outputs": [
    {
     "name": "stdout",
     "output_type": "stream",
     "text": [
      "max map waiting time: 359.7774545091566\n",
      "min map waiting time: 1.2772924946865343\n",
      "Time elapsed to transform heatmap: 0.056611061096191406\n"
     ]
    }
   ],
   "source": [
    "nodata = np.nan\n",
    "with rasterio.open(map_path) as heatmap:\n",
    "    start = time.time()\n",
    "    max_map_wait = heatmap.read().max()\n",
    "    min_map_wait = heatmap.read().min()\n",
    "    if raster_maker.verbose:\n",
    "        print(\"max map waiting time:\", max_map_wait)\n",
    "    if raster_maker.verbose:\n",
    "        print(\"min map waiting time:\", min_map_wait)\n",
    "\n",
    "    out_image, out_transform = rasterio.mask.mask(\n",
    "        heatmap, country_shapes, nodata=nodata\n",
    "    )\n",
    "    out_meta = heatmap.meta\n",
    "    print(f\"Time elapsed to transform heatmap: {time.time() - start}\")\n",
    "\n",
    "out_meta.update(\n",
    "    {\n",
    "        \"driver\": \"GTiff\",\n",
    "        \"height\": out_image.shape[1],\n",
    "        \"width\": out_image.shape[2],\n",
    "        \"transform\": out_transform,\n",
    "    }\n",
    ")\n",
    "\n",
    "new_map_path = f\"intermediate/map_{raster_maker.method}_{raster_maker.region}_{raster_maker.resolution}_processed.tif\"\n",
    "with rasterio.open(new_map_path, \"w\", **out_meta) as destination:\n",
    "    destination.write(out_image)\n",
    "\n",
    "raster = rasterio.open(new_map_path)"
   ]
  },
  {
   "cell_type": "code",
   "execution_count": 366,
   "metadata": {},
   "outputs": [
    {
     "data": {
      "text/plain": [
       "(136, 360)"
      ]
     },
     "execution_count": 366,
     "metadata": {},
     "output_type": "execute_result"
    }
   ],
   "source": [
    "Z = raster.read()[0]\n",
    "Z.shape"
   ]
  },
  {
   "cell_type": "code",
   "execution_count": 367,
   "metadata": {},
   "outputs": [],
   "source": [
    "import xyzservices.providers as xyz\n",
    "import folium\n",
    "lon, lat = 12, 48.875\n",
    "zoom_start = 2\n",
    "\n",
    "\n",
    "tiles = xyz.CartoDB.Positron\n",
    "m = folium.Map(\n",
    "    tiles=folium.TileLayer(no_wrap=True, tiles=tiles),\n",
    "    attr=\"Dummy\",\n",
    "    zoom_start=zoom_start,\n",
    "    location=[lat, lon],\n",
    ")"
   ]
  },
  {
   "cell_type": "code",
   "execution_count": 368,
   "metadata": {},
   "outputs": [],
   "source": [
    "BUCKETS = [\n",
    "    \"#008200\",  # dark green\n",
    "    \"#00c800\",  # light green\n",
    "    \"#c8ff00\",  # light yellow\n",
    "    \"#ffff00\",  # yellow\n",
    "    \"#ffc800\",  # light orange\n",
    "    \"#ff8200\",  # dark orange\n",
    "    \"red\",  # red\n",
    "    \"#c80000\",  # dark red\n",
    "    \"#820000\",  # wine red\n",
    "    \"#330100\",  # drop?\n",
    "]\n",
    "\n",
    "# define the heatmap color scale\n",
    "# values higher than the upper boundary are colored in the upmost color\n",
    "BOUNDARIES = [0, 10, 20, 30, 40, 50, 60, 70, 80, 90, 100]\n",
    "\n",
    "import matplotlib.colors as colors\n",
    "cmap = colors.ListedColormap(BUCKETS)\n",
    "\n",
    "norm = colors.BoundaryNorm(BOUNDARIES, cmap.N, clip=True)\n",
    "cmap.set_bad(color=\"#000000\", alpha=0.0) # opaque for NaN values (sea)"
   ]
  },
  {
   "cell_type": "code",
   "execution_count": 369,
   "metadata": {},
   "outputs": [
    {
     "data": {
      "text/plain": [
       "((136, 360),\n",
       " (array([ 0,  1,  2,  3,  4,  5,  6,  7,  8,  9, 10], dtype=int16),\n",
       "  array([  251,  4382,  9815,  1039,   418,   226,   113,    35,    30,\n",
       "            58, 32593])))"
      ]
     },
     "execution_count": 369,
     "metadata": {},
     "output_type": "execute_result"
    }
   ],
   "source": [
    "image = norm(Z).data\n",
    "image.shape, np.unique(image, return_counts=True)"
   ]
  },
  {
   "cell_type": "code",
   "execution_count": 370,
   "metadata": {},
   "outputs": [
    {
     "data": {
      "text/plain": [
       "(136, 360)"
      ]
     },
     "execution_count": 370,
     "metadata": {},
     "output_type": "execute_result"
    }
   ],
   "source": [
    "uncertainties = raster_maker.raw_uncertainties\n",
    "uncertainties.shape"
   ]
  },
  {
   "cell_type": "code",
   "execution_count": 371,
   "metadata": {},
   "outputs": [],
   "source": [
    "discrete_uncertainties = False\n",
    "uncertainties = np.where(\n",
    "    np.isnan(raster.read()[0]), uncertainties.min(), uncertainties\n",
    ")\n",
    "if (uncertainties.max() - uncertainties.min()) != 0:\n",
    "    uncertainties = (uncertainties - uncertainties.min()) / (\n",
    "        uncertainties.max() - uncertainties.min()\n",
    "    )\n",
    "    uncertainties = 1 - uncertainties\n",
    "    if discrete_uncertainties:\n",
    "        # threshold for uncertainty decided by experiment\n",
    "        uncertainties = np.where(uncertainties < 0.25, 0.0, 1.0)\n",
    "else:\n",
    "    uncertainties = 1.0\n",
    "# let uncertainty be high in the sea\n",
    "uncertainties = np.where(np.isnan(raster.read()[0]), 0.0, uncertainties)\n",
    "uncertainties = uncertainties.astype(\n",
    "    np.float64\n",
    ")  # matplotlib cannot handle float128\n",
    "raster_maker.uncertainties = uncertainties"
   ]
  },
  {
   "cell_type": "code",
   "execution_count": 372,
   "metadata": {},
   "outputs": [
    {
     "name": "stdout",
     "output_type": "stream",
     "text": [
      "(136, 360, 4)\n"
     ]
    }
   ],
   "source": [
    "import numpy as np\n",
    "import matplotlib.pyplot as plt\n",
    "\n",
    "# Input 2D scalar array\n",
    "scalars = image\n",
    "opacities = uncertainties\n",
    "\n",
    "# Apply the colormap to scalars\n",
    "colors = cmap(scalars)\n",
    "\n",
    "# Combine RGB values with the opacity\n",
    "rgba_array = np.empty_like(colors)\n",
    "rgba_array[:, :, :3] = colors[:, :, :3]  # RGB\n",
    "rgba_array[:, :, 3] = opacities  # A\n",
    "\n",
    "# Verify shape and content\n",
    "print(rgba_array.shape)"
   ]
  },
  {
   "cell_type": "code",
   "execution_count": 373,
   "metadata": {},
   "outputs": [
    {
     "data": {
      "text/plain": [
       "(array([ 0,  1,  2,  3,  4,  5,  6,  7,  8,  9, 10], dtype=int16),\n",
       " array([  251,  4382,  9815,  1039,   418,   226,   113,    35,    30,\n",
       "           58, 32593]))"
      ]
     },
     "execution_count": 373,
     "metadata": {},
     "output_type": "execute_result"
    }
   ],
   "source": [
    "np.unique(scalars, return_counts=True)"
   ]
  },
  {
   "cell_type": "code",
   "execution_count": 374,
   "metadata": {},
   "outputs": [
    {
     "data": {
      "text/plain": [
       "(0.2, 0.00392156862745098, 0.0, 1.0)"
      ]
     },
     "execution_count": 374,
     "metadata": {},
     "output_type": "execute_result"
    }
   ],
   "source": [
    "cmap(10)"
   ]
  },
  {
   "cell_type": "code",
   "execution_count": 375,
   "metadata": {},
   "outputs": [
    {
     "name": "stderr",
     "output_type": "stream",
     "text": [
      "/home/till/.local/lib/python3.10/site-packages/branca/utilities.py:329: RuntimeWarning: invalid value encountered in divide\n",
      "  array = array * 255./array.max(axis=(0, 1)).reshape((1, 1, 4))\n",
      "/home/till/.local/lib/python3.10/site-packages/branca/utilities.py:330: RuntimeWarning: invalid value encountered in cast\n",
      "  array = array.astype('uint8')\n"
     ]
    },
    {
     "data": {
      "text/plain": [
       "<folium.raster_layers.ImageOverlay at 0x7c5a11be35b0>"
      ]
     },
     "execution_count": 375,
     "metadata": {},
     "output_type": "execute_result"
    }
   ],
   "source": [
    "folium.raster_layers.ImageOverlay(\n",
    "    image=rgba_array,\n",
    "    bounds=[[-56, -180], [80, 180]],\n",
    ").add_to(m)"
   ]
  },
  {
   "cell_type": "code",
   "execution_count": 376,
   "metadata": {},
   "outputs": [
    {
     "data": {
      "text/html": [
       "<div style=\"width:100%;\"><div style=\"position:relative;width:100%;height:0;padding-bottom:60%;\"><span style=\"color:#565656\">Make this Notebook Trusted to load map: File -> Trust Notebook</span><iframe srcdoc=\"&lt;!DOCTYPE html&gt;\n",
       "&lt;html&gt;\n",
       "&lt;head&gt;\n",
       "    \n",
       "    &lt;meta http-equiv=&quot;content-type&quot; content=&quot;text/html; charset=UTF-8&quot; /&gt;\n",
       "    \n",
       "        &lt;script&gt;\n",
       "            L_NO_TOUCH = false;\n",
       "            L_DISABLE_3D = false;\n",
       "        &lt;/script&gt;\n",
       "    \n",
       "    &lt;style&gt;html, body {width: 100%;height: 100%;margin: 0;padding: 0;}&lt;/style&gt;\n",
       "    &lt;style&gt;#map {position:absolute;top:0;bottom:0;right:0;left:0;}&lt;/style&gt;\n",
       "    &lt;script src=&quot;https://cdn.jsdelivr.net/npm/leaflet@1.9.3/dist/leaflet.js&quot;&gt;&lt;/script&gt;\n",
       "    &lt;script src=&quot;https://code.jquery.com/jquery-3.7.1.min.js&quot;&gt;&lt;/script&gt;\n",
       "    &lt;script src=&quot;https://cdn.jsdelivr.net/npm/bootstrap@5.2.2/dist/js/bootstrap.bundle.min.js&quot;&gt;&lt;/script&gt;\n",
       "    &lt;script src=&quot;https://cdnjs.cloudflare.com/ajax/libs/Leaflet.awesome-markers/2.0.2/leaflet.awesome-markers.js&quot;&gt;&lt;/script&gt;\n",
       "    &lt;link rel=&quot;stylesheet&quot; href=&quot;https://cdn.jsdelivr.net/npm/leaflet@1.9.3/dist/leaflet.css&quot;/&gt;\n",
       "    &lt;link rel=&quot;stylesheet&quot; href=&quot;https://cdn.jsdelivr.net/npm/bootstrap@5.2.2/dist/css/bootstrap.min.css&quot;/&gt;\n",
       "    &lt;link rel=&quot;stylesheet&quot; href=&quot;https://netdna.bootstrapcdn.com/bootstrap/3.0.0/css/bootstrap.min.css&quot;/&gt;\n",
       "    &lt;link rel=&quot;stylesheet&quot; href=&quot;https://cdn.jsdelivr.net/npm/@fortawesome/fontawesome-free@6.2.0/css/all.min.css&quot;/&gt;\n",
       "    &lt;link rel=&quot;stylesheet&quot; href=&quot;https://cdnjs.cloudflare.com/ajax/libs/Leaflet.awesome-markers/2.0.2/leaflet.awesome-markers.css&quot;/&gt;\n",
       "    &lt;link rel=&quot;stylesheet&quot; href=&quot;https://cdn.jsdelivr.net/gh/python-visualization/folium/folium/templates/leaflet.awesome.rotate.min.css&quot;/&gt;\n",
       "    \n",
       "            &lt;meta name=&quot;viewport&quot; content=&quot;width=device-width,\n",
       "                initial-scale=1.0, maximum-scale=1.0, user-scalable=no&quot; /&gt;\n",
       "            &lt;style&gt;\n",
       "                #map_558f79dad07a0fa6e5945edc4baa04b8 {\n",
       "                    position: relative;\n",
       "                    width: 100.0%;\n",
       "                    height: 100.0%;\n",
       "                    left: 0.0%;\n",
       "                    top: 0.0%;\n",
       "                }\n",
       "                .leaflet-container { font-size: 1rem; }\n",
       "            &lt;/style&gt;\n",
       "        \n",
       "    \n",
       "                &lt;style&gt;\n",
       "                    .leaflet-image-layer {\n",
       "                        /* old android/safari*/\n",
       "                        image-rendering: -webkit-optimize-contrast;\n",
       "                        image-rendering: crisp-edges; /* safari */\n",
       "                        image-rendering: pixelated; /* chrome */\n",
       "                        image-rendering: -moz-crisp-edges; /* firefox */\n",
       "                        image-rendering: -o-crisp-edges; /* opera */\n",
       "                        -ms-interpolation-mode: nearest-neighbor; /* ie */\n",
       "                    }\n",
       "                &lt;/style&gt;\n",
       "            \n",
       "&lt;/head&gt;\n",
       "&lt;body&gt;\n",
       "    \n",
       "    \n",
       "            &lt;div class=&quot;folium-map&quot; id=&quot;map_558f79dad07a0fa6e5945edc4baa04b8&quot; &gt;&lt;/div&gt;\n",
       "        \n",
       "&lt;/body&gt;\n",
       "&lt;script&gt;\n",
       "    \n",
       "    \n",
       "            var map_558f79dad07a0fa6e5945edc4baa04b8 = L.map(\n",
       "                &quot;map_558f79dad07a0fa6e5945edc4baa04b8&quot;,\n",
       "                {\n",
       "                    center: [48.875, 12.0],\n",
       "                    crs: L.CRS.EPSG3857,\n",
       "                    zoom: 2,\n",
       "                    zoomControl: true,\n",
       "                    preferCanvas: false,\n",
       "                }\n",
       "            );\n",
       "\n",
       "            \n",
       "\n",
       "        \n",
       "    \n",
       "            var tile_layer_aafc49163fd6ad8b38480fe68745198d = L.tileLayer(\n",
       "                &quot;https://{s}.basemaps.cartocdn.com/light_all/{z}/{x}/{y}{r}.png&quot;,\n",
       "                {&quot;attribution&quot;: &quot;\\u0026copy; \\u003ca href=\\&quot;https://www.openstreetmap.org/copyright\\&quot;\\u003eOpenStreetMap\\u003c/a\\u003e contributors \\u0026copy; \\u003ca href=\\&quot;https://carto.com/attributions\\&quot;\\u003eCARTO\\u003c/a\\u003e&quot;, &quot;detectRetina&quot;: false, &quot;maxNativeZoom&quot;: 20, &quot;maxZoom&quot;: 20, &quot;minZoom&quot;: 0, &quot;noWrap&quot;: true, &quot;opacity&quot;: 1, &quot;subdomains&quot;: &quot;abcd&quot;, &quot;tms&quot;: false}\n",
       "            );\n",
       "        \n",
       "    \n",
       "            tile_layer_aafc49163fd6ad8b38480fe68745198d.addTo(map_558f79dad07a0fa6e5945edc4baa04b8);\n",
       "        \n",
       "    \n",
       "            var image_overlay_23fddedad58482243357413c05d4867d = L.imageOverlay(\n",
       "                &quot;data:image/png;base64,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&quot;,\n",
       "                [[-56, -180], [80, 180]],\n",
       "                {}\n",
       "            );\n",
       "        \n",
       "    \n",
       "            image_overlay_23fddedad58482243357413c05d4867d.addTo(map_558f79dad07a0fa6e5945edc4baa04b8);\n",
       "        \n",
       "&lt;/script&gt;\n",
       "&lt;/html&gt;\" style=\"position:absolute;width:100%;height:100%;left:0;top:0;border:none !important;\" allowfullscreen webkitallowfullscreen mozallowfullscreen></iframe></div></div>"
      ],
      "text/plain": [
       "<folium.folium.Map at 0x7c5a11bcac80>"
      ]
     },
     "execution_count": 376,
     "metadata": {},
     "output_type": "execute_result"
    }
   ],
   "source": [
    "m"
   ]
  }
 ],
 "metadata": {
  "kernelspec": {
   "display_name": "heatchmap",
   "language": "python",
   "name": "python3"
  },
  "language_info": {
   "codemirror_mode": {
    "name": "ipython",
    "version": 3
   },
   "file_extension": ".py",
   "mimetype": "text/x-python",
   "name": "python",
   "nbconvert_exporter": "python",
   "pygments_lexer": "ipython3",
   "version": "3.10.14"
  }
 },
 "nbformat": 4,
 "nbformat_minor": 2
}
