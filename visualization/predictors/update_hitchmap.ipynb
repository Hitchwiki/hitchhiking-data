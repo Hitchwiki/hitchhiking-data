{
 "cells": [
  {
   "cell_type": "code",
   "execution_count": 40,
   "metadata": {},
   "outputs": [
    {
     "ename": "ModuleNotFoundError",
     "evalue": "No module named 'seaborn'",
     "output_type": "error",
     "traceback": [
      "\u001b[0;31m---------------------------------------------------------------------------\u001b[0m",
      "\u001b[0;31mModuleNotFoundError\u001b[0m                       Traceback (most recent call last)",
      "Cell \u001b[0;32mIn[40], line 3\u001b[0m\n\u001b[1;32m      1\u001b[0m \u001b[38;5;28;01mimport\u001b[39;00m\u001b[38;5;250m \u001b[39m\u001b[38;5;21;01msys\u001b[39;00m\n\u001b[1;32m      2\u001b[0m sys\u001b[38;5;241m.\u001b[39mpath\u001b[38;5;241m.\u001b[39mappend(\u001b[38;5;124m'\u001b[39m\u001b[38;5;124m./utils\u001b[39m\u001b[38;5;124m'\u001b[39m)\n\u001b[0;32m----> 3\u001b[0m \u001b[38;5;28;01mfrom\u001b[39;00m\u001b[38;5;250m \u001b[39m\u001b[38;5;21;01mutils_imports\u001b[39;00m\u001b[38;5;250m \u001b[39m\u001b[38;5;28;01mimport\u001b[39;00m \u001b[38;5;241m*\u001b[39m\n",
      "File \u001b[0;32m~/projects/hitchhiking/hitchmap-data/visualization/predictors/./utils/utils_imports.py:6\u001b[0m\n\u001b[1;32m      4\u001b[0m \u001b[38;5;28;01mimport\u001b[39;00m\u001b[38;5;250m \u001b[39m\u001b[38;5;21;01mnumpy\u001b[39;00m\u001b[38;5;250m \u001b[39m\u001b[38;5;28;01mas\u001b[39;00m\u001b[38;5;250m \u001b[39m\u001b[38;5;21;01mnp\u001b[39;00m\n\u001b[1;32m      5\u001b[0m \u001b[38;5;28;01mimport\u001b[39;00m\u001b[38;5;250m \u001b[39m\u001b[38;5;21;01mpandas\u001b[39;00m\u001b[38;5;250m \u001b[39m\u001b[38;5;28;01mas\u001b[39;00m\u001b[38;5;250m \u001b[39m\u001b[38;5;21;01mpd\u001b[39;00m\n\u001b[0;32m----> 6\u001b[0m \u001b[38;5;28;01mimport\u001b[39;00m\u001b[38;5;250m \u001b[39m\u001b[38;5;21;01mseaborn\u001b[39;00m\u001b[38;5;250m \u001b[39m\u001b[38;5;28;01mas\u001b[39;00m\u001b[38;5;250m \u001b[39m\u001b[38;5;21;01msns\u001b[39;00m\n\u001b[1;32m      7\u001b[0m \u001b[38;5;28;01mimport\u001b[39;00m\u001b[38;5;250m \u001b[39m\u001b[38;5;21;01mshapely\u001b[39;00m\n\u001b[1;32m      8\u001b[0m \u001b[38;5;28;01mfrom\u001b[39;00m\u001b[38;5;250m \u001b[39m\u001b[38;5;21;01mmatplotlib\u001b[39;00m\u001b[38;5;250m \u001b[39m\u001b[38;5;28;01mimport\u001b[39;00m pyplot \u001b[38;5;28;01mas\u001b[39;00m plt\n",
      "\u001b[0;31mModuleNotFoundError\u001b[0m: No module named 'seaborn'"
     ]
    }
   ],
   "source": [
    "import sys\n",
    "sys.path.append('./utils')\n",
    "from utils_imports import *\n"
   ]
  },
  {
   "cell_type": "markdown",
   "metadata": {},
   "source": [
    "# train"
   ]
  },
  {
   "cell_type": "code",
   "execution_count": null,
   "metadata": {},
   "outputs": [],
   "source": [
    "res = 5"
   ]
  },
  {
   "cell_type": "code",
   "execution_count": 4,
   "metadata": {},
   "outputs": [
    {
     "name": "stdout",
     "output_type": "stream",
     "text": [
      "fmin_l_bfgs_b\n",
      "None\n",
      "Compute rows of pixels...\n"
     ]
    },
    {
     "data": {
      "application/vnd.jupyter.widget-view+json": {
       "model_id": "7e013a09a3974101bdd807a05c574262",
       "version_major": 2,
       "version_minor": 0
      },
      "text/plain": [
       "  0%|          | 0/3600 [00:00<?, ?it/s]"
      ]
     },
     "metadata": {},
     "output_type": "display_data"
    },
    {
     "ename": "KeyboardInterrupt",
     "evalue": "",
     "output_type": "error",
     "traceback": [
      "\u001b[0;31m---------------------------------------------------------------------------\u001b[0m",
      "\u001b[0;31mKeyboardInterrupt\u001b[0m                         Traceback (most recent call last)",
      "Cell \u001b[0;32mIn[4], line 17\u001b[0m\n\u001b[1;32m     14\u001b[0m \u001b[38;5;28mprint\u001b[39m(gpr\u001b[38;5;241m.\u001b[39mregressor\u001b[38;5;241m.\u001b[39moptimizer)\n\u001b[1;32m     16\u001b[0m gpr \u001b[38;5;241m=\u001b[39m fit_gpr_silent(gpr, X, y)\n\u001b[0;32m---> 17\u001b[0m raster_maker \u001b[38;5;241m=\u001b[39m \u001b[43mraster_from_model\u001b[49m\u001b[43m(\u001b[49m\n\u001b[1;32m     18\u001b[0m \u001b[43m    \u001b[49m\u001b[43mgpr\u001b[49m\u001b[43m,\u001b[49m\n\u001b[1;32m     19\u001b[0m \u001b[43m    \u001b[49m\u001b[38;5;124;43m\"\u001b[39;49m\u001b[38;5;124;43mworld\u001b[39;49m\u001b[38;5;124;43m\"\u001b[39;49m\u001b[43m,\u001b[49m\n\u001b[1;32m     20\u001b[0m \u001b[43m    \u001b[49m\u001b[43mres\u001b[49m\u001b[43m,\u001b[49m\n\u001b[1;32m     21\u001b[0m \u001b[43m    \u001b[49m\u001b[43mshow_uncertainties\u001b[49m\u001b[38;5;241;43m=\u001b[39;49m\u001b[38;5;28;43;01mTrue\u001b[39;49;00m\u001b[43m,\u001b[49m\n\u001b[1;32m     22\u001b[0m \u001b[43m    \u001b[49m\u001b[43mverbose\u001b[49m\u001b[38;5;241;43m=\u001b[39;49m\u001b[38;5;28;43;01mTrue\u001b[39;49;00m\u001b[43m,\u001b[49m\n\u001b[1;32m     23\u001b[0m \u001b[43m)\u001b[49m\n\u001b[1;32m     25\u001b[0m \u001b[38;5;28;01mwith\u001b[39;00m \u001b[38;5;28mopen\u001b[39m(\u001b[38;5;124m\"\u001b[39m\u001b[38;5;124mjan.pkl\u001b[39m\u001b[38;5;124m\"\u001b[39m, \u001b[38;5;124m\"\u001b[39m\u001b[38;5;124mwb\u001b[39m\u001b[38;5;124m\"\u001b[39m) \u001b[38;5;28;01mas\u001b[39;00m file:\n\u001b[1;32m     26\u001b[0m     pickle\u001b[38;5;241m.\u001b[39mdump(raster_maker, file)\n",
      "File \u001b[0;32m~/hitchmap-data/visualization/predictors/./utils/utils_map.py:103\u001b[0m, in \u001b[0;36mraster_from_model\u001b[0;34m(model, region, resolution, show_uncertainties, verbose)\u001b[0m\n\u001b[1;32m    101\u001b[0m \u001b[38;5;28;01mfor\u001b[39;00m vertical_line \u001b[38;5;129;01min\u001b[39;00m tqdm(grid\u001b[38;5;241m.\u001b[39mtranspose(), disable\u001b[38;5;241m=\u001b[39m\u001b[38;5;129;01mnot\u001b[39;00m verbose):\n\u001b[1;32m    102\u001b[0m     \u001b[38;5;28;01mif\u001b[39;00m show_uncertainties:\n\u001b[0;32m--> 103\u001b[0m         pred, stdv \u001b[38;5;241m=\u001b[39m \u001b[43mmodel\u001b[49m\u001b[38;5;241;43m.\u001b[39;49m\u001b[43mpredict\u001b[49m\u001b[43m(\u001b[49m\u001b[43mvertical_line\u001b[49m\u001b[43m,\u001b[49m\u001b[43m \u001b[49m\u001b[43mreturn_std\u001b[49m\u001b[38;5;241;43m=\u001b[39;49m\u001b[38;5;28;43;01mTrue\u001b[39;49;00m\u001b[43m)\u001b[49m\n\u001b[1;32m    104\u001b[0m         uncertainty_map \u001b[38;5;241m=\u001b[39m np\u001b[38;5;241m.\u001b[39mvstack((uncertainty_map, stdv))\n\u001b[1;32m    105\u001b[0m     \u001b[38;5;28;01melse\u001b[39;00m:\n",
      "File \u001b[0;32m~/hitchmap-data/visualization/predictors/./utils/transformed_target_regressor_with_uncertainty.py:49\u001b[0m, in \u001b[0;36mTransformedTargetRegressorWithUncertainty.predict\u001b[0;34m(self, X, return_std, transform_predictions, **predict_params)\u001b[0m\n\u001b[1;32m     46\u001b[0m \u001b[38;5;66;03m# always return the standard deviation as it is required for the proper inverse_transform\u001b[39;00m\n\u001b[1;32m     47\u001b[0m \u001b[38;5;66;03m# regressor_ is the fitted regressor\u001b[39;00m\n\u001b[1;32m     48\u001b[0m model: BaseEstimator \u001b[38;5;241m=\u001b[39m \u001b[38;5;28mself\u001b[39m\u001b[38;5;241m.\u001b[39mregressor_\n\u001b[0;32m---> 49\u001b[0m tran_pred, tran_std \u001b[38;5;241m=\u001b[39m \u001b[43mmodel\u001b[49m\u001b[38;5;241;43m.\u001b[39;49m\u001b[43mpredict\u001b[49m\u001b[43m(\u001b[49m\u001b[43mX\u001b[49m\u001b[43m,\u001b[49m\u001b[43m \u001b[49m\u001b[43mreturn_std\u001b[49m\u001b[38;5;241;43m=\u001b[39;49m\u001b[38;5;28;43;01mTrue\u001b[39;49;00m\u001b[43m)\u001b[49m\n\u001b[1;32m     50\u001b[0m \u001b[38;5;28;01mif\u001b[39;00m transform_predictions:\n\u001b[1;32m     51\u001b[0m     tran_pred \u001b[38;5;241m=\u001b[39m \u001b[38;5;28mself\u001b[39m\u001b[38;5;241m.\u001b[39mnumeric_transformer\u001b[38;5;241m.\u001b[39minverse_mean_func(tran_pred, tran_std)\n",
      "File \u001b[0;32m~/miniconda3/envs/heatchmap/lib/python3.10/site-packages/sklearn/gaussian_process/_gpr.py:447\u001b[0m, in \u001b[0;36mGaussianProcessRegressor.predict\u001b[0;34m(self, X, return_std, return_cov)\u001b[0m\n\u001b[1;32m    444\u001b[0m y_mean \u001b[38;5;241m=\u001b[39m \u001b[38;5;28mself\u001b[39m\u001b[38;5;241m.\u001b[39m_y_train_std \u001b[38;5;241m*\u001b[39m y_mean \u001b[38;5;241m+\u001b[39m \u001b[38;5;28mself\u001b[39m\u001b[38;5;241m.\u001b[39m_y_train_mean\n\u001b[1;32m    446\u001b[0m \u001b[38;5;66;03m# if y_mean has shape (n_samples, 1), reshape to (n_samples,)\u001b[39;00m\n\u001b[0;32m--> 447\u001b[0m \u001b[38;5;28;01mif\u001b[39;00m y_mean\u001b[38;5;241m.\u001b[39mndim \u001b[38;5;241m>\u001b[39m \u001b[38;5;241m1\u001b[39m \u001b[38;5;129;01mand\u001b[39;00m y_mean\u001b[38;5;241m.\u001b[39mshape[\u001b[38;5;241m1\u001b[39m] \u001b[38;5;241m==\u001b[39m \u001b[38;5;241m1\u001b[39m:\n\u001b[1;32m    448\u001b[0m     y_mean \u001b[38;5;241m=\u001b[39m np\u001b[38;5;241m.\u001b[39msqueeze(y_mean, axis\u001b[38;5;241m=\u001b[39m\u001b[38;5;241m1\u001b[39m)\n\u001b[1;32m    450\u001b[0m \u001b[38;5;66;03m# Alg 2.1, page 19, line 5 -> v = L \\ K(X_test, X_train)^T\u001b[39;00m\n",
      "\u001b[0;31mKeyboardInterrupt\u001b[0m: "
     ]
    }
   ],
   "source": [
    "points = get_points(\"dump.sqlite\", until=pd.Timestamp(\"2024-01-30\"))\n",
    "points[\"lon\"] = points.geometry.x\n",
    "points[\"lat\"] = points.geometry.y\n",
    "\n",
    "X = points[[\"lon\", \"lat\"]].values\n",
    "y = points[\"wait\"].values\n",
    "X.shape, y.shape\n",
    "\n",
    "with open(\"models/kernel.pkl\", \"rb\") as file:\n",
    "    gpr = pickle.load(file)\n",
    "    \n",
    "print(gpr.regressor.optimizer)\n",
    "gpr.regressor.optimizer = None\n",
    "print(gpr.regressor.optimizer)\n",
    "\n",
    "gpr = fit_gpr_silent(gpr, X, y)\n",
    "raster_maker = raster_from_model(\n",
    "    gpr,\n",
    "    \"world\",\n",
    "    res,\n",
    "    show_uncertainties=True,\n",
    "    verbose=True,\n",
    ")\n",
    "\n",
    "with open(\"jan.pkl\", \"wb\") as file:\n",
    "    pickle.dump(raster_maker, file)"
   ]
  },
  {
   "cell_type": "code",
   "execution_count": null,
   "metadata": {},
   "outputs": [],
   "source": [
    "points = get_points(\"dump.sqlite\", until=pd.Timestamp(\"2024-03-30\"))\n",
    "points[\"lon\"] = points.geometry.x\n",
    "points[\"lat\"] = points.geometry.y\n",
    "\n",
    "X = points[[\"lon\", \"lat\"]].values\n",
    "y = points[\"wait\"].values\n",
    "X.shape, y.shape\n",
    "\n",
    "with open(\"models/kernel.pkl\", \"rb\") as file:\n",
    "    gpr = pickle.load(file)\n",
    "    \n",
    "print(gpr.regressor.optimizer)\n",
    "gpr.regressor.optimizer = None\n",
    "print(gpr.regressor.optimizer)\n",
    "\n",
    "gpr = fit_gpr_silent(gpr, X, y)\n",
    "raster_maker = raster_from_model(\n",
    "    gpr,\n",
    "    \"world\",\n",
    "    res,\n",
    "    show_uncertainties=True,\n",
    "    verbose=True,\n",
    ")\n",
    "\n",
    "with open(\"mar.pkl\", \"wb\") as file:\n",
    "    pickle.dump(raster_maker, file)"
   ]
  },
  {
   "cell_type": "code",
   "execution_count": null,
   "metadata": {},
   "outputs": [],
   "source": [
    "points = get_points(\"dump.sqlite\", until=pd.Timestamp(\"2024-05-30\"))\n",
    "points[\"lon\"] = points.geometry.x\n",
    "points[\"lat\"] = points.geometry.y\n",
    "\n",
    "X = points[[\"lon\", \"lat\"]].values\n",
    "y = points[\"wait\"].values\n",
    "X.shape, y.shape\n",
    "\n",
    "with open(\"models/kernel.pkl\", \"rb\") as file:\n",
    "    gpr = pickle.load(file)\n",
    "    \n",
    "print(gpr.regressor.optimizer)\n",
    "gpr.regressor.optimizer = None\n",
    "print(gpr.regressor.optimizer)\n",
    "\n",
    "gpr = fit_gpr_silent(gpr, X, y)\n",
    "raster_maker = raster_from_model(\n",
    "    gpr,\n",
    "    \"world\",\n",
    "    res,\n",
    "    show_uncertainties=True,\n",
    "    verbose=True,\n",
    ")\n",
    "\n",
    "with open(\"may.pkl\", \"wb\") as file:\n",
    "    pickle.dump(raster_maker, file)"
   ]
  },
  {
   "cell_type": "code",
   "execution_count": null,
   "metadata": {},
   "outputs": [],
   "source": [
    "points = get_points(\"dump.sqlite\", until=pd.Timestamp(\"2024-07-30\"))\n",
    "points[\"lon\"] = points.geometry.x\n",
    "points[\"lat\"] = points.geometry.y\n",
    "\n",
    "X = points[[\"lon\", \"lat\"]].values\n",
    "y = points[\"wait\"].values\n",
    "X.shape, y.shape\n",
    "\n",
    "with open(\"models/kernel.pkl\", \"rb\") as file:\n",
    "    gpr = pickle.load(file)\n",
    "    \n",
    "print(gpr.regressor.optimizer)\n",
    "gpr.regressor.optimizer = None\n",
    "print(gpr.regressor.optimizer)\n",
    "\n",
    "gpr = fit_gpr_silent(gpr, X, y)\n",
    "raster_maker = raster_from_model(\n",
    "    gpr,\n",
    "    \"world\",\n",
    "    res,\n",
    "    show_uncertainties=True,\n",
    "    verbose=True,\n",
    ")\n",
    "\n",
    "with open(\"jul.pkl\", \"wb\") as file:\n",
    "    pickle.dump(raster_maker, file)"
   ]
  },
  {
   "cell_type": "code",
   "execution_count": null,
   "metadata": {},
   "outputs": [],
   "source": [
    "points = get_points(\"dump.sqlite\", until=pd.Timestamp(\"2024-09-30\"))\n",
    "points[\"lon\"] = points.geometry.x\n",
    "points[\"lat\"] = points.geometry.y\n",
    "\n",
    "X = points[[\"lon\", \"lat\"]].values\n",
    "y = points[\"wait\"].values\n",
    "X.shape, y.shape\n",
    "\n",
    "with open(\"models/kernel.pkl\", \"rb\") as file:\n",
    "    gpr = pickle.load(file)\n",
    "    \n",
    "print(gpr.regressor.optimizer)\n",
    "gpr.regressor.optimizer = None\n",
    "print(gpr.regressor.optimizer)\n",
    "\n",
    "gpr = fit_gpr_silent(gpr, X, y)\n",
    "raster_maker = raster_from_model(\n",
    "    gpr,\n",
    "    \"world\",\n",
    "    res,\n",
    "    show_uncertainties=True,\n",
    "    verbose=True,\n",
    ")\n",
    "\n",
    "with open(\"sep.pkl\", \"wb\") as file:\n",
    "    pickle.dump(raster_maker, file)"
   ]
  },
  {
   "cell_type": "code",
   "execution_count": null,
   "metadata": {},
   "outputs": [],
   "source": [
    "points = get_points(\"dump.sqlite\", until=pd.Timestamp(\"2024-11-30\"))\n",
    "points[\"lon\"] = points.geometry.x\n",
    "points[\"lat\"] = points.geometry.y\n",
    "\n",
    "X = points[[\"lon\", \"lat\"]].values\n",
    "y = points[\"wait\"].values\n",
    "X.shape, y.shape\n",
    "\n",
    "with open(\"models/kernel.pkl\", \"rb\") as file:\n",
    "    gpr = pickle.load(file)\n",
    "    \n",
    "print(gpr.regressor.optimizer)\n",
    "gpr.regressor.optimizer = None\n",
    "print(gpr.regressor.optimizer)\n",
    "\n",
    "gpr = fit_gpr_silent(gpr, X, y)\n",
    "raster_maker = raster_from_model(\n",
    "    gpr,\n",
    "    \"world\",\n",
    "    res,\n",
    "    show_uncertainties=True,\n",
    "    verbose=True,\n",
    ")\n",
    "\n",
    "with open(\"nov.pkl\", \"wb\") as file:\n",
    "    pickle.dump(raster_maker, file)"
   ]
  },
  {
   "cell_type": "code",
   "execution_count": null,
   "metadata": {},
   "outputs": [],
   "source": [
    "stop"
   ]
  },
  {
   "cell_type": "markdown",
   "metadata": {},
   "source": [
    "# draw"
   ]
  },
  {
   "cell_type": "code",
   "execution_count": 41,
   "metadata": {},
   "outputs": [],
   "source": [
    "from datasets import load_dataset\n",
    "import matplotlib.pyplot as plt"
   ]
  },
  {
   "cell_type": "code",
   "execution_count": 42,
   "metadata": {},
   "outputs": [],
   "source": [
    "import xyzservices.providers as xyz\n",
    "import folium\n",
    "lon, lat = 12, 48.875\n",
    "zoom_start = 2\n",
    "\n",
    "\n",
    "tiles = xyz.CartoDB.Positron\n",
    "m = folium.Map(\n",
    "    tiles=folium.TileLayer(no_wrap=True, tiles=tiles),\n",
    "    attr=\"Dummy\",\n",
    "    zoom_start=zoom_start,\n",
    "    location=[lat, lon],\n",
    ")"
   ]
  },
  {
   "cell_type": "code",
   "execution_count": 43,
   "metadata": {},
   "outputs": [],
   "source": [
    "BUCKETS = [\n",
    "    \"#008200\",  # dark green\n",
    "    \"#00c800\",  # light green\n",
    "    \"#c8ff00\",  # light yellow\n",
    "    \"#ffff00\",  # yellow\n",
    "    \"#ffc800\",  # light orange\n",
    "    \"#ff8200\",  # dark orange\n",
    "    \"red\",  # red\n",
    "    \"#c80000\",  # dark red\n",
    "    \"#820000\",  # wine red\n",
    "    \"#330100\",  # drop?\n",
    "]\n",
    "\n",
    "# define the heatmap color scale\n",
    "# values higher than the upper boundary are colored in the upmost color\n",
    "BOUNDARIES = [0, 10, 20, 30, 40, 50, 60, 70, 80, 90, 100]\n",
    "\n",
    "import matplotlib.colors as colors\n",
    "cmap = colors.ListedColormap(BUCKETS)\n",
    "\n",
    "norm = colors.BoundaryNorm(BOUNDARIES, cmap.N, clip=True)\n",
    "cmap.set_bad(color=\"#000000\", alpha=0.0) # opaque for NaN values (sea)"
   ]
  },
  {
   "cell_type": "code",
   "execution_count": 44,
   "metadata": {},
   "outputs": [
    {
     "data": {
      "image/png": "[encoded data removed]",
      "text/plain": [
       "<Figure size 640x480 with 2 Axes>"
      ]
     },
     "metadata": {},
     "output_type": "display_data"
    }
   ],
   "source": [
    "ds = load_dataset(\"tillwenke/heatchmap-map\", cache_dir=\"intermediate/huggingface\")\n",
    "ds = ds.with_format(\"np\")\n",
    "image = ds[\"train\"][\"numpy\"]\n",
    "plt.imshow(image.clip(0,100), cmap=\"viridis\", interpolation=\"nearest\")\n",
    "plt.colorbar()\n",
    "plt.xlabel(\"Longitude\")\n",
    "plt.ylabel(\"Latitude\")\n",
    "plt.show()"
   ]
  },
  {
   "cell_type": "code",
   "execution_count": 52,
   "metadata": {},
   "outputs": [
    {
     "data": {
      "text/plain": [
       "(np.float64(0.7843137254901961),\n",
       " np.float64(1.0),\n",
       " np.float64(0.0),\n",
       " np.float64(1.0))"
      ]
     },
     "execution_count": 52,
     "metadata": {},
     "output_type": "execute_result"
    }
   ],
   "source": [
    "cmap(2)"
   ]
  },
  {
   "cell_type": "code",
   "execution_count": 45,
   "metadata": {},
   "outputs": [
    {
     "data": {
      "text/plain": [
       "array([[[0.2       , 0.00392157, 0.        , 1.        ],\n",
       "        [0.2       , 0.00392157, 0.        , 1.        ],\n",
       "        [0.2       , 0.00392157, 0.        , 1.        ],\n",
       "        ...,\n",
       "        [0.2       , 0.00392157, 0.        , 1.        ],\n",
       "        [0.2       , 0.00392157, 0.        , 1.        ],\n",
       "        [0.2       , 0.00392157, 0.        , 1.        ]],\n",
       "\n",
       "       [[0.2       , 0.00392157, 0.        , 1.        ],\n",
       "        [0.2       , 0.00392157, 0.        , 1.        ],\n",
       "        [0.2       , 0.00392157, 0.        , 1.        ],\n",
       "        ...,\n",
       "        [0.2       , 0.00392157, 0.        , 1.        ],\n",
       "        [0.2       , 0.00392157, 0.        , 1.        ],\n",
       "        [0.2       , 0.00392157, 0.        , 1.        ]],\n",
       "\n",
       "       [[0.2       , 0.00392157, 0.        , 1.        ],\n",
       "        [0.2       , 0.00392157, 0.        , 1.        ],\n",
       "        [0.2       , 0.00392157, 0.        , 1.        ],\n",
       "        ...,\n",
       "        [0.2       , 0.00392157, 0.        , 1.        ],\n",
       "        [0.2       , 0.00392157, 0.        , 1.        ],\n",
       "        [0.2       , 0.00392157, 0.        , 1.        ]],\n",
       "\n",
       "       ...,\n",
       "\n",
       "       [[0.2       , 0.00392157, 0.        , 1.        ],\n",
       "        [0.2       , 0.00392157, 0.        , 1.        ],\n",
       "        [0.2       , 0.00392157, 0.        , 1.        ],\n",
       "        ...,\n",
       "        [0.2       , 0.00392157, 0.        , 1.        ],\n",
       "        [0.2       , 0.00392157, 0.        , 1.        ],\n",
       "        [0.2       , 0.00392157, 0.        , 1.        ]],\n",
       "\n",
       "       [[0.2       , 0.00392157, 0.        , 1.        ],\n",
       "        [0.2       , 0.00392157, 0.        , 1.        ],\n",
       "        [0.2       , 0.00392157, 0.        , 1.        ],\n",
       "        ...,\n",
       "        [0.2       , 0.00392157, 0.        , 1.        ],\n",
       "        [0.2       , 0.00392157, 0.        , 1.        ],\n",
       "        [0.2       , 0.00392157, 0.        , 1.        ]],\n",
       "\n",
       "       [[0.2       , 0.00392157, 0.        , 1.        ],\n",
       "        [0.2       , 0.00392157, 0.        , 1.        ],\n",
       "        [0.2       , 0.00392157, 0.        , 1.        ],\n",
       "        ...,\n",
       "        [0.2       , 0.00392157, 0.        , 1.        ],\n",
       "        [0.2       , 0.00392157, 0.        , 1.        ],\n",
       "        [0.2       , 0.00392157, 0.        , 1.        ]]],\n",
       "      shape=(1360, 3600, 4))"
      ]
     },
     "execution_count": 45,
     "metadata": {},
     "output_type": "execute_result"
    }
   ],
   "source": [
    "import numpy as np\n",
    "\n",
    "# Input 2D scalar array\n",
    "scalars = image\n",
    "# opacities = uncertainties\n",
    "\n",
    "# Apply the colormap to scalars\n",
    "colors = cmap(scalars)\n",
    "colors"
   ]
  },
  {
   "cell_type": "code",
   "execution_count": 46,
   "metadata": {},
   "outputs": [
    {
     "name": "stdout",
     "output_type": "stream",
     "text": [
      "(1360, 3600, 4)\n"
     ]
    }
   ],
   "source": [
    "# # Combine RGB values with the opacity\n",
    "# rgba_array = np.empty_like(colors)\n",
    "# rgba_array[:, :, :3] = colors[:, :, :3]  # RGB\n",
    "# # rgba_array[:, :, 3] = opacities  # A\n",
    "# rgba_array[:, :, 3] = 1.0\n",
    " \n",
    "# # Verify shape and content\n",
    "# print(rgba_array.shape)"
   ]
  },
  {
   "cell_type": "code",
   "execution_count": 48,
   "metadata": {},
   "outputs": [
    {
     "name": "stderr",
     "output_type": "stream",
     "text": [
      "/home/till/.local/lib/python3.10/site-packages/branca/utilities.py:329: RuntimeWarning: invalid value encountered in divide\n",
      "  array = array * 255./array.max(axis=(0, 1)).reshape((1, 1, 4))\n",
      "/home/till/.local/lib/python3.10/site-packages/branca/utilities.py:330: RuntimeWarning: invalid value encountered in cast\n",
      "  array = array.astype('uint8')\n"
     ]
    },
    {
     "data": {
      "text/plain": [
       "<folium.raster_layers.ImageOverlay at 0x753b4daed1b0>"
      ]
     },
     "execution_count": 48,
     "metadata": {},
     "output_type": "execute_result"
    }
   ],
   "source": [
    "folium.raster_layers.ImageOverlay(\n",
    "    image=colors,\n",
    "    bounds=[[-56, -180], [80, 180]],\n",
    ").add_to(m)"
   ]
  },
  {
   "cell_type": "code",
   "execution_count": 49,
   "metadata": {},
   "outputs": [
    {
     "data": {
      "text/html": [
       "<div style=\"width:100%;\"><div style=\"position:relative;width:100%;height:0;padding-bottom:60%;\"><span style=\"color:#565656\">Make this Notebook Trusted to load map: File -> Trust Notebook</span><iframe srcdoc=\"&lt;!DOCTYPE html&gt;\n",
       "&lt;html&gt;\n",
       "&lt;head&gt;\n",
       "    \n",
       "    &lt;meta http-equiv=&quot;content-type&quot; content=&quot;text/html; charset=UTF-8&quot; /&gt;\n",
       "    \n",
       "        &lt;script&gt;\n",
       "            L_NO_TOUCH = false;\n",
       "            L_DISABLE_3D = false;\n",
       "        &lt;/script&gt;\n",
       "    \n",
       "    &lt;style&gt;html, body {width: 100%;height: 100%;margin: 0;padding: 0;}&lt;/style&gt;\n",
       "    &lt;style&gt;#map {position:absolute;top:0;bottom:0;right:0;left:0;}&lt;/style&gt;\n",
       "    &lt;script src=&quot;https://cdn.jsdelivr.net/npm/leaflet@1.9.3/dist/leaflet.js&quot;&gt;&lt;/script&gt;\n",
       "    &lt;script src=&quot;https://code.jquery.com/jquery-3.7.1.min.js&quot;&gt;&lt;/script&gt;\n",
       "    &lt;script src=&quot;https://cdn.jsdelivr.net/npm/bootstrap@5.2.2/dist/js/bootstrap.bundle.min.js&quot;&gt;&lt;/script&gt;\n",
       "    &lt;script src=&quot;https://cdnjs.cloudflare.com/ajax/libs/Leaflet.awesome-markers/2.0.2/leaflet.awesome-markers.js&quot;&gt;&lt;/script&gt;\n",
       "    &lt;link rel=&quot;stylesheet&quot; href=&quot;https://cdn.jsdelivr.net/npm/leaflet@1.9.3/dist/leaflet.css&quot;/&gt;\n",
       "    &lt;link rel=&quot;stylesheet&quot; href=&quot;https://cdn.jsdelivr.net/npm/bootstrap@5.2.2/dist/css/bootstrap.min.css&quot;/&gt;\n",
       "    &lt;link rel=&quot;stylesheet&quot; href=&quot;https://netdna.bootstrapcdn.com/bootstrap/3.0.0/css/bootstrap-glyphicons.css&quot;/&gt;\n",
       "    &lt;link rel=&quot;stylesheet&quot; href=&quot;https://cdn.jsdelivr.net/npm/@fortawesome/fontawesome-free@6.2.0/css/all.min.css&quot;/&gt;\n",
       "    &lt;link rel=&quot;stylesheet&quot; href=&quot;https://cdnjs.cloudflare.com/ajax/libs/Leaflet.awesome-markers/2.0.2/leaflet.awesome-markers.css&quot;/&gt;\n",
       "    &lt;link rel=&quot;stylesheet&quot; href=&quot;https://cdn.jsdelivr.net/gh/python-visualization/folium/folium/templates/leaflet.awesome.rotate.min.css&quot;/&gt;\n",
       "    \n",
       "            &lt;meta name=&quot;viewport&quot; content=&quot;width=device-width,\n",
       "                initial-scale=1.0, maximum-scale=1.0, user-scalable=no&quot; /&gt;\n",
       "            &lt;style&gt;\n",
       "                #map_19bb34e2cb27c458bce09d7160454c64 {\n",
       "                    position: relative;\n",
       "                    width: 100.0%;\n",
       "                    height: 100.0%;\n",
       "                    left: 0.0%;\n",
       "                    top: 0.0%;\n",
       "                }\n",
       "                .leaflet-container { font-size: 1rem; }\n",
       "            &lt;/style&gt;\n",
       "        \n",
       "    \n",
       "                &lt;style&gt;\n",
       "                    .leaflet-image-layer {\n",
       "                        /* old android/safari*/\n",
       "                        image-rendering: -webkit-optimize-contrast;\n",
       "                        image-rendering: crisp-edges; /* safari */\n",
       "                        image-rendering: pixelated; /* chrome */\n",
       "                        image-rendering: -moz-crisp-edges; /* firefox */\n",
       "                        image-rendering: -o-crisp-edges; /* opera */\n",
       "                        -ms-interpolation-mode: nearest-neighbor; /* ie */\n",
       "                    }\n",
       "                &lt;/style&gt;\n",
       "            \n",
       "&lt;/head&gt;\n",
       "&lt;body&gt;\n",
       "    \n",
       "    \n",
       "            &lt;div class=&quot;folium-map&quot; id=&quot;map_19bb34e2cb27c458bce09d7160454c64&quot; &gt;&lt;/div&gt;\n",
       "        \n",
       "&lt;/body&gt;\n",
       "&lt;script&gt;\n",
       "    \n",
       "    \n",
       "            var map_19bb34e2cb27c458bce09d7160454c64 = L.map(\n",
       "                &quot;map_19bb34e2cb27c458bce09d7160454c64&quot;,\n",
       "                {\n",
       "                    center: [48.875, 12.0],\n",
       "                    crs: L.CRS.EPSG3857,\n",
       "                    ...{\n",
       "  &quot;zoom&quot;: 2,\n",
       "  &quot;zoomControl&quot;: true,\n",
       "  &quot;preferCanvas&quot;: false,\n",
       "}\n",
       "\n",
       "                }\n",
       "            );\n",
       "\n",
       "            \n",
       "\n",
       "        \n",
       "    \n",
       "            var tile_layer_e78732632b62cd8d5c7f05bb6e0d07f6 = L.tileLayer(\n",
       "                &quot;https://{s}.basemaps.cartocdn.com/light_all/{z}/{x}/{y}{r}.png&quot;,\n",
       "                {\n",
       "  &quot;minZoom&quot;: 0,\n",
       "  &quot;maxZoom&quot;: 20,\n",
       "  &quot;maxNativeZoom&quot;: 20,\n",
       "  &quot;noWrap&quot;: true,\n",
       "  &quot;attribution&quot;: &quot;\\u0026copy; \\u003ca href=\\&quot;https://www.openstreetmap.org/copyright\\&quot;\\u003eOpenStreetMap\\u003c/a\\u003e contributors \\u0026copy; \\u003ca href=\\&quot;https://carto.com/attributions\\&quot;\\u003eCARTO\\u003c/a\\u003e&quot;,\n",
       "  &quot;subdomains&quot;: &quot;abcd&quot;,\n",
       "  &quot;detectRetina&quot;: false,\n",
       "  &quot;tms&quot;: false,\n",
       "  &quot;opacity&quot;: 1,\n",
       "}\n",
       "\n",
       "            );\n",
       "        \n",
       "    \n",
       "            tile_layer_e78732632b62cd8d5c7f05bb6e0d07f6.addTo(map_19bb34e2cb27c458bce09d7160454c64);\n",
       "        \n",
       "    \n",
       "            var image_overlay_6dc7434108d1aa74ca8ec7fb07b6113c = L.imageOverlay(\n",
       "                &quot;data:image/png;base64,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&quot;,\n",
       "                [[-56, -180], [80, 180]],\n",
       "                {\n",
       "}\n",
       "            );\n",
       "        \n",
       "    \n",
       "            image_overlay_6dc7434108d1aa74ca8ec7fb07b6113c.addTo(map_19bb34e2cb27c458bce09d7160454c64);\n",
       "        \n",
       "&lt;/script&gt;\n",
       "&lt;/html&gt;\" style=\"position:absolute;width:100%;height:100%;left:0;top:0;border:none !important;\" allowfullscreen webkitallowfullscreen mozallowfullscreen></iframe></div></div>"
      ],
      "text/plain": [
       "<folium.folium.Map at 0x753b50172c50>"
      ]
     },
     "execution_count": 49,
     "metadata": {},
     "output_type": "execute_result"
    }
   ],
   "source": [
    "m"
   ]
  }
 ],
 "metadata": {
  "kernelspec": {
   "display_name": "hitchmap-data",
   "language": "python",
   "name": "python3"
  },
  "language_info": {
   "codemirror_mode": {
    "name": "ipython",
    "version": 3
   },
   "file_extension": ".py",
   "mimetype": "text/x-python",
   "name": "python",
   "nbconvert_exporter": "python",
   "pygments_lexer": "ipython3",
   "version": "3.10.16"
  }
 },
 "nbformat": 4,
 "nbformat_minor": 2
}
