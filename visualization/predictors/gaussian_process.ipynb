{
 "cells": [
  {
   "cell_type": "code",
   "execution_count": 4,
   "metadata": {},
   "outputs": [],
   "source": [
    "from utils import *\n",
    "from matplotlib import pyplot as plt"
   ]
  },
  {
   "cell_type": "code",
   "execution_count": null,
   "metadata": {},
   "outputs": [],
   "source": [
    "class GP():\n",
    "    def __init__():\n",
    "        pass\n",
    "\n",
    "    def fit(X, y):\n",
    "        C = get_kernelmatrix(X)\n",
    "    \n",
    "    def rbf_kernel(x1, y2, l):\n",
    "        return l * exp((-1) * distance(x1, x2)**2)\n",
    "\n",
    "    def get_kernelmatrix(X):\n",
    "        pass\n",
    "\n",
    "    def pred():\n",
    "        return mean, variance\n"
   ]
  },
  {
   "cell_type": "code",
   "execution_count": null,
   "metadata": {},
   "outputs": [],
   "source": [
    "# Try how it works in 1D first"
   ]
  },
  {
   "cell_type": "code",
   "execution_count": 2,
   "metadata": {},
   "outputs": [],
   "source": [
    "artificial_points = get_points(f\"../artificial_points.csv\")"
   ]
  },
  {
   "cell_type": "code",
   "execution_count": 3,
   "metadata": {},
   "outputs": [
    {
     "data": {
      "text/html": [
       "<div>\n",
       "<style scoped>\n",
       "    .dataframe tbody tr th:only-of-type {\n",
       "        vertical-align: middle;\n",
       "    }\n",
       "\n",
       "    .dataframe tbody tr th {\n",
       "        vertical-align: top;\n",
       "    }\n",
       "\n",
       "    .dataframe thead th {\n",
       "        text-align: right;\n",
       "    }\n",
       "</style>\n",
       "<table border=\"1\" class=\"dataframe\">\n",
       "  <thead>\n",
       "    <tr style=\"text-align: right;\">\n",
       "      <th></th>\n",
       "      <th>lat</th>\n",
       "      <th>lon</th>\n",
       "      <th>wait</th>\n",
       "      <th>geometry</th>\n",
       "    </tr>\n",
       "  </thead>\n",
       "  <tbody>\n",
       "    <tr>\n",
       "      <th>0</th>\n",
       "      <td>0.0</td>\n",
       "      <td>10.00</td>\n",
       "      <td>5.0</td>\n",
       "      <td>POINT (1113194.908 0.000)</td>\n",
       "    </tr>\n",
       "    <tr>\n",
       "      <th>1</th>\n",
       "      <td>0.0</td>\n",
       "      <td>12.80</td>\n",
       "      <td>5.0</td>\n",
       "      <td>POINT (1424889.482 0.000)</td>\n",
       "    </tr>\n",
       "    <tr>\n",
       "      <th>2</th>\n",
       "      <td>0.0</td>\n",
       "      <td>13.41</td>\n",
       "      <td>55.0</td>\n",
       "      <td>POINT (1492794.372 0.000)</td>\n",
       "    </tr>\n",
       "    <tr>\n",
       "      <th>3</th>\n",
       "      <td>0.0</td>\n",
       "      <td>15.75</td>\n",
       "      <td>15.0</td>\n",
       "      <td>POINT (1753281.980 0.000)</td>\n",
       "    </tr>\n",
       "    <tr>\n",
       "      <th>4</th>\n",
       "      <td>0.0</td>\n",
       "      <td>18.20</td>\n",
       "      <td>45.0</td>\n",
       "      <td>POINT (2026014.732 0.000)</td>\n",
       "    </tr>\n",
       "    <tr>\n",
       "      <th>5</th>\n",
       "      <td>0.0</td>\n",
       "      <td>22.00</td>\n",
       "      <td>5.0</td>\n",
       "      <td>POINT (2449028.797 0.000)</td>\n",
       "    </tr>\n",
       "  </tbody>\n",
       "</table>\n",
       "</div>"
      ],
      "text/plain": [
       "   lat    lon  wait                   geometry\n",
       "0  0.0  10.00   5.0  POINT (1113194.908 0.000)\n",
       "1  0.0  12.80   5.0  POINT (1424889.482 0.000)\n",
       "2  0.0  13.41  55.0  POINT (1492794.372 0.000)\n",
       "3  0.0  15.75  15.0  POINT (1753281.980 0.000)\n",
       "4  0.0  18.20  45.0  POINT (2026014.732 0.000)\n",
       "5  0.0  22.00   5.0  POINT (2449028.797 0.000)"
      ]
     },
     "execution_count": 3,
     "metadata": {},
     "output_type": "execute_result"
    }
   ],
   "source": [
    "artificial_points"
   ]
  },
  {
   "cell_type": "code",
   "execution_count": 5,
   "metadata": {},
   "outputs": [
    {
     "data": {
      "text/plain": [
       "<matplotlib.collections.PathCollection at 0x7f5c9b553ac0>"
      ]
     },
     "execution_count": 5,
     "metadata": {},
     "output_type": "execute_result"
    },
    {
     "data": {
      "image/png": "[encoded data removed]",
      "text/plain": [
       "<Figure size 640x480 with 1 Axes>"
      ]
     },
     "metadata": {},
     "output_type": "display_data"
    }
   ],
   "source": [
    "plt.scatter(artificial_points.lon, artificial_points.wait)"
   ]
  },
  {
   "cell_type": "code",
   "execution_count": null,
   "metadata": {},
   "outputs": [],
   "source": [
    "# 2D using location\n"
   ]
  },
  {
   "cell_type": "code",
   "execution_count": null,
   "metadata": {},
   "outputs": [],
   "source": [
    "# 3D using location and time when the spot was recorded (might use single ratings of spots here instead averaged)\n"
   ]
  }
 ],
 "metadata": {
  "kernelspec": {
   "display_name": "heatchmap",
   "language": "python",
   "name": "python3"
  },
  "language_info": {
   "codemirror_mode": {
    "name": "ipython",
    "version": 3
   },
   "file_extension": ".py",
   "mimetype": "text/x-python",
   "name": "python",
   "nbconvert_exporter": "python",
   "pygments_lexer": "ipython3",
   "version": "3.10.13"
  }
 },
 "nbformat": 4,
 "nbformat_minor": 2
}
