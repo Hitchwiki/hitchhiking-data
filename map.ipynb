{
 "cells": [
  {
   "cell_type": "code",
   "execution_count": 1,
   "metadata": {},
   "outputs": [],
   "source": [
    "import folium\n",
    "from helpers import *"
   ]
  },
  {
   "cell_type": "code",
   "execution_count": null,
   "metadata": {},
   "outputs": [],
   "source": [
    "places = pd.read_csv('data/places.csv', index_col=0)\n",
    "places_before = pd.read_csv('data/places_before.csv', index_col=0)\n",
    "places_after = pd.read_csv('data/places_after.csv', index_col=0)"
   ]
  },
  {
   "cell_type": "code",
   "execution_count": null,
   "metadata": {},
   "outputs": [],
   "source": [
    "# view the new map\n",
    "m = folium.Map(prefer_canvas=True, control_scale=True)\n",
    "\n",
    "for country, group in places.groupby('country_group'):\n",
    "    cluster = folium.plugins.FastMarkerCluster(group[['lat', 'lon', 'rating', 'text', 'wait', 'distance_from_spot']].values, disableClusteringAtZoom=7, spiderfyOnMaxZoom=False, bubblingMouseEvents=False, callback=callback).add_to(m)\n",
    "m"
   ]
  },
  {
   "cell_type": "code",
   "execution_count": null,
   "metadata": {},
   "outputs": [],
   "source": [
    "# difference map\n",
    "# green spots on the new cleaned map vs red original spots\n",
    "\n",
    "m = folium.Map(prefer_canvas=True, control_scale=True)\n",
    "\n",
    "places_before['new'] = 1.0\n",
    "places_after['new'] = 5.0\n",
    "differences = pd.concat([places_before, places_after])\n",
    "\n",
    "for country, group in differences.groupby('country_group'):\n",
    "    cluster = folium.plugins.FastMarkerCluster(group[['lat', 'lon', 'new', 'text', 'wait', 'distance_from_spot']].values, disableClusteringAtZoom=7, spiderfyOnMaxZoom=False, bubblingMouseEvents=False, callback=callback).add_to(m)\n",
    "m"
   ]
  }
 ],
 "metadata": {
  "kernelspec": {
   "display_name": "Python 3",
   "language": "python",
   "name": "python3"
  },
  "language_info": {
   "codemirror_mode": {
    "name": "ipython",
    "version": 3
   },
   "file_extension": ".py",
   "mimetype": "text/x-python",
   "name": "python",
   "nbconvert_exporter": "python",
   "pygments_lexer": "ipython3",
   "version": "3.10.6"
  },
  "orig_nbformat": 4
 },
 "nbformat": 4,
 "nbformat_minor": 2
}
