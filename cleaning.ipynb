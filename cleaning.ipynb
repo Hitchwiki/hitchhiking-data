{
 "cells": [
  {
   "cell_type": "code",
   "execution_count": 2,
   "metadata": {},
   "outputs": [
    {
     "name": "stdout",
     "output_type": "stream",
     "text": [
      "Defaulting to user installation because normal site-packages is not writeable\n",
      "Requirement already satisfied: anytree in /home/till/.local/lib/python3.10/site-packages (2.8.0)\n",
      "Requirement already satisfied: six>=1.9.0 in /usr/lib/python3/dist-packages (from anytree) (1.16.0)\n",
      "\n",
      "\u001b[1m[\u001b[0m\u001b[34;49mnotice\u001b[0m\u001b[1;39;49m]\u001b[0m\u001b[39;49m A new release of pip available: \u001b[0m\u001b[31;49m22.3.1\u001b[0m\u001b[39;49m -> \u001b[0m\u001b[32;49m23.0.1\u001b[0m\n",
      "\u001b[1m[\u001b[0m\u001b[34;49mnotice\u001b[0m\u001b[1;39;49m]\u001b[0m\u001b[39;49m To update, run: \u001b[0m\u001b[32;49mpip install --upgrade pip\u001b[0m\n"
     ]
    }
   ],
   "source": [
    "import pandas as pd\n",
    "import numpy as np\n",
    "import sqlite3\n",
    "import os\n",
    "import sys\n",
    "import folium\n",
    "import folium.plugins\n",
    "import osmnx\n",
    "import geopandas as gpd\n",
    "import sklearn\n",
    "import scipy\n",
    "from matplotlib import pyplot as plt\n",
    "import pickle\n",
    "from shapely.geometry import Point, LineString, Polygon, MultiPoint, MultiPolygon\n",
    "from shapely.ops import unary_union, nearest_points\n",
    "import time\n",
    "\n",
    "from sklearn.cluster import AgglomerativeClustering\n",
    "from sklearn.metrics.pairwise import pairwise_distances\n",
    "\n",
    "import itertools\n",
    "! pip install anytree\n",
    "import anytree\n",
    "from anytree import Node, RenderTree\n",
    "\n",
    "pd.options.display.max_rows = 4000\n",
    "np.set_printoptions(threshold=sys.maxsize)\n",
    "\n",
    "osmnx.config(use_cache=True, log_console=True)"
   ]
  },
  {
   "cell_type": "markdown",
   "metadata": {},
   "source": [
    "# helpers"
   ]
  },
  {
   "cell_type": "code",
   "execution_count": 3,
   "metadata": {},
   "outputs": [],
   "source": [
    "def haversine_np(lon1, lat1, lon2, lat2):\n",
    "    \"\"\"\n",
    "    Calculate the great circle distance between two points\n",
    "    on the earth (specified in decimal degrees)\n",
    "\n",
    "    All args must be of equal length.\n",
    "\n",
    "    \"\"\"\n",
    "    lon1, lat1, lon2, lat2 = map(np.radians, [lon1, lat1, lon2, lat2])\n",
    "\n",
    "    dlon = lon2 - lon1\n",
    "    dlat = lat2 - lat1\n",
    "\n",
    "    a = np.sin(dlat/2.0)**2 + np.cos(lat1) * np.cos(lat2) * np.sin(dlon/2.0)**2\n",
    "\n",
    "    c = 2 * np.arcsin(np.sqrt(a))\n",
    "    km = 6367 * c\n",
    "    return km\n",
    "\n",
    "def haversine(x, y):\n",
    "    \"\"\"\n",
    "    Calculate the great circle distance between two points\n",
    "    on the earth (specified in decimal degrees)\n",
    "\n",
    "    All args must be of equal length.\n",
    "\n",
    "    \"\"\"\n",
    "\n",
    "    lon1, lat1, lon2, lat2 = map(np.radians, [x[0], x[1], y[0], y[1]])\n",
    "    dlon = lon2 - lon1\n",
    "    dlat = lat2 - lat1\n",
    "\n",
    "    a = np.sin(dlat/2.0)**2 + np.cos(lat1) * np.cos(lat2) * np.sin(dlon/2.0)**2\n",
    "\n",
    "    c = 2 * np.arcsin(np.sqrt(a))\n",
    "    km = 6367 * c\n",
    "    return km\n",
    "\n",
    "def haversine_points(A, B):\n",
    "    \"\"\"\n",
    "    Calculate the great circle distance between two points\n",
    "    on the earth (specified in decimal degrees)\n",
    "\n",
    "    All args must be of equal length.\n",
    "\n",
    "    \"\"\"\n",
    "\n",
    "    lon1, lat1, lon2, lat2 = map(np.radians, [A.y, A.x, B.y, B.x])\n",
    "    dlon = lon2 - lon1\n",
    "    dlat = lat2 - lat1\n",
    "\n",
    "    a = np.sin(dlat/2.0)**2 + np.cos(lat1) * np.cos(lat2) * np.sin(dlon/2.0)**2\n",
    "\n",
    "    c = 2 * np.arcsin(np.sqrt(a))\n",
    "    km = 6367 * c\n",
    "    return km\n",
    "\n",
    "from scipy.cluster.hierarchy import dendrogram\n",
    "\n",
    "def plot_dendrogram(model, **kwargs):\n",
    "    # Create linkage matrix and then plot the dendrogram\n",
    "\n",
    "    # create the counts of samples under each node\n",
    "    counts = np.zeros(model.children_.shape[0])\n",
    "    n_samples = len(model.labels_)\n",
    "    for i, merge in enumerate(model.children_):\n",
    "        current_count = 0\n",
    "        for child_idx in merge:\n",
    "            if child_idx < n_samples:\n",
    "                current_count += 1  # leaf node\n",
    "            else:\n",
    "                current_count += counts[child_idx - n_samples]\n",
    "        counts[i] = current_count\n",
    "\n",
    "    linkage_matrix = np.column_stack(\n",
    "        [model.children_, model.distances_, counts]\n",
    "    ).astype(float)\n",
    "\n",
    "    # Plot the corresponding dendrogram\n",
    "    dendrogram(linkage_matrix, **kwargs)\n"
   ]
  },
  {
   "cell_type": "markdown",
   "metadata": {},
   "source": [
    "# fetch data"
   ]
  },
  {
   "cell_type": "code",
   "execution_count": null,
   "metadata": {},
   "outputs": [],
   "source": [
    "fn = 'points.sqlite'\n",
    "points = pd.read_sql('select * from points where not banned', sqlite3.connect(fn))\n",
    "print(len(points))\n",
    "\n",
    "#region = osmnx.geocode_to_gdf({'city':'Freiberg'})\n",
    "region = osmnx.geocode_to_gdf({'state':'Saxony'})\n",
    "#region = osmnx.geocode_to_gdf({'state':'Brandenburg'})\n",
    "#region = osmnx.geocode_to_gdf({'country':'Germany'})\n",
    "poly = region.iloc[0].geometry\n",
    "points = gpd.GeoDataFrame(points, geometry=gpd.points_from_xy(points.lon, points.lat))\n",
    "points = points[points.geometry.within(poly)]"
   ]
  },
  {
   "cell_type": "code",
   "execution_count": null,
   "metadata": {},
   "outputs": [],
   "source": [
    "points.to_csv('german_points.csv', index=True)"
   ]
  },
  {
   "cell_type": "code",
   "execution_count": 4,
   "metadata": {},
   "outputs": [],
   "source": [
    "points = pd.read_csv('german_points.csv', index_col=0)"
   ]
  },
  {
   "cell_type": "code",
   "execution_count": null,
   "metadata": {},
   "outputs": [],
   "source": [
    "print(len(points))\n",
    "points.head(1)"
   ]
  },
  {
   "cell_type": "code",
   "execution_count": 63,
   "metadata": {},
   "outputs": [],
   "source": [
    "points.loc[points.id.isin(range(1000000,1040000)), 'comment'] = points.loc[points.id.isin(range(1000000,1040000)), 'comment'].str.encode(\"cp1252\",errors='ignore').str.decode('utf-8', errors='ignore')\n",
    "\n",
    "points.datetime = pd.to_datetime(points.datetime)\n",
    "points['text'] = points['comment'] + '\\n\\n―' + points['name'].fillna('Anonymous') + points.datetime.dt.strftime(', %B %Y').fillna('')\n",
    "\n",
    "rads = points[['lon', 'lat', 'dest_lon', 'dest_lat']].values.T\n",
    "\n",
    "points['distance_from_spot'] = haversine_np(*rads)\n",
    "\n",
    "groups = points.groupby(['lat', 'lon'])\n",
    "\n",
    "places = groups[['country']].first()\n",
    "places['rating'] = groups.rating.mean().round()\n",
    "places['wait'] = points[~points.wait.isnull()].groupby(['lat', 'lon']).wait.mean()\n",
    "places['distance_from_spot'] = points[~points.distance_from_spot.isnull()].groupby(['lat', 'lon']).distance_from_spot.mean()\n",
    "places['text'] = groups.text.apply(lambda t: '\\n\\n'.join(t.dropna()))\n",
    "\n",
    "\n",
    "places['country_group'] = places.country.replace(['BE', 'NL', 'LU'], 'BNL')\n",
    "places.country_group = places.country_group.replace(['CH', 'AT', 'LI'], 'ALP')\n",
    "places.country_group = places.country_group.replace(['SI', 'HR', 'BA', 'ME', 'MK', 'AL', 'RS', 'TR'], 'BAL')\n",
    "places.country_group = places.country_group.replace(['SK', 'HU'], 'SKHU')\n",
    "places.country_group = places.country_group.replace('MC', 'FR')\n",
    "\n",
    "places.reset_index(inplace=True)\n",
    "# make sure high-rated are on top\n",
    "places.sort_values('rating', inplace=True, ascending=False)\n",
    "\n",
    "callback = \"\"\"\\\n",
    "function (row) {\n",
    "    var marker;\n",
    "    var color = {1: 'red', 2: 'orange', 3: 'yellow', 4: 'lightgreen', 5: 'lightgreen'}[row[2]];\n",
    "    var opacity = {1: 0.3, 2: 0.4, 3: 0.6, 4: 0.8, 5: 0.8}[row[2]];\n",
    "    var point = new L.LatLng(row[0], row[1])\n",
    "    marker = L.circleMarker(point, {radius: 5, weight: 1 + 1 * (row[2] == 5), fillOpacity: opacity, color: 'black', fillColor: color});\n",
    "\n",
    "    marker.on('click', function(e) {\n",
    "        if ($$('.topbar.visible')) return\n",
    "\n",
    "        points = [point]\n",
    "\n",
    "        setTimeout(() => {\n",
    "            bar('.sidebar.show-spot')\n",
    "            $$('#spot-header').innerText = `${row[0].toFixed(5)}, ${row[1].toFixed(5)}`\n",
    "            $$('#spot-summary').innerText = `Rating: ${row[2].toFixed(0)}/5\n",
    "Waiting time in minutes: ${Number.isNaN(row[4]) ? '-' : row[4].toFixed(0)}\n",
    "Ride distance in km: ${Number.isNaN(row[5]) ? '-' : row[5].toFixed(0)}`\n",
    "\n",
    "            $$('#spot-text').innerText = row[3];\n",
    "            if (!row[3] && Number.isNaN(row[5])) $$('#extra-text').innerHTML = 'No comments/ride info. To hide points like this, check out the <a href=/light.html>lightweight map</a>.'\n",
    "            else $$('#extra-text').innerHTML = ''\n",
    "        },100)\n",
    "\n",
    "        L.DomEvent.stopPropagation(e)\n",
    "    })\n",
    "\n",
    "    // if(row[2] >= 4) marker.bringToFront()\n",
    "\n",
    "    return marker;\n",
    "};\n",
    "\"\"\"\n"
   ]
  },
  {
   "cell_type": "code",
   "execution_count": null,
   "metadata": {},
   "outputs": [],
   "source": [
    "len(places)"
   ]
  },
  {
   "cell_type": "code",
   "execution_count": null,
   "metadata": {},
   "outputs": [],
   "source": [
    "places.head()"
   ]
  },
  {
   "cell_type": "markdown",
   "metadata": {},
   "source": [
    "# naive close points filtering"
   ]
  },
  {
   "cell_type": "code",
   "execution_count": null,
   "metadata": {},
   "outputs": [],
   "source": [
    "places['keep'] = False"
   ]
  },
  {
   "cell_type": "code",
   "execution_count": null,
   "metadata": {},
   "outputs": [],
   "source": [
    "counter = 0\n",
    "i = 0\n",
    "for l, place in places.iterrows():\n",
    "    for k, other in places.iterrows():\n",
    "        if haversine_np(place.lon,place.lat,other.lon,other.lat) < 0.017 and place.id != other.id:\n",
    "            #print(l,k)\n",
    "            places.loc[l, 'keep'] = True\n",
    "            places.loc[k, 'keep'] = True\n",
    "            counter += 1\n",
    "    i += 1\n",
    "    if i % 100 == 0:\n",
    "        print(i, counter)\n",
    "\n",
    "counter\n",
    "close = places[places.keep]"
   ]
  },
  {
   "cell_type": "markdown",
   "metadata": {},
   "source": [
    "# single (shortest) linkage agglomerative clustering"
   ]
  },
  {
   "cell_type": "code",
   "execution_count": null,
   "metadata": {},
   "outputs": [],
   "source": [
    "\n",
    "# 50 meter distance\n",
    "\n",
    "\n",
    "X = np.array(places[['lon','lat']])\n",
    "\n",
    "M = pairwise_distances(X,X, metric=haversine, n_jobs=-1)\n",
    "\n",
    "clustering = AgglomerativeClustering(n_clusters=None, linkage='single', compute_distances=True, affinity='precomputed', distance_threshold=0.05)\n",
    "clustering.fit(M)\n"
   ]
  },
  {
   "cell_type": "code",
   "execution_count": 5,
   "metadata": {},
   "outputs": [
    {
     "data": {
      "text/html": [
       "<style>#sk-container-id-1 {color: black;background-color: white;}#sk-container-id-1 pre{padding: 0;}#sk-container-id-1 div.sk-toggleable {background-color: white;}#sk-container-id-1 label.sk-toggleable__label {cursor: pointer;display: block;width: 100%;margin-bottom: 0;padding: 0.3em;box-sizing: border-box;text-align: center;}#sk-container-id-1 label.sk-toggleable__label-arrow:before {content: \"▸\";float: left;margin-right: 0.25em;color: #696969;}#sk-container-id-1 label.sk-toggleable__label-arrow:hover:before {color: black;}#sk-container-id-1 div.sk-estimator:hover label.sk-toggleable__label-arrow:before {color: black;}#sk-container-id-1 div.sk-toggleable__content {max-height: 0;max-width: 0;overflow: hidden;text-align: left;background-color: #f0f8ff;}#sk-container-id-1 div.sk-toggleable__content pre {margin: 0.2em;color: black;border-radius: 0.25em;background-color: #f0f8ff;}#sk-container-id-1 input.sk-toggleable__control:checked~div.sk-toggleable__content {max-height: 200px;max-width: 100%;overflow: auto;}#sk-container-id-1 input.sk-toggleable__control:checked~label.sk-toggleable__label-arrow:before {content: \"▾\";}#sk-container-id-1 div.sk-estimator input.sk-toggleable__control:checked~label.sk-toggleable__label {background-color: #d4ebff;}#sk-container-id-1 div.sk-label input.sk-toggleable__control:checked~label.sk-toggleable__label {background-color: #d4ebff;}#sk-container-id-1 input.sk-hidden--visually {border: 0;clip: rect(1px 1px 1px 1px);clip: rect(1px, 1px, 1px, 1px);height: 1px;margin: -1px;overflow: hidden;padding: 0;position: absolute;width: 1px;}#sk-container-id-1 div.sk-estimator {font-family: monospace;background-color: #f0f8ff;border: 1px dotted black;border-radius: 0.25em;box-sizing: border-box;margin-bottom: 0.5em;}#sk-container-id-1 div.sk-estimator:hover {background-color: #d4ebff;}#sk-container-id-1 div.sk-parallel-item::after {content: \"\";width: 100%;border-bottom: 1px solid gray;flex-grow: 1;}#sk-container-id-1 div.sk-label:hover label.sk-toggleable__label {background-color: #d4ebff;}#sk-container-id-1 div.sk-serial::before {content: \"\";position: absolute;border-left: 1px solid gray;box-sizing: border-box;top: 0;bottom: 0;left: 50%;z-index: 0;}#sk-container-id-1 div.sk-serial {display: flex;flex-direction: column;align-items: center;background-color: white;padding-right: 0.2em;padding-left: 0.2em;position: relative;}#sk-container-id-1 div.sk-item {position: relative;z-index: 1;}#sk-container-id-1 div.sk-parallel {display: flex;align-items: stretch;justify-content: center;background-color: white;position: relative;}#sk-container-id-1 div.sk-item::before, #sk-container-id-1 div.sk-parallel-item::before {content: \"\";position: absolute;border-left: 1px solid gray;box-sizing: border-box;top: 0;bottom: 0;left: 50%;z-index: -1;}#sk-container-id-1 div.sk-parallel-item {display: flex;flex-direction: column;z-index: 1;position: relative;background-color: white;}#sk-container-id-1 div.sk-parallel-item:first-child::after {align-self: flex-end;width: 50%;}#sk-container-id-1 div.sk-parallel-item:last-child::after {align-self: flex-start;width: 50%;}#sk-container-id-1 div.sk-parallel-item:only-child::after {width: 0;}#sk-container-id-1 div.sk-dashed-wrapped {border: 1px dashed gray;margin: 0 0.4em 0.5em 0.4em;box-sizing: border-box;padding-bottom: 0.4em;background-color: white;}#sk-container-id-1 div.sk-label label {font-family: monospace;font-weight: bold;display: inline-block;line-height: 1.2em;}#sk-container-id-1 div.sk-label-container {text-align: center;}#sk-container-id-1 div.sk-container {/* jupyter's `normalize.less` sets `[hidden] { display: none; }` but bootstrap.min.css set `[hidden] { display: none !important; }` so we also need the `!important` here to be able to override the default hidden behavior on the sphinx rendered scikit-learn.org. See: https://github.com/scikit-learn/scikit-learn/issues/21755 */display: inline-block !important;position: relative;}#sk-container-id-1 div.sk-text-repr-fallback {display: none;}</style><div id=\"sk-container-id-1\" class=\"sk-top-container\"><div class=\"sk-text-repr-fallback\"><pre>AgglomerativeClustering(affinity=&#x27;precomputed&#x27;, compute_distances=True,\n",
       "                        linkage=&#x27;average&#x27;, n_clusters=100)</pre><b>In a Jupyter environment, please rerun this cell to show the HTML representation or trust the notebook. <br />On GitHub, the HTML representation is unable to render, please try loading this page with nbviewer.org.</b></div><div class=\"sk-container\" hidden><div class=\"sk-item\"><div class=\"sk-estimator sk-toggleable\"><input class=\"sk-toggleable__control sk-hidden--visually\" id=\"sk-estimator-id-1\" type=\"checkbox\" checked><label for=\"sk-estimator-id-1\" class=\"sk-toggleable__label sk-toggleable__label-arrow\">AgglomerativeClustering</label><div class=\"sk-toggleable__content\"><pre>AgglomerativeClustering(affinity=&#x27;precomputed&#x27;, compute_distances=True,\n",
       "                        linkage=&#x27;average&#x27;, n_clusters=100)</pre></div></div></div></div></div>"
      ],
      "text/plain": [
       "AgglomerativeClustering(affinity='precomputed', compute_distances=True,\n",
       "                        linkage='average', n_clusters=100)"
      ]
     },
     "execution_count": 5,
     "metadata": {},
     "output_type": "execute_result"
    }
   ],
   "source": [
    "M = np.loadtxt('M.txt')\n",
    "clustering = AgglomerativeClustering(n_clusters=100, linkage='average', compute_distances=True, affinity='precomputed')\n",
    "clustering.fit(M)"
   ]
  },
  {
   "cell_type": "code",
   "execution_count": null,
   "metadata": {},
   "outputs": [],
   "source": [
    "plt.title(\"Hierarchical Clustering Dendrogram\")\n",
    "# plot the top three levels of the dendrogram\n",
    "plot_dendrogram(clustering, truncate_mode='level', p=3)\n",
    "plt.xlabel(\"Number of points in node (or index of point if no parenthesis).\")\n",
    "plt.show()"
   ]
  },
  {
   "cell_type": "code",
   "execution_count": 28,
   "metadata": {},
   "outputs": [],
   "source": [
    "with open(\"germany_100cluster_average_from_german_points.pkl\", \"wb\") as f:\n",
    "    pickle.dump(clustering, f)"
   ]
  },
  {
   "cell_type": "markdown",
   "metadata": {},
   "source": [
    "# select closest spots at threshold from clusters"
   ]
  },
  {
   "cell_type": "code",
   "execution_count": null,
   "metadata": {},
   "outputs": [],
   "source": [
    "# all models are the same so far\n",
    "with open(\"germany_50meter_single_from_german_points.pkl\", \"rb\") as f:\n",
    "    clustering = pickle.load(f)"
   ]
  },
  {
   "cell_type": "code",
   "execution_count": null,
   "metadata": {},
   "outputs": [],
   "source": [
    "threshold = 0.05\n",
    "close_links = clustering.children_[clustering.distances_ < threshold]\n",
    "\n",
    "# establish tree of spots\n",
    "# each subtree contains spots that are sufficiently close to each other\n",
    "a = [0] * 2 * len(places)\n",
    "root = Node('root')\n",
    "\n",
    "ii = itertools.count(len(places))\n",
    "for x in close_links:\n",
    "    num = next(ii)\n",
    "    a[num] = Node(num, parent=root)\n",
    "    if x[0] < len(places):\n",
    "        a[x[0]] = Node(x[0], parent=a[num])\n",
    "    else:\n",
    "        a[x[0]].parent = a[num]\n",
    "    \n",
    "    if x[1] < len(places):\n",
    "        a[x[1]] = Node(x[1], parent=a[num])\n",
    "    else:\n",
    "        a[x[1]].parent = a[num]\n"
   ]
  },
  {
   "cell_type": "code",
   "execution_count": null,
   "metadata": {},
   "outputs": [],
   "source": [
    "\"\"\"\n",
    "for pre, fill, node in RenderTree(root):\n",
    "    print(\"%s%s\" % (pre, node.name))\n",
    "\"\"\""
   ]
  },
  {
   "cell_type": "code",
   "execution_count": null,
   "metadata": {},
   "outputs": [],
   "source": [
    "# find the clusters\n",
    "clusters = []\n",
    "for subtree in root.children:\n",
    "    cluster = []\n",
    "    for leaf in subtree.leaves:\n",
    "        cluster.append(leaf.name)\n",
    "    clusters.append(cluster)\n",
    "\n",
    "# merge points\n",
    "for cluster in clusters:\n",
    "    merged_spot = places.iloc[cluster[0]]\n",
    "    lat = merged_spot.lat\n",
    "    lon = merged_spot.lon\n",
    "    for spot in cluster[1:]:\n",
    "        spot = places.iloc[spot]\n",
    "        points.loc[(points.lat == spot.lat) & (points.lon == spot.lon), ['lat','lon']] = [lat,lon]\n",
    "\n",
    "# rerun fetching the places"
   ]
  },
  {
   "cell_type": "markdown",
   "metadata": {},
   "source": [
    "# map"
   ]
  },
  {
   "cell_type": "code",
   "execution_count": 11,
   "metadata": {},
   "outputs": [
    {
     "data": {
      "text/html": [
       "<div style=\"width:100%;\"><div style=\"position:relative;width:100%;height:0;padding-bottom:60%;\"><span style=\"color:#565656\">Make this Notebook Trusted to load map: File -> Trust Notebook</span><iframe srcdoc=\"&lt;!DOCTYPE html&gt;\n",
       "&lt;html&gt;\n",
       "&lt;head&gt;\n",
       "    \n",
       "    &lt;meta http-equiv=&quot;content-type&quot; content=&quot;text/html; charset=UTF-8&quot; /&gt;\n",
       "    \n",
       "        &lt;script&gt;\n",
       "            L_NO_TOUCH = false;\n",
       "            L_DISABLE_3D = false;\n",
       "        &lt;/script&gt;\n",
       "    \n",
       "    &lt;style&gt;html, body {width: 100%;height: 100%;margin: 0;padding: 0;}&lt;/style&gt;\n",
       "    &lt;style&gt;#map {position:absolute;top:0;bottom:0;right:0;left:0;}&lt;/style&gt;\n",
       "    &lt;script src=&quot;https://cdn.jsdelivr.net/npm/leaflet@1.9.3/dist/leaflet.js&quot;&gt;&lt;/script&gt;\n",
       "    &lt;script src=&quot;https://code.jquery.com/jquery-1.12.4.min.js&quot;&gt;&lt;/script&gt;\n",
       "    &lt;script src=&quot;https://cdn.jsdelivr.net/npm/bootstrap@5.2.2/dist/js/bootstrap.bundle.min.js&quot;&gt;&lt;/script&gt;\n",
       "    &lt;script src=&quot;https://cdnjs.cloudflare.com/ajax/libs/Leaflet.awesome-markers/2.0.2/leaflet.awesome-markers.js&quot;&gt;&lt;/script&gt;\n",
       "    &lt;link rel=&quot;stylesheet&quot; href=&quot;https://cdn.jsdelivr.net/npm/leaflet@1.9.3/dist/leaflet.css&quot;/&gt;\n",
       "    &lt;link rel=&quot;stylesheet&quot; href=&quot;https://cdn.jsdelivr.net/npm/bootstrap@5.2.2/dist/css/bootstrap.min.css&quot;/&gt;\n",
       "    &lt;link rel=&quot;stylesheet&quot; href=&quot;https://netdna.bootstrapcdn.com/bootstrap/3.0.0/css/bootstrap.min.css&quot;/&gt;\n",
       "    &lt;link rel=&quot;stylesheet&quot; href=&quot;https://cdn.jsdelivr.net/npm/@fortawesome/fontawesome-free@6.2.0/css/all.min.css&quot;/&gt;\n",
       "    &lt;link rel=&quot;stylesheet&quot; href=&quot;https://cdnjs.cloudflare.com/ajax/libs/Leaflet.awesome-markers/2.0.2/leaflet.awesome-markers.css&quot;/&gt;\n",
       "    &lt;link rel=&quot;stylesheet&quot; href=&quot;https://cdn.jsdelivr.net/gh/python-visualization/folium/folium/templates/leaflet.awesome.rotate.min.css&quot;/&gt;\n",
       "    \n",
       "            &lt;meta name=&quot;viewport&quot; content=&quot;width=device-width,\n",
       "                initial-scale=1.0, maximum-scale=1.0, user-scalable=no&quot; /&gt;\n",
       "            &lt;style&gt;\n",
       "                #map_ca01187e5fb328820153abbec3c3336e {\n",
       "                    position: relative;\n",
       "                    width: 100.0%;\n",
       "                    height: 100.0%;\n",
       "                    left: 0.0%;\n",
       "                    top: 0.0%;\n",
       "                }\n",
       "                .leaflet-container { font-size: 1rem; }\n",
       "            &lt;/style&gt;\n",
       "        \n",
       "    &lt;script src=&quot;https://cdnjs.cloudflare.com/ajax/libs/leaflet.markercluster/1.1.0/leaflet.markercluster.js&quot;&gt;&lt;/script&gt;\n",
       "    &lt;link rel=&quot;stylesheet&quot; href=&quot;https://cdnjs.cloudflare.com/ajax/libs/leaflet.markercluster/1.1.0/MarkerCluster.css&quot;/&gt;\n",
       "    &lt;link rel=&quot;stylesheet&quot; href=&quot;https://cdnjs.cloudflare.com/ajax/libs/leaflet.markercluster/1.1.0/MarkerCluster.Default.css&quot;/&gt;\n",
       "&lt;/head&gt;\n",
       "&lt;body&gt;\n",
       "    \n",
       "    \n",
       "            &lt;div class=&quot;folium-map&quot; id=&quot;map_ca01187e5fb328820153abbec3c3336e&quot; &gt;&lt;/div&gt;\n",
       "        \n",
       "&lt;/body&gt;\n",
       "&lt;script&gt;\n",
       "    \n",
       "    \n",
       "            var map_ca01187e5fb328820153abbec3c3336e = L.map(\n",
       "                &quot;map_ca01187e5fb328820153abbec3c3336e&quot;,\n",
       "                {\n",
       "                    center: [0, 0],\n",
       "                    crs: L.CRS.EPSG3857,\n",
       "                    zoom: 1,\n",
       "                    zoomControl: true,\n",
       "                    preferCanvas: true,\n",
       "                }\n",
       "            );\n",
       "            L.control.scale().addTo(map_ca01187e5fb328820153abbec3c3336e);\n",
       "\n",
       "            \n",
       "\n",
       "        \n",
       "    \n",
       "            var tile_layer_08d99b33631cd61c732cf9d7cb1a6449 = L.tileLayer(\n",
       "                &quot;https://{s}.tile.openstreetmap.org/{z}/{x}/{y}.png&quot;,\n",
       "                {&quot;attribution&quot;: &quot;Data by \\u0026copy; \\u003ca target=\\&quot;_blank\\&quot; href=\\&quot;http://openstreetmap.org\\&quot;\\u003eOpenStreetMap\\u003c/a\\u003e, under \\u003ca target=\\&quot;_blank\\&quot; href=\\&quot;http://www.openstreetmap.org/copyright\\&quot;\\u003eODbL\\u003c/a\\u003e.&quot;, &quot;detectRetina&quot;: false, &quot;maxNativeZoom&quot;: 18, &quot;maxZoom&quot;: 18, &quot;minZoom&quot;: 0, &quot;noWrap&quot;: false, &quot;opacity&quot;: 1, &quot;subdomains&quot;: &quot;abc&quot;, &quot;tms&quot;: false}\n",
       "            ).addTo(map_ca01187e5fb328820153abbec3c3336e);\n",
       "        \n",
       "    \n",
       "            var fast_marker_cluster_bd1064e04820832008473e394ae194d5 = (function(){\n",
       "                var callback = function (row) {\n",
       "    var marker;\n",
       "    var color = {1: &#x27;red&#x27;, 2: &#x27;orange&#x27;, 3: &#x27;yellow&#x27;, 4: &#x27;lightgreen&#x27;, 5: &#x27;lightgreen&#x27;}[row[2]];\n",
       "    var opacity = {1: 0.3, 2: 0.4, 3: 0.6, 4: 0.8, 5: 0.8}[row[2]];\n",
       "    var point = new L.LatLng(row[0], row[1])\n",
       "    marker = L.circleMarker(point, {radius: 5, weight: 1 + 1 * (row[2] == 5), fillOpacity: opacity, color: &#x27;black&#x27;, fillColor: color});\n",
       "\n",
       "    marker.on(&#x27;click&#x27;, function(e) {\n",
       "        if ($$(&#x27;.topbar.visible&#x27;)) return\n",
       "\n",
       "        points = [point]\n",
       "\n",
       "        setTimeout(() =&gt; {\n",
       "            bar(&#x27;.sidebar.show-spot&#x27;)\n",
       "            $$(&#x27;#spot-header&#x27;).innerText = `${row[0].toFixed(5)}, ${row[1].toFixed(5)}`\n",
       "            $$(&#x27;#spot-summary&#x27;).innerText = `Rating: ${row[2].toFixed(0)}/5\n",
       "Waiting time in minutes: ${Number.isNaN(row[4]) ? &#x27;-&#x27; : row[4].toFixed(0)}\n",
       "Ride distance in km: ${Number.isNaN(row[5]) ? &#x27;-&#x27; : row[5].toFixed(0)}`\n",
       "\n",
       "            $$(&#x27;#spot-text&#x27;).innerText = row[3];\n",
       "            if (!row[3] &amp;&amp; Number.isNaN(row[5])) $$(&#x27;#extra-text&#x27;).innerHTML = &#x27;No comments/ride info. To hide points like this, check out the &lt;a href=/light.html&gt;lightweight map&lt;/a&gt;.&#x27;\n",
       "            else $$(&#x27;#extra-text&#x27;).innerHTML = &#x27;&#x27;\n",
       "        },100)\n",
       "\n",
       "        L.DomEvent.stopPropagation(e)\n",
       "    })\n",
       "\n",
       "    // if(row[2] &gt;= 4) marker.bringToFront()\n",
       "\n",
       "    return marker;\n",
       "};\n",
       ";\n",
       "\n",
       "                var data = [[52.2405499041571, 7.36102759838104, 5.0, &quot;Along the Eilersweg there\\u0027s enough space to stop cars, thanks to the bicycle lane. Good for rides  towards Ochtrup, Gronau or Salzbergen\\n\\n\\u2015Anonymous&quot;, NaN, NaN], [52.2453357292895, 7.64437615871429, 5.0, &quot;At the end of the village of Birgte this is the best spot for hitching towards Saerbeck, Emsdetten, Greven and M\\u00fcnster. The road is only leading towards Saerbeck, and you\\u0027ll have enough space here for stopping cars.\\n\\n\\u2015Anonymous&quot;, NaN, NaN], [52.32371656234692, 7.784968638318091, 5.0, &quot;&quot;, NaN, NaN], [52.3232683145273, 7.32927024364471, 5.0, &quot;Great spot for hitching towards Sch\\u00fcttdorf or the A31: Enough space to stop cars (if grass it not too high), traffic lights in front of you.\\n\\n\\u2015Anonymous&quot;, NaN, NaN], [52.2981425829906, 7.48131930828094, 5.0, &quot;Great spot for hitchhiking towards Dreierwalde. Traffic lights in front of you, enough space to stop. Hard to get here from Rheine city, quite far out and dangerous to walk along the street. But if somebody only goes to the highway or Altenrheine, get out here, spot is directly at \\&quot;Hotel Borchert\\&quot;. Ask people for this hotel if you want to go here.\\n\\n\\u2015Anonymous&quot;, NaN, NaN], [52.3065369048202, 7.15965270996094, 5.0, &quot;A crossing with a bay, maybe good for hitching towards Oldenzaal (NL). It\\u0027s just 300m south of the train station.\\n\\n\\u2015Anonymous&quot;, NaN, NaN], [52.2765048627835, 7.41578221321106, 5.0, &quot;Excellent spot for hitching towards Neuenkirchen, Ochtrup, Gronau. Just walk along the Neuenkirchener Strasse until you reach the JET gas station, then some meters further you\\u0027ll see the traffic lights. Just behind, there\\u0027s a bus bay with enough space.\\n\\n\\u2015Anonymous&quot;, NaN, NaN], [52.26252389627434, 8.00263130664784, 5.0, &quot;&quot;, NaN, NaN], [52.290858336927, 7.541839957351, 5.0, &quot;Hitchhiking spot just behind the bridge (for cars to stop), if you want to get to Hrstel, get out at this ramp and hitch the last 3km. Pretty easy to get cars, though they drive a bit fast sometimes.\\n\\n\\u2015Anonymous, February 2011&quot;, 3.0, NaN], [52.330086663458, 7.5127393359251, 5.0, &quot;At end of town, there\\u0027s a restaurant with sufficient space along the street to stop cars direction Hrstel.\\n\\n\\u2015Anonymous, March 2011&quot;, 5.0, NaN], [52.15498184002824, 8.04167890548565, 5.0, &quot;Bus stop on the B51 in Bad Iburg. Direction Munster as well as Lengerich on the L98.\\n\\n\\u2015Anonymous, October 2013&quot;, 14.0, NaN], [51.93762462559373, 7.604698777198982, 5.0, &quot;Very good spot to hitch out of the town and to go south towards Dortmund/ Dsseldorf or to go further south.\\nTook me around 10 minutes the first time and for the second try, it was the first guy I asked!\\n\\n\\u2015Anonymous, February 2015&quot;, 10.0, NaN], [51.942879318472, 7.550209164619017, 5.0, &quot;I bet that it depends of the days, but mornings here can be hard. Especially when you are trying to get to A30\\n\\n\\u2015Pawel.wita (Hitchwiki), November 2013\\n\\nFirst people I asked gave me a ride! Was very lucky!\\n\\n\\u2015Rokz (Hitchwiki), April 2014\\n\\nhorrible place if you want to go to hannover/berlin!\\n\\n\\u2015Anonymous, August 2014\\n\\nI always wait for a while on the exit and if it doesn\\u0027t work, I start to ask people. It was a sunny day on the eastern holiday. There were more cars than I thought it would be. It took me 20 min waiting with the thumb up, but I gave up and started to ask people. After more 10 min I got a ride\\n\\n\\u2015Gustavobretz (Hitchwiki), April 2015\\n\\nBig Gas Station on the autobahn A1 leading to Bremen from around Dusseldorf. Enough place to stop a car just before the entrance to the autobahn. Can reach by walking from RoxelerStr where bus No1 passes (stop: Ackerman) or from Dingbangerweg bus No 10 (very rare one).\\n\\n\\u2015Anonymous, July 2012&quot;, 21.0, NaN], [52.11207577263141, 7.400148153304594, 5.0, &quot;&quot;, NaN, NaN], [51.9438349960848, 7.54885733127594, 5.0, &quot;Most cars were continuing on A1 and I wanted to get on A43 to Oberhausen at least on my way to Eindhoven. \\n\\n\\u2015Anonymous, June 2011\\n\\nyou can get there easily by bus and foot. take a bus to \\&quot;roxel\\&quot; and then you will get there in less than 10 minutes \\n\\n\\u2015Anonymous, September 2011\\n\\ngood place to ask many people\\n\\n\\u2015Anonymous, December 2012\\n\\nGood place to go to the south. Try to find a car wich go in direction Siegen (A1-A45) to pass Dortmund. \\n\\n\\u2015Anonymous, March 2013\\n\\nGood place to go to the south. \\nWe were here at 6 pm, asking drivers to go to Netherlands, but we didn\\u0027t manage and finally we caught a guy to go to Recklinghausen.\\n\\n\\u2015Paczix (Hitchwiki), October 2013\\n\\nGot stuck here twice trying to find a ride to The Netherlands, most people go south to K\\u00f6ln/Aachen.\\n\\n\\u2015Meikel (Hitchwiki), July 2014\\n\\nWaited for about 1,5 hours here on a  Sunday morning going to Cologne. A lot of local traffic, but eventually someone took me to Remscheid (40 km from Cologne).\\n\\n\\u2015Maxim1110 (Hitchwiki), November 2014\\n\\nAfter 1 hour of waiting another guy and me got a ride to Kassel. Quite a good one. Loads of cars going south! \\n\\n\\n\\u2015Anonymous, May 2015\\n\\nExtremely good spot if you want to get to Cologne but very difficult if you want to continue towards A45 and Frankfurt.\\n\\n\\n\\u2015Anonymous, May 2020\\n\\nService station Mnsterland, much traffic on the way towards Dortmund (Ruhrarea), Cologne, Hamburg etc. Also chance to get on the A43 to Recklinghausen and Gelsenkirchen.\\n\\n\\u2015Anonymous, May 2006&quot;, 33.0, NaN], [51.9548287842043, 7.97067224979401, 5.0, &quot;Great spot just behind the traffic lights, near the McDonalds restaurant. Big hard shoulder with enough space to stop cars. Good for hitching towards Muenster en Telgte.\\n\\n\\u2015Anonymous&quot;, 10.0, NaN], [51.9774592332628, 7.60041475296021, 5.0, &quot;started here several times. never had any problems getting on my way north.\\n\\n\\u2015Anonymous, September 2011\\n\\nit really helps standing at the bus stop (just in front of the entrance to the gas st.), as then drivers can turn in the gas station and stop comfortably to pic you up!\\n\\n\\u2015Najuste (Hitchwiki), July 2012\\n\\nGot a ride in less than 15 minutes towards NL. Great spot.\\n\\n\\u2015Anonymous, August 2013\\n\\nI think it place is actually better for going north and south than the official at the webpage (I mean these in Roxel)\\n\\n\\n\\u2015Pawel.wita (Hitchwiki), February 2014\\n\\nGtreat spot! I just got there and had no time to even raise my sign and the man offered a lift to Dusseldorf himself. I was heading north, so I turned the offer down.Next  lift in less than 15 min!\\n\\n\\u2015Anonymous, September 2015\\n\\nIt took me about an hour to get a ride but that\\u0027s probably because I had \\&quot;Enschede\\&quot; on my sign. When I changed it to \\&quot;Steinfurt\\&quot; I got a ride within 10 minutes. I would still say this is a good spot.\\n\\n\\u2015Anonymous, August 2017\\n\\nMost comfortable gasstation ever :-) Especialy good spot at morning. If none is at gas station you can try bus stop 30 meters away, where drivers can easily stop.\\n\\n\\u2015Anonymous&quot;, 18.0, NaN], [52.179820076728, 7.27464437484741, 5.0, &quot;Bus stop in direction Steinfurt- Perfect to hitch, directly behind traffic lights\\n\\n\\u2015Anonymous&quot;, NaN, NaN], [52.35917937630301, 7.259761333465766, 4.0, &quot;Good spot for A31 towards north. Not soo busy but thanks to the McDonalds there are some cars going trough. \\n\\n\\u2015Anonymous, June 2014&quot;, 5.0, NaN], [52.34075729815939, 7.148492574690302, 4.0, &quot;Bus stop on B403 towards Nordhorn. Traffic fortunately not so fast here :)\\n\\n\\u2015Anonymous, October 2013&quot;, 10.0, NaN], [52.3387512009992, 7.40871727466583, 4.0, &quot;Parking Area \\\\\\&quot;Emstal\\\\\\&quot;.I\\u0027m always getting here when I travel from Hrstel. Good to get lifts to the Netherlands!Sometimes a lot of British people stopping here.Last parking before the Kreuz Schttdorf A30/A31! So you have the chance to get north/west and south!\\n\\n\\u2015Anonymous, March 2006&quot;, NaN, NaN], [52.52641281344498, 7.197253364563711, 4.0, &quot;very good resting place for hitchhiking south to ruhrgebiet - take a sign or talk to people\\n\\n\\u2015Anonymous, December 2012&quot;, NaN, NaN], [52.440685552732425, 7.084913492201247, 4.0, &quot;Bus stop on B213 towards Lingen. Just behind the traffic lights. No need to walk further out of town, this spot is good. Waiting might take a while though, people don\\u0027t seem to eager to pick you up.\\n\\n\\u2015Anonymous, October 2013&quot;, NaN, NaN], [52.19548125233766, 7.027332305907681, 4.0, &quot;B54 Gronau, West towards Enschede. Not that much traffic but still a reasonably good on-ramp.\\n\\n\\u2015Anonymous, February 2014&quot;, 5.0, NaN], [52.20361263404884, 7.81052613258205, 4.0, &quot;We liked that place a lot. Wee took train+bus from Osnabr\\u00fcck Main Station to Lengerich Abzw. Tecklenburg, from there it was a 10 Minutes Walk. We got a lift to Duisborg after 15 minutes, without using a sign. \\n\\n\\u2015Anonymous, February 2020\\n\\nOn-ramp 73 Lengerich, A1 direction Dortmund. Not that much traffic here, but the spot is great with a lot of space for cars to stop.\\n\\n\\u2015Anonymous, October 2013&quot;, 14.0, NaN], [52.209030305445474, 7.920700550077846, 4.0, &quot;Roundabout on L95 towards Hagen a. TW. Even though it\\u0027s at the beginning of the village, cars will stop :) Stand at the bus stop.\\n\\n\\u2015Anonymous, October 2013&quot;, NaN, NaN], [52.193327761280784, 7.97730588912821, 4.0, &quot;L96 from Hagen towards Bad Iburg. Bus stop in a long bend. \\n\\n\\u2015Anonymous, October 2013&quot;, 9.0, NaN], [52.1932584622519, 7.06685900688171, 4.0, &quot;Most traffic towards Steinfurt/M\\u00fcnster goes up the B54 here, but not much space to stop cars,many trucks, best option is to hitch on the traffic island\\n\\n\\u2015Anonymous&quot;, 5.0, NaN], [52.2130468657658, 7.21337199211121, 4.0, &quot;Good spot for hitchhiking towards Salzbergen, Neuenkirchen, Rheine. You could use the side road for hitchhiking, but cars can also stop along the road easily.\\n\\n\\u2015Anonymous&quot;, NaN, NaN], [52.22433297282897, 7.824205398558123, 4.0, &quot;L597 towards Osnabruck. Quite some traffic here, good spot.\\n\\n\\u2015Anonymous, October 2013&quot;, 16.0, NaN], [52.22828346399668, 7.4976761579510836, 4.0, &quot;Junction B481/L578. Towards Elte quite some traffic, mostly going further to Rheine-Gellendorf.\\n\\n\\u2015Anonymous, November 2012&quot;, 5.0, NaN], [52.2313742608891, 7.87728309631348, 4.0, &quot;Tecklenburger Land West: Motorway fillingstation / restaurant. Access on foot via Grafenstra\\u00dfe, 49545 Tecklenburg. Direction Dortmund\\n\\n\\u2015Anonymous&quot;, NaN, NaN], [51.93647698977148, 7.603282570839174, 4.0, &quot;Maybe it is better to try out the gas station first - tried this spot one time and it took me nearly an hour. Only two guys stopped.\\nThere is a lot of traffic coming from the city. Just stand at the crosswalk near the traffic lights. Behind you, there is a bus station where the cars can stop without any danger.\\n\\n\\u2015Anonymous, July 2015&quot;, NaN, NaN], [51.9764216621633, 7.60157346725464, 4.0, &quot;Had a sign \\&quot;Hanover - A1\\&quot; and managed to be picked up fairly quickly and dropped off in Melle.\\n\\n\\u2015Annieant (Hitchwiki), June 2013\\n\\nWalking along this road with a sign saying \\u0027NL\\u0027 got results within 5 minutes. I may have just got lucky, though. For more info, see http://www.hitchwiki.org/M\\u00fcnster\\n\\n\\u2015Anonymous&quot;, 45.0, NaN], [51.9525971805793, 7.55316495895386, 4.0, &quot;Traffic lights and bus stop. Easy to get rides to the city center. Your spot if you got off at the service station for going towards Muenster\\n\\n\\u2015Anonymous&quot;, 10.0, NaN], [51.979065002653975, 7.4023051261902255, 4.0, &quot;Bus stop near Havixbeck with hard shoulder on the L550 towards Laer. Traffic a bit faster, but they see you from very far.\\n\\n\\u2015Anonymous, October 2013&quot;, NaN, NaN], [51.9767255609913, 7.404987335205053, 4.0, &quot;Hard shoulder on the L581 towards Billerbeck.\\n\\n\\u2015Anonymous, October 2013&quot;, NaN, NaN], [52.044054670046506, 7.4660414457317295, 4.0, &quot;Getting to Muenster just before the Bus stop, leaving space for the car to stop at the bus place. \\n\\n\\u2015Anonymous, July 2012&quot;, NaN, NaN], [52.09592092587175, 7.220794677734297, 4.0, &quot;Roundabout just outside Schppingen, on the L579. Good for rides in direction Heek/Ochtrup. \\n\\n\\u2015Anonymous, October 2013&quot;, 44.0, NaN], [52.04460261319277, 7.450251817701731, 4.0, &quot;Bus stop on L579 towards Laer/Ahaus. Enough traffic here coming off the B54.\\n\\n\\u2015Anonymous, October 2013&quot;, 2.0, NaN], [52.1132886720193, 7.60919630527496, 4.0, &quot;Hard shoulder to stand on, a bit narrow but possible  to stop cars just behind the traffic lights. For direction Saerbeck, Ibbenb\\u00fcren. Much traffic here. Be careful with trucks, though.\\n\\n\\u2015Anonymous&quot;, NaN, NaN], [52.0037011277583, 7.61480748653412, 4.0, &quot;Take bus R51 or 16 to \\&quot;Am Max-Klemens-Kanal\\&quot;. Get out and try standing before the railway crossing, there\\u0027s lots of space. All cars going to Sprakel or Greven\\n\\n\\u2015Anonymous&quot;, 15.0, NaN], [51.77907258052719, 7.150425910949445, 4.0, &quot;Small road, make a sign since many drivers don\\u0027t go far from here. A lady going to Reken took a pity on us, seeing the empty road, and took us to our destination, Borken.\\n\\n\\u2015Anonymous, October 2015&quot;, 20.0, NaN], [52.1788299616202, 7.63689279556274, 4.0, &quot;Possibility to hitch towards Riesenbeck. Spot is just behind a corner, maybe better stand directly at the crossing. Not much space to stop cars, but possible.\\n\\n\\u2015Anonymous&quot;, NaN, NaN], [51.77968682556171, 8.032387733460217, 4.0, &quot;&quot;, NaN, NaN], [52.1700265074019, 7.26016044616699, 4.0, &quot;Emergency rest stop before the traffic light. Very good if you are going towards Metelen. If going north, just cross the street and try it along the hard shoulder. This spot was recommended to me by the German border police ;) It\\u0027s also easy to get rides here towards Enschede.\\n\\n\\u2015Anonymous&quot;, NaN, NaN], [51.86487533716871, 7.234591484069729, 4.0, &quot;There is a little bus stop next to a crossing with traffic lights. Cars have to slow down and there is space to stop the car. Relatively good chances to get a lift for direction Coesfeld\\n\\n\\u2015Anonymous, May 2015&quot;, NaN, NaN], [52.158817347457, 7.3427349329033, 4.0, &quot;Enough space at the on-ramp for hitchhiking rides towards Gronau, Enschede (Netherlands)\\n\\n\\u2015Anonymous, May 2012&quot;, 9.0, NaN], [52.1589243027336, 7.31916904449463, 4.0, &quot;Busy petrol station, rides to the Netherlands available. Got a ride within seconds. Useful as a drop-off point when travelling from M\\u00fcnster. For more info, see http://www.hitchwiki.org/Steinfurt\\n\\n\\u2015Anonymous&quot;, NaN, NaN], [52.3179334460281, 7.22067296504974, 4.0, &quot;Bus bay directly next to the train station, good to hitch towards Bad Bentheim, enough space for cars to stop. Sign might be useful, traffic also could be also going only some meters.\\n\\n\\u2015Anonymous&quot;, NaN, NaN], [52.3275305007337, 7.20913410186768, 4.0, &quot;We stood even a little earlier at the roundabout close to the city centre. Worked fine.\\n\\n\\u2015Koendev (Hitchwiki), October 2013\\n\\nWest towards Nordhorn/Oldenzaal; just passed the K\\u0026K supermarket. Most cars passing here will be going at least towards the Bad Bentheim ramp on the motorway A30.\\n\\n\\u2015Anonymous&quot;, NaN, NaN], [52.32398659994313, 7.219023942945962, 4.0, &quot;Roundabout, direction Nordhorn/A30.\\n\\n\\u2015Anonymous, October 2013&quot;, 5.0, NaN], [52.3261371388802, 7.06626892089844, 4.0, &quot;Last exit before the Netherlands!A lot of Dutch people riding up here going west,also a number of people going to the next Dutch Citys Oldenzaal and Enschede\\n\\n\\u2015Anonymous, March 2006&quot;, NaN, NaN], [52.2868000126643, 7.60065078735352, 4.0, &quot;Ramp \\u0027H\\u00f6rstel\\u0027 towards Osnabr\\u00fcck. Walk along the Bahnhofstra\\u00dfe, go left at the protestant church and follow the street until its end(1,5 km). At the end walk right and you\\u0027ll see the highway.\\n\\n\\u2015Anonymous&quot;, 5.0, NaN], [52.2649466350384, 8.00616860389709, 4.0, &quot;Quite good spot :) But we 2 were waiting here for about 1 - 1,5 hour. Not the best place for cars to stop I gues,s but still I guess it is quite good place.\\n\\n\\u2015Anonymous, April 2011\\n\\nWaited 5 min, before i got a lift towards the dutch border.\\n\\n\\n\\u2015Anonymous, October 2011\\n\\nEverytime I start at this place to go in the south and it work well everytime. Use a sign with A1 --\\u003e M\\u00fcnster\\n\\n\\u2015Anonymous, March 2013\\n\\nTook 3 hours to get a ride.\\n\\n\\u2015Anonymous, May 2015\\n\\nLots of traffic, sometimes even so much that it might be better to wait until there are less cars before putting up your thumb.\\nWaited here about 10min before I got a Dutch car heading towards the Netherlands (used a sign: Holland).\\n\\n\\u2015Anonymous&quot;, 67.0, NaN], [52.285986202008, 7.46920108795166, 4.0, &quot;I Don\\u00b4t know where exactly, but walking this street it taked us about ten minutes to stop a car to Osnabr\\u00fcck (in three people). Maybe just good luck.\\n\\n\\u2015Anonymous&quot;, NaN, NaN], [52.2646117593274, 8.00529956817627, 4.0, &quot;I completely agree! Nice spot to go south! I wait 15min until I got a lift to rest stop M\\u00fcnsterland.\\n\\n\\u2015Anonymous, December 2012\\n\\nsorry to spoil the good rating, but this place SUCKS! no stopping space, dense traffic and cars that might be going north, west or south. no likee. \\n\\n\\n\\u2015Anonymous, March 2014\\n\\nmy usual spot to start for south and west. almost no way to get east, better start for this direction at os-nahne.\\ni had different experiences from 10 to 60 minutes waiting for a lift with a big sign. best to stand directly at the lights so cars can stop on the side of the bike line or go to the petrol station.\\n\\n\\u2015Anonymous, April 2014\\n\\ndont wait directly at the exit!\\n\\n\\u2015Anonymous, April 2014\\n\\ngood for going south (A1) or east. \\nBus 91/92, get out at \\&quot;Kurt-Schumacher-Damm\\&quot;\\n\\n\\u2015Anonymous&quot;, 53.0, NaN], [52.3065205048051, 7.49135613441467, 4.0, &quot;Big bus bay with lots of space to stop for cars. They can see you easily and have to slow down to 70 km/h some meters before. Good for direction Dreierwalde, Hoerstel or Hopsten.\\n\\n\\u2015Anonymous&quot;, 1.0, NaN], [52.256460083609, 7.7104772582234, 4.0, &quot;Good place, a lot of space to stop for cars\\n\\n\\u2015Palmer.Eldritch (Hitchwiki), October 2015\\n\\nGreat on-ramp for direction Osnabrck. Sufficient hard shoulder, lots of traffic.\\n\\n\\u2015Anonymous, May 2011&quot;, 10.0, NaN], [52.25793694176289, 7.711402416228395, 4.0, &quot;&quot;, 30.0, NaN], [52.2582552074243, 7.71300315856934, 4.0, &quot;Ramp towards Rheine and the Netherlands. Quite good hard shoulder, cars from both directions, gas station and Burger King on the other side of the roundabout. So mostly a lot of traffic. You can get here with bus S50 and R63, just get out at \\&quot;Br\\u00fcgge/Disco\\&quot;.\\n\\n\\u2015Anonymous&quot;, NaN, NaN], [52.260590012566, 7.849021196326, 4.0, &quot;Not good after 9 pm\\n\\n\\u2015EddieA (Hitchwiki), October 2013\\n\\nLast parking spot before the motorway is splitting. Too quiet to propery find a ride. \\n\\n\\u2015Koekjestrommel1 (Hitchwiki), May 2014\\n\\nSince 21st of may 2014 there\\u0027s now finally a petrol station and restaurant! Might become a very good spot :)\\n\\n\\n\\u2015Koendev (Hitchwiki), June 2014\\n\\nOk spot. Very quiet on a Monday morning, but like everything along this road great for long distance rides. After about 1 and a half hour, I got a ride to Berlin.\\n\\n\\u2015Maxim1110 (Hitchwiki), February 2015\\n\\nperfect for heading East\\n\\n\\u2015Anonymous, September 2015\\n\\nDifficult to find a car going towards Berlin \\n\\n\\u2015Wattouatt (Hitchwiki), October 2015\\n\\nJust a parking lot, but quiet busy. Unfortunately most people are going to Hanover and Berlin. If you want to go to the north ask for a ride to the first ramp on the A1. \\n\\n\\u2015Anonymous, November 2011&quot;, 50.0, NaN], [52.26133205607975, 7.846049308776543, 4.0, &quot;easy to find someone to cross the border with\\n\\n\\u2015Anonymous, September 2015\\n\\nAfter 45 minutes I found drive to NL (Tuesday afternoon, with sign). Two more hitchhikers on the same spot, they cought drive 5 min before me.\\n\\n\\u2015Gangrelito (Hitchwiki), September 2015\\n\\nJust a fairly small parking lot with no gas station nor a place to get food. Still managed to get a ride here to the netherlands in a short time. Quite some people stopping here because there aren\\u0027t a lot of parking spots direcly along the autobanh at this part of the A30. I\\u0027d give it a shot.\\n\\n\\u2015Anonymous, October 2013&quot;, 35.0, NaN], [52.2914922583198, 7.54302620887756, 4.0, &quot;Best is to stand on the island in the middle, people normally don\\u0027t hesitate to stop on the road as traffic is low anyway.\\n\\n\\u2015Platschi (Hitchwiki), February 2011\\n\\nWalk from Hrstel City to Rheine-Kanalhafen (Bus only 2x per day), there you can try to get up on the A30 direction Amsterdam.Never try it on a sunday,wasteful! within a week lot of people to Rheine or further, nice to get a lift to the ramp Rheine-Nord which is ways better!\\n\\n\\u2015Anonymous, March 2007&quot;, 15.0, NaN], [52.29177795695897, 8.03661489486854, 4.0, &quot;&quot;, NaN, NaN], [52.3039915497866, 7.94707953929901, 4.0, &quot;Waited for about 10/15 minutes before a car stopped that brought me to Bremen. \\n\\n\\u2015Anonymous, November 2011\\n\\nNice spot for going north towards Bremen, Hamburg. Enough space at hard shoulder for cars to stop, with traffic lights in front of you. \\n\\n\\u2015Anonymous&quot;, 15.0, NaN], [52.2970304373971, 7.09434360265732, 4.0, &quot;End of town, enough space to stop cars. Many Dutch cars along this way.\\n\\n\\u2015Anonymous&quot;, NaN, NaN], [52.0854134721211, 7.61517763137817, 4.0, &quot;Good spot when coming from M\\u00fcnster and traffic only goes towards Greven. First crossing when entering the city, just behind the traffic lights, enough space on hard shoulder to stop cars. Sign might be useful. Much traffic here\\n\\n\\u2015Anonymous&quot;, NaN, NaN], [52.16368376146542, 7.343969488143664, 3.0, &quot;Junction towards Rheine-Mesum. Low traffic, but driving slow due to traffic lights. \\n\\n\\u2015Anonymous, November 2012&quot;, 15.0, NaN], [52.3138277497563, 7.04602897167206, 3.0, &quot;Got straight rides to Aarhus (DK), Vilnius (LT) and literally everywhere in Poland from here.\\n\\n\\u2015Platschi (Hitchwiki), May 2011\\n\\nwaited here for 3 hours with no traffic whats so ever. Finally lucked out with a ride straight to berlin, don\\u0027t know if i can recommend it because i don\\u0027t know how often those miracle rides happen, even though we know pretty often... :) \\n\\n\\u2015Yayael (Hitchwiki), September 2014\\n\\nDidn\\u0027t expect this place to be very good, but it was better than we expected. Even though there\\u0027s no gas station and just a small restaurant there are least about 4-5 cars every 10 minutes. Took us about 30-40 minutes to find a ride all the way to Berlin eventually.\\n\\n\\u2015Maxim1110 (Hitchwiki), August 2015\\n\\nno service station, restaurant closes at 9pm - you don\\u0027t want to get here late.\\n\\n\\u2015Mrm1985 (Hitchwiki), March 2016\\n\\nParking area Bentheimer Wald with restaurant, police, many trucks. May be good to get Polish trucks. Not many private cars stopping here. Perfect spot when police is closing the border for controls ;-)\\n\\n\\u2015Anonymous&quot;, 214.0, NaN], [52.335827713596, 7.1021761895002, 3.0, &quot;really really really bad if you get here late. restaurant closes at 9 pm...no gas station. better chose the Autohof some 60 km before.\\n\\n\\u2015Anonymous, May 2011&quot;, 675.0, NaN], [52.3218780973027, 7.4299818277359, 3.0, &quot;Still not that bad, there\\u0027s some long distance traffic here because of the nearby Autohof.\\n\\n\\u2015Koendev (Hitchwiki), February 2014\\n\\nNot much space to stop cars, no hard shoulder. Cars coming from 3 directions, so it\\u0027s hard to ask. Maybe try it on the space under the bridge or at the nearby gas station. Not recommended to stand directly at the ramp.\\n\\n\\u2015Anonymous&quot;, 31.0, NaN], [52.3228158429612, 7.43093132972717, 3.0, &quot;Not too bad, but sometimes not too easy for vehicles to stiop on the ramp.\\n\\n\\u2015Anonymous, May 2011\\n\\nBetter to go to the mcdonalds or gas station 100m to the north and ask for a ride as not much room for cars to pull over.\\n\\n\\u2015Rdoc101 (Hitchwiki), June 2011\\n\\nwell, there\\u0027s some room if you walk up the ramp a few meters. just be aware of the trucks. in general, horrible on-ramp with lots of traffic but annoying construction design.\\n\\n\\u2015Platschi (Hitchwiki), November 2012\\n\\nGood spot to hitch west towards the A31 or Netherlands. Cars have enough space to stop, there\\u0027s a lot of traffic. And if you want, you can push the traffic light button so cars going towards the highway HAVE TO stop :-)\\n\\n\\u2015Anonymous&quot;, 31.0, NaN], [52.1586941803236, 7.322181701659969, 3.0, &quot;On-ramp at Burgsteinfurt, B54 towards Enschede. Very little traffic here...\\n\\n\\u2015Anonymous, May 2014&quot;, NaN, NaN], [52.52946296568816, 7.199111223219325, 3.0, &quot;Raststatte Ems-Vechte Ost, A31 towards Emden. Not so crowded as other ones on busier highways, but still fine for getting rides north or into NL.\\n\\n\\u2015Anonymous, October 2013&quot;, 123.0, NaN], [52.2434635050132, 8.05988788604736, 3.0, &quot;Though there is a lot of traffic, and a lot of space for cars to stop (just behind the bridge or arond the corner, whatever one prefers), people seem not to be too friendly over here to stop. Dozens of times hitched here, a lot of times waited \\u003e30 min\\n\\n\\u2015Platschi (Hitchwiki), May 2011\\n\\nStill the best option eastbound I guess.\\n\\n\\u2015Koendev (Hitchwiki), August 2013\\n\\nI wait there on a Monday from 10:00 to 13:00 a clock. There i find no lift to the east\\n\\n\\u2015Anonymous, December 2015\\n\\nLots of space along the hard shoulder to stop cars. Traffic only coming from Osnabr\\u00fcck-City \\n\\n\\u2015Anonymous&quot;, 49.0, NaN], [52.233187857433, 7.88114547729492, 3.0, &quot;First of all - it was Sunday 28.04, 8:30am (so no commuters, no lorries), I was traveling with a girl. \\nWe were trying to find a lift to first gas station on A30 towards Hannover (name: Gr\\u00f6negau). None out of ca. 40 asked drivers were heading toward that direction, most of them were going to the north. \\nFinally, a reeealy nice guy had changed his route specially for us and went 140 km out of his way (precisely: went 280 km instead of 140 km) and dropped us before Hanover. Thank\\u0027s God for him! \\n\\n\\u2015Lachim (Hitchwiki), April 2013\\n\\nYou don\\u00b4t wanna even try to hitchhike towards Bielefeld or Hannover. Every drivers stays on the A1. Best solution: hitchhike back to Hamm and then follow the A2. \\n\\n\\u2015Qrisss (Hitchwiki), September 2013\\n\\nSo I confirm that it\\u0027s hard, but not immposible. It just takes more time than usually.\\n\\n\\u2015Pawel.wita (Hitchwiki), February 2014\\n\\nIt was a sunny day, easter holiday (not so much traffic) at around 16:00. I asked the first couple at the door of the restaurant and they took me. It depends on your luck\\n\\n\\u2015Gustavobretz (Hitchwiki), April 2015\\n\\neven to find a ride inside to osnabr\\u00fcck was very hard ! even that it was RUSH HOUR -:. was so hard to get from there to find a way to osnabr\\u00fcck\\n\\n\\n\\u2015Anonymous, February 2017\\n\\nWanted to go (Me+girl) to Berlin (over Hannover) on a Tuesday 15:00. Waited 3 h. Then changed plans to Hamburg because everyone was driving there and waited till 20:00. Then we sadly drove back (over Osnabr\\u00fcck) to Essen. Really bad for East over Hannover. Definitely okay for further north. \\n\\n\\u2015Maxdubi (Hitchwiki), March 2017\\n\\nTecklenburger Land Ost: Motorway fillingstation / restaurant. Access on foot via Dunkbachstra\\u00dfe, 49545 Tecklenburg. Direction Osnabr\\u00fcck\\n\\n\\u2015Anonymous&quot;, 42.0, NaN], [52.3004783258759, 7.59753406047821, 3.0, &quot;Just behind the roundabout, cars are slow, good spot for hitchhiking towards Ibbenb\\u00fcren, Uffeln, Steinbeck, Dickenberg, P\\u00fcsselb\\u00fcren.\\n\\n\\u2015Anonymous&quot;, NaN, NaN], [52.3013410761489, 7.14689075946808, 3.0, &quot;Just behind the traffic light you can stand for hitching towards Oldenzaal or Gildehaus. Not much traffic, but cars can stop along the road. Average spot.\\n\\n\\u2015Anonymous&quot;, NaN, NaN], [52.2465378527044, 8.06134700775146, 3.0, &quot;Car dealer with place for hitchhiker\\u0027s to stop cars. Take bus 21 from center to get here. (get out at OS-Nahne). Good for both directions along A30.\\n\\n\\u2015Anonymous&quot;, 300.0, NaN], [52.2750967650688, 7.66448736190796, 3.0, &quot;Not much traffic, but cars can easily see you and pull over (slow traffic).\\nOnly waited here 2min (with a sign), to hitch towards Osnabr\\u00fcck.\\n\\n\\u2015Anonymous&quot;, NaN, NaN], [52.27195242273909, 8.038190692663198, 3.0, &quot;&quot;, NaN, NaN], [52.28886201039714, 7.601210924794814, 3.0, &quot;On-ramp Hrstel towards Amsterdam.\\n\\nNormal traffic, mostly towards Rheine.\\n\\n\\u2015Anonymous, November 2012&quot;, 10.0, NaN], [52.26522798753364, 7.8944397349778574, 3.0, &quot;On-ramp Lotte (13) on A30. Direction Osnabruck/A2. Spot is pretty ok, but people aren\\u0027t so likely to stop.\\n\\n\\u2015Anonymous, August 2013&quot;, NaN, NaN], [52.257584676846456, 8.056966101150579, 3.0, &quot;&quot;, NaN, NaN], [52.2475593035624, 8.06176543235779, 3.0, &quot;I wait there on a Monday from 10:00 to 13:00 a clock. There i find no lift to East\\n\\n\\u2015Anonymous, December 2015\\n\\nStarted here on a calm sunday with not much traffic, but got a lift towards hannover in 20 minutes\\n\\n\\u2015Anonymous, May 2017\\n\\nLots of traffic and cars can easily pull over.\\nRecommend the use of a sign, stating in which direction you want to go.\\n\\n\\u2015Anonymous&quot;, 300.0, NaN], [52.3391576234229, 7.14960515499115, 3.0, &quot;Traffic island to stand on for hitchhiking.Cars have to stop along the street, but that might be possible. Most traffic goes towards Nordhorn, but if cars go up the highway they mostly go to the NL. Many Dutch cars here. Spot is doable, but expect some waiting time. Forget it on Sundays!\\n\\n\\u2015Anonymous&quot;, 45.0, NaN], [52.1893451078635, 7.21997022628784, 3.0, &quot;Took me only 4min to get away.\\n\\n\\n\\u2015Koendev (Hitchwiki), March 2012\\n\\nSame here, 5min maximum on a Saturday afternoon. Driver told me that from Ochtrup, people going east most likely use this on-ramp, not the one before (westwards)\\n\\n\\u2015Platschi (Hitchwiki), November 2012\\n\\nTo M\\u00fcnster (Rheine). B54 Access lane/K73. Very little traffic. Stood here for 1h before walking to a nearby train station. \\n\\n\\u2015Anonymous&quot;, 5.0, NaN], [52.3030993288508, 8.03471803665161, 3.0, &quot;Gasstations are a good hitchhiking spot because you can ask the people directly. There are several options on the Hansastr. and the Bramscher Str. \\n\\n\\u2015Ruub (Hitchwiki), March 2014\\n\\nI waited at the crossroads and the gasstation in pouring rain, I am guessing that must\\u0027ve been the reason that people didn\\u0027t want to take me. In good weather I imagine that this spot is pretty good for hitch hiking!\\n\\n\\u2015NoaJou (Hitchwiki), January 2015\\n\\nGoing North (A1). Better make a sign. \\nBuses 41 and 81/82\\n\\n\\u2015Anonymous&quot;, 85.0, NaN], [52.33759746538, 7.15019524097443, 3.0, &quot;Rebuilding of the ramp resulted in even worse possibility for cars to stop, but they do nevertheless. Good for Rheine and further.\\n\\n\\u2015Platschi (Hitchwiki), February 2011\\n\\nTraffic island to stand on if you want to hitch at this ramp towards Rheine, Osnabr\\u00fcck, A31. Cars can stop some meters behind you, but might be dangerous with quite a lot of traffic. Nevertheless a good spot, waiting time around 10 minutes\\n\\n\\u2015Anonymous&quot;, 14.0, NaN], [52.3111647463197, 7.21167147159576, 3.0, &quot;End of town, stupid corner behind you so make yourself visible. Much traffic towards Bentheim, but a bit difficult for cars to stop.\\n\\n\\u2015Anonymous&quot;, NaN, NaN], [52.1937911779747, 7.02850341796875, 3.0, &quot;Narrow on-ramp, not much traffic eastwards\\n\\n\\u2015Anonymous&quot;, 43.0, NaN], [52.3433035742422, 7.33933925628662, 3.0, &quot;Few traffic going up here, you might wait some time until cars going up on the highway. But nevertheless a nice countryside. Unprotected spot, can be very breezy.\\n\\n\\u2015Anonymous&quot;, NaN, NaN], [52.19715163870949, 7.160627365112283, 3.0, &quot;On-ramp Ochtrup, B54 towards Gronau/Enschede (NL). No shoulder, but traffic isn\\u0027t that fast so they can still stop. Not much traffic and people don\\u0027t seem to friendly around here, so you might wait a bit longer ;)\\n\\n\\u2015Anonymous, October 2013\\n\\nOn-ramp Ochtrup, B54 towards Gronau/Enschede (NL). No shoulder, but traffic isn\\u0027t that fast so they can still stop. Not much traffic and people don\\u0027t seem to friendly around here, so you might wait a bit longer ;)\\n\\n\\u2015Anonymous, October 2013\\n\\nOn-ramp Ochtrup, B54 towards Gronau/Enschede (NL). No shoulder, but traffic isn\\u0027t that fast so they can still stop. Not much traffic and people don\\u0027t seem to friendly around here, so you might wait a bit longer ;)\\n\\n\\u2015Anonymous, October 2013&quot;, NaN, NaN], [51.9216046793142, 7.674881458282263, 3.0, &quot;Place near the Fuelstation, Cars have enough place to stop. Most People going to Albersloh. I tried to get on the A2 near Beckum to go east. It took me about one hour to get a lift in this direction.\\nTo hitchhike from M\\u00fcnster it is better to take the bus to Roxel and than walk to the service station there. \\n\\n\\u2015Anonymous, May 2015&quot;, 60.0, NaN], [51.93405594414733, 7.599377274513324, 3.0, &quot;Average spot to hitch southbound. Either ask drivers or stand next to the traffic light a little further\\n\\n\\u2015Anonymous, February 2013&quot;, 30.0, NaN], [51.94973089100869, 8.000887870789088, 3.0, &quot;&quot;, 15.0, NaN], [51.95572163878029, 7.567947149278072, 3.0, &quot;Bus Stop. Spot to go to the citycenter\\n\\n\\u2015Anonymous, April 2015&quot;, 30.0, NaN], [51.98813448995918, 7.580682277679262, 3.0, &quot;Better to walk a bit more towards Munster/stay in the city if you want to hitch out. Cars can\\u0027t stop here.\\n\\n\\u2015Anonymous, May 2014&quot;, NaN, NaN], [52.07780471925268, 7.294737815856909, 3.0, &quot;Crossing of L580 and L579 near Horstmar, direction Schppingen/Ahaus. Fast traffic here, but along the whole road is a hard shoulder where they can stop. \\n\\n\\u2015Anonymous, October 2013&quot;, NaN, NaN], [52.2321627902297, 7.87996530532837, 2.0, &quot;really not much sense hitchhiking to netherlands from this spot, it\\u0027s much better to try to catch someone coming from Bremen (a1) above osnabr\\u00fcck. got stuck here for quite some time.\\n\\n\\u2015Anonymous, June 2011\\n\\nNo sense to go to NL. Their were almost no cars. I had to go to the next gas station on A1 (near to damme), pass the bridge and hitchike to catch people coming from Bremen to NL.\\n\\n\\u2015Anonymous, November 2014\\n\\nperfect to go north,\\nA2 is crossing less than 100km to the South so nobody going East will stop here\\n\\n\\u2015Anonymous, September 2015\\n\\nIt is sensless spot to hitch towards Netherlands. If it ever happens to you, follow A1 north to the first gas station after Osnabruck and change dirsction there.\\n\\n\\u2015Anonymous&quot;, NaN, NaN], [52.230984307019, 8.1636418356898, 2.0, &quot;Sufficient hard shoulder to stand on, but extremely low traffic on this on-ramp.\\n\\n\\u2015Anonymous, May 2011&quot;, 40.0, NaN], [52.24830292489256, 8.061619961814694, 2.0, &quot;best spot for going east to hannover and berlin! took me 20 seconds to get a ride. make a big sign and stand directly at the beginning of the bus station.\\n\\n\\u2015Anonymous, April 2014\\n\\nI wait there on a Monday from 10:00 to 13:00 a clock. There i find no lift to East\\n\\n\\u2015Anonymous, December 2015&quot;, 300.0, NaN], [52.256469147465566, 8.09180670976666, 2.0, &quot;Stucked heading Netherlands\\n\\n\\u2015Anonymous, July 2016&quot;, 120.0, NaN], [52.12013394676065, 7.089419603346251, 2.0, &quot;On-ramp 31 Heek on the A31 towards Emden. Not much traffic, no hard shoulder and fucked up people, great combination!\\n\\n\\u2015Anonymous, October 2013&quot;, NaN, NaN], [52.48150307536488, 7.21400284766997, 2.0, &quot;On-ramp 25 Lingen, A31 towards Emden. Less traffic than expected, no hard shoulder. People not so friendly here, so hard to get away! The raststatte is a 6km walk along the L45 and then K33!\\n\\n\\u2015Anonymous, October 2013&quot;, NaN, NaN], [52.1921272422622, 7.11150169372559, 2.0, &quot;Pretty bad spot to hitch onto the A31 or B54, fast traffic and no spots for cars to stop.Do not get out here!\\n\\n\\u2015Anonymous&quot;, NaN, NaN], [52.19516921775344, 7.162128925323278, 2.0, &quot;Ochtrup-west direction Muenster. Shit in this direction, almost no traffic. Also not the easiest area to hitchhike anyway.\\n\\n\\u2015Anonymous, May 2014&quot;, 90.0, NaN], [52.30520520381528, 7.490894794464011, 2.0, &quot;&quot;, NaN, NaN], [52.3058415388491, 7.0584824681282, 2.0, &quot;Nearly no traffic, you need to have luck to hitch here. Well space for cars to stop, but not for trucks. Better try the ramp or go back. Empty area!\\n\\n\\u2015Anonymous&quot;, NaN, NaN], [52.3409373163344, 7.24629878997803, 2.0, &quot;This spot is somewhat better, more traffic going eastwards to Rheine or Ibbenb\\u00fcren. Hitched this direction 2 times, both waiting time around 5 minutes\\n\\n\\u2015Anonymous&quot;, NaN, NaN], [52.3410487496035, 7.24608421325684, 2.0, &quot;Not much traffic, waited here twice. (About 20min waiting.) Got rides towards Ibenb\\u00fcren and Osnabr\\u00fcck.\\n\\n\\u2015Anonymous&quot;, NaN, NaN], [52.325599695599, 7.4303283691417, 2.0, &quot;this is a station for locals not people heading to the autobahn. Try not to stop here.\\n\\n\\n\\u2015Philjgo (Hitchwiki), April 2013\\n\\nAutohof next to the autobahn.\\n\\n\\u2015Anonymous, May 2012&quot;, NaN, NaN], [52.3236289769543, 7.25598692893982, 2.0, &quot;Agree...\\n\\n\\u2015Koendev (Hitchwiki), October 2013\\n\\nNo fucking way out of this shithole... bad place to stop, little traffic.\\n\\n\\u2015Anonymous&quot;, 60.0, NaN], [52.2976176799959, 7.57776618003845, 2.0, &quot;Bus stop direction Rheine. Good to lift out of this village to Rheine or the A30 ramp.Bus only 2x a day to Rheine!\\n\\n\\u2015Anonymous&quot;, NaN, NaN], [52.2675237801432, 7.89436340332031, 2.0, &quot;Ramp \\&quot;Lotte\\&quot;, not much traffic and also not the best place for cars to stop. Most will only to towards Laggenbeck or Ibbenb\\u00fcren. Prepare yourself for a long waiting time :)\\n\\n\\u2015Anonymous&quot;, NaN, NaN], [52.262405456128, 8.00257444381714, 2.0, &quot;No real space to stop cars, busy traffic light but hard to stop cars there. Better get to OS-Nahne, most traffic into the city.\\n\\n\\u2015Anonymous&quot;, 140.0, NaN], [52.24551145151, 8.0364695192158, 1.0, &quot;&quot;, NaN, NaN], [52.3379219565653, 7.24720537662506, 1.0, &quot;also bad traffic, no place to stop.\\n\\n\\u2015Anonymous&quot;, NaN, NaN], [52.3433101287974, 7.24790811538696, 1.0, &quot;Nearly no traffic along this road, and even less going onto the highway towards the NL. Forget it!\\n\\n\\u2015Anonymous&quot;, NaN, NaN], [52.3443195186965, 7.24809587001801, 1.0, &quot;watting for 2 hour - no responce, bad traffic.\\n\\n\\u2015Anonymous&quot;, 135.0, NaN], [52.31851737454753, 7.957489728927624, 1.0, &quot;Rest station. JANUARY 2016 no way to get out of here.\\n\\n\\u2015Anonymous, March 2016&quot;, NaN, NaN]];\n",
       "                var cluster = L.markerClusterGroup({&quot;bubblingMouseEvents&quot;: false, &quot;disableClusteringAtZoom&quot;: 7, &quot;spiderfyOnMaxZoom&quot;: false});\n",
       "\n",
       "                for (var i = 0; i &lt; data.length; i++) {\n",
       "                    var row = data[i];\n",
       "                    var marker = callback(row);\n",
       "                    marker.addTo(cluster);\n",
       "                }\n",
       "\n",
       "                cluster.addTo(map_ca01187e5fb328820153abbec3c3336e);\n",
       "                return cluster;\n",
       "            })();\n",
       "        \n",
       "&lt;/script&gt;\n",
       "&lt;/html&gt;\" style=\"position:absolute;width:100%;height:100%;left:0;top:0;border:none !important;\" allowfullscreen webkitallowfullscreen mozallowfullscreen></iframe></div></div>"
      ],
      "text/plain": [
       "<folium.folium.Map at 0x7f9314188430>"
      ]
     },
     "execution_count": 11,
     "metadata": {},
     "output_type": "execute_result"
    }
   ],
   "source": [
    "m = folium.Map(prefer_canvas=True, control_scale=True)\n",
    "\n",
    "for country, group in places[places.cluster == 3].groupby('country_group'):\n",
    "    cluster = folium.plugins.FastMarkerCluster(group[['lat', 'lon', 'rating', 'text', 'wait', 'distance_from_spot']].values, disableClusteringAtZoom=7, spiderfyOnMaxZoom=False, bubblingMouseEvents=False, callback=callback).add_to(m)\n",
    "m"
   ]
  },
  {
   "cell_type": "code",
   "execution_count": null,
   "metadata": {},
   "outputs": [],
   "source": [
    "close.to_csv('close_17meters_germany.csv', index=True)"
   ]
  },
  {
   "attachments": {},
   "cell_type": "markdown",
   "metadata": {},
   "source": [
    "\n",
    "# service station\n"
   ]
  },
  {
   "cell_type": "markdown",
   "metadata": {},
   "source": [
    "## working with clusters"
   ]
  },
  {
   "cell_type": "code",
   "execution_count": 64,
   "metadata": {},
   "outputs": [],
   "source": [
    "# TESTED FOR PARKING ... RUNS QUITE FAST IN COMPARISON TO OTHER APPROACHES\n",
    "\n",
    "places = gpd.GeoDataFrame(places, geometry=gpd.points_from_xy(places.lon, places.lat), crs='EPSG:4326')"
   ]
  },
  {
   "cell_type": "code",
   "execution_count": 66,
   "metadata": {},
   "outputs": [],
   "source": [
    "places['cluster'] = clustering.labels_\n",
    "places['parking_id'] = None"
   ]
  },
  {
   "cell_type": "code",
   "execution_count": 68,
   "metadata": {},
   "outputs": [],
   "source": [
    "# inspired by https://github.com/gboeing/osmnx/blob/3822ed659f1cc9f426a990c02dd8ca6b3f4d56d7/osmnx/utils_geo.py#L420\n",
    "def circle(row):\n",
    "    point = row.geometry\n",
    "    earth_radius = 6_371_009  # meters\n",
    "    dist = 30\n",
    "    delta_lat = (dist / earth_radius) * (180 / np.pi)\n",
    "    return point.buffer(delta_lat)\n",
    "\n",
    "places.geometry = places.apply(circle, axis=1)"
   ]
  },
  {
   "cell_type": "code",
   "execution_count": 77,
   "metadata": {},
   "outputs": [
    {
     "name": "stdout",
     "output_type": "stream",
     "text": [
      "0.32158994674682617\n",
      "0.023329496383666992\n",
      "0\n"
     ]
    }
   ],
   "source": [
    "def get_parking(row, areas):\n",
    "    this = areas[row.geometry.intersects(areas.geometry)]\n",
    "    if not this.empty:\n",
    "        return this.index[0]\n",
    "    else:\n",
    "        return None\n",
    "    \n",
    "    \n",
    "\n",
    "for i in range(0,100):\n",
    "    current_cluster = places.loc[places.cluster == i]\n",
    "    polys = MultiPolygon(current_cluster.geometry.to_list())\n",
    "    current_region = polys.convex_hull\n",
    "\n",
    "    start = time.time()\n",
    "\n",
    "    parking = osmnx.geometries.geometries_from_polygon(current_region, tags={'amenity': 'parking'})\n",
    "    print(time.time()-start)\n",
    "    start = time.time()\n",
    "\n",
    "    parking = parking.loc['way']\n",
    "    places.loc[places.cluster == i, 'parking_id'] = current_cluster.apply(lambda row: get_parking(row, parking), axis=1)\n",
    "    \"\"\"\n",
    "    all_parking = parking.geometry.unary_union\n",
    "    current_cluster['at_parking'] = current_cluster.geometry.apply(lambda x: x.intersects(all_parking) or (haversine_points(x, nearest_points(x, all_parking)[1]) < 30/1000))\n",
    "    \"\"\"\n",
    "    print(time.time()-start)\n",
    "    print(i)"
   ]
  },
  {
   "cell_type": "markdown",
   "metadata": {},
   "source": [
    "## query for each spot"
   ]
  },
  {
   "cell_type": "code",
   "execution_count": null,
   "metadata": {},
   "outputs": [],
   "source": [
    "places = gpd.GeoDataFrame(places, geometry=gpd.points_from_xy(places.lon, places.lat))"
   ]
  },
  {
   "cell_type": "code",
   "execution_count": null,
   "metadata": {},
   "outputs": [],
   "source": [
    "global counter\n",
    "counter = 0\n",
    "def check_for_service_station(row):\n",
    "    check_for_service_station.counter += 1\n",
    "    print(check_for_service_station.counter)\n",
    "    service = osmnx.geometries.geometries_from_point((row.lat, row.lon), tags={'amenity': 'parking'}, dist=100)\n",
    "    return not service[service.geometry.contains(row.geometry)].empty\n",
    "\n",
    "check_for_service_station.counter = 0"
   ]
  },
  {
   "cell_type": "code",
   "execution_count": null,
   "metadata": {},
   "outputs": [],
   "source": [
    "# 5 min for saxony\n",
    "places['service_station'] = places.apply(check_for_service_station, axis=1)"
   ]
  },
  {
   "cell_type": "code",
   "execution_count": null,
   "metadata": {},
   "outputs": [],
   "source": [
    "osmnx.geometries.geometries_from_point((48.33628, 11.61126), tags={'highway': 'services'})"
   ]
  },
  {
   "cell_type": "markdown",
   "metadata": {},
   "source": [
    "## query all service stations once then check"
   ]
  },
  {
   "cell_type": "code",
   "execution_count": null,
   "metadata": {},
   "outputs": [],
   "source": [
    "places = gpd.GeoDataFrame(places, geometry=gpd.points_from_xy(places.lon, places.lat))\n",
    "places['id'] = places.index\n",
    "places['corrected_position_lat'] = None\n",
    "places['corrected_position_lon'] = None\n",
    "area = 'Germany'"
   ]
  },
  {
   "cell_type": "code",
   "execution_count": null,
   "metadata": {},
   "outputs": [],
   "source": [
    "# USE THIS\n",
    "# speedup\n",
    "cf = '[\"amenity\"~\"fuel|parking\"]'\n",
    "G = osmnx.graph_from_place(area, custom_filter=cf)\n",
    "cf = '[\"highway\"~\"services\"]'\n",
    "G = osmnx.graph_from_place(area, custom_filter=cf)\n",
    "fig, ax = osmnx.plot_graph(G)\n",
    "#\"natural\"~\"water\""
   ]
  },
  {
   "cell_type": "code",
   "execution_count": null,
   "metadata": {},
   "outputs": [],
   "source": [
    "start = time.time()\n",
    "\n",
    "parking = osmnx.geometries.geometries_from_place('France', tags={'amenity': 'parking'})\n",
    "print(time.time()-start)\n",
    "start = time.time()\n",
    "\n",
    "parking = parking.loc['way']\n",
    "all_parking = parking.geometry.unary_union\n",
    "places['at_parking'] = places.geometry.apply(lambda x: x.intersects(all_parking) or (haversine_points(x, nearest_points(x, all_parking)[1]) < 30/1000))\n",
    "print(time.time()-start)"
   ]
  },
  {
   "cell_type": "code",
   "execution_count": null,
   "metadata": {},
   "outputs": [],
   "source": [
    "len(parking)"
   ]
  },
  {
   "cell_type": "code",
   "execution_count": null,
   "metadata": {},
   "outputs": [],
   "source": [
    "# 0.5 min for saxony, 7 min for germany, speedup after caching and querying before\n",
    "# like 100 min for Germany without optimization\n",
    "\n",
    "start = time.time()\n",
    "\n",
    "# additional area around service station; tested for Brandenburg\n",
    "services_threshold = 30 # meters\n",
    "fuel_threshold = 30 # meters\n",
    "parking_threshold = 30 # meters\n",
    "\n",
    "service = osmnx.geometries.geometries_from_place(area, tags={'highway': 'services'})\n",
    "print(time.time()-start)\n",
    "start = time.time()\n",
    "\n",
    "service = service.loc['way']\n",
    "all_services = service.geometry.unary_union\n",
    "# [0] would be the point itself\n",
    "places['at_services'] = places.geometry.apply(lambda x: x.intersects(all_services) or (haversine_points(x, nearest_points(x, all_services)[1]) < services_threshold/1000))\n",
    "print(time.time()-start)\n",
    "start = time.time()\n",
    "\n",
    "fuel = osmnx.geometries.geometries_from_place(area, tags={'amenity': 'fuel'})\n",
    "print(time.time()-start)\n",
    "start = time.time()\n",
    "\n",
    "# can be nodes or ways\n",
    "all_fuel = fuel.geometry.unary_union\n",
    "places['at_fuel'] = places.geometry.apply(lambda x: x.intersects(all_fuel) or (haversine_points(x, nearest_points(x, all_fuel)[1]) < fuel_threshold/1000))\n",
    "print(time.time()-start)\n",
    "start = time.time()\n",
    "\n",
    "parking = osmnx.geometries.geometries_from_place(area, tags={'amenity': 'parking'})\n",
    "print(time.time()-start)\n",
    "start = time.time()\n",
    "\n",
    "parking = parking.loc['way']\n",
    "all_parking = parking.geometry.unary_union\n",
    "places['at_parking'] = places.geometry.apply(lambda x: x.intersects(all_parking) or (haversine_points(x, nearest_points(x, all_parking)[1]) < parking_threshold/1000))\n",
    "print(time.time()-start)\n",
    "\n"
   ]
  },
  {
   "cell_type": "code",
   "execution_count": null,
   "metadata": {},
   "outputs": [],
   "source": [
    "# speedup after caching and querying before\n",
    "# correction: working :)\n",
    "\n",
    "def get_services_id(row):\n",
    "    if row.at_services:\n",
    "        # first cover spots within service stations  \n",
    "        services = osmnx.geometries.geometries_from_point((row.lat, row.lon), tags={'highway': 'services'})\n",
    "        services = services.loc['way']     \n",
    "        services = services[services.geometry.contains(row.geometry)]\n",
    "        if not services.empty:\n",
    "            return services.index[0]\n",
    "        \n",
    "        # cover spots slightly outside of service station\n",
    "        else:\n",
    "            services = osmnx.geometries.geometries_from_point((row.lat, row.lon), tags={'highway': 'services'}, dist=services_threshold)\n",
    "            services = services.loc['way'] \n",
    "            if not services.empty:                \n",
    "                # also correct the position -> moving the point into the service station\n",
    "                # lon <-> lat switch here !!!\n",
    "                places.loc[row.id, ['corrected_position_lat', 'corrected_position_lon']] = (services.iloc[0].geometry.centroid.y, services.iloc[0].geometry.centroid.x)\n",
    "                return services.index[0]\n",
    "            else:\n",
    "                return None\n",
    "    else:\n",
    "        return None\n",
    "\n",
    "places['services_id'] = places.apply(get_services_id, axis=1)\n",
    "\n",
    "# correct the positions where possible\n",
    "for _, place in places[places.corrected_position_lat.notnull()].iterrows():\n",
    "    points.loc[(points.lat == place.lat) & (points.lon == place.lon), ['lat','lon']] = [place['corrected_position_lat'], place['corrected_position_lon']]\n",
    "\n",
    "g= places.groupby('services_id')\n",
    "clusters = list(filter(lambda x: len(x) > 1, g.id.apply(list).to_list()))\n",
    "\n",
    "for cluster in clusters:\n",
    "    merged_spot = places.loc[cluster[0]]\n",
    "    lat = merged_spot.lat\n",
    "    lon = merged_spot.lon\n",
    "    for spot in cluster[1:]:\n",
    "        spot = places.loc[spot]\n",
    "        points.loc[(points.lat == spot.lat) & (points.lon == spot.lon), ['lat','lon']] = [lat,lon]\n",
    "\n"
   ]
  },
  {
   "cell_type": "code",
   "execution_count": null,
   "metadata": {},
   "outputs": [],
   "source": []
  },
  {
   "cell_type": "code",
   "execution_count": null,
   "metadata": {},
   "outputs": [],
   "source": [
    "\n",
    "\n",
    "# speedup after caching and querying before\n",
    "\n",
    "def get_fuel_id(row):\n",
    "    if row.at_fuel and row.services_id is None:\n",
    "        # first cover spots within service stations  \n",
    "        services = osmnx.geometries.geometries_from_point((row.lat, row.lon), tags={'amenity': 'fuel'})   \n",
    "        services = services.loc['way']\n",
    "        services = services[services.geometry.contains(row.geometry)]\n",
    "        if not services.empty:\n",
    "            return services.index[0]\n",
    "        \n",
    "        # cover spots slightly outside of fuel or if fuel is a node\n",
    "        else:\n",
    "            services = osmnx.geometries.geometries_from_point((row.lat, row.lon), tags={'amenity': 'fuel'}, dist=fuel_threshold) \n",
    "            if not services.empty:\n",
    "                return services.index[0]\n",
    "            else:\n",
    "                return None\n",
    "    else:\n",
    "        return None\n",
    "\n",
    "places['fuel_id'] = places.apply(get_fuel_id, axis=1)\n",
    "\n",
    "g= places.groupby('fuel_id')\n",
    "clusters = list(filter(lambda x: len(x) > 1, g.id.apply(list).to_list()))\n",
    "\n",
    "for cluster in clusters:\n",
    "    merged_spot = places.loc[cluster[0]]\n",
    "    lat = merged_spot.lat\n",
    "    lon = merged_spot.lon\n",
    "    for spot in cluster[1:]:\n",
    "        spot = places.loc[spot]\n",
    "        points.loc[(points.lat == spot.lat) & (points.lon == spot.lon), ['lat','lon']] = [lat,lon]\n",
    "\n"
   ]
  },
  {
   "cell_type": "code",
   "execution_count": null,
   "metadata": {},
   "outputs": [],
   "source": [
    "def get_parking_id(row):\n",
    "    if row.at_parking and row.services_id is None and row.fuel_id is None:\n",
    "        # first cover spots within service stations  \n",
    "        services = osmnx.geometries.geometries_from_point((row.lat, row.lon), tags={'amenity': 'parking'})\n",
    "        services = services.loc['way']     \n",
    "        services = services[services.geometry.contains(row.geometry)]\n",
    "        if not services.empty:\n",
    "            return services.index[0]\n",
    "        \n",
    "        # cover spots slightly outside of service station\n",
    "        else:\n",
    "            services = osmnx.geometries.geometries_from_point((row.lat, row.lon), tags={'amenity': 'parking'}, dist=parking_threshold) \n",
    "            if not services.empty:\n",
    "                services = services.loc['way']\n",
    "                return services.index[0]\n",
    "            else:\n",
    "                return None\n",
    "    else:\n",
    "        return None\n",
    "\n",
    "places['parking_id'] = places.apply(get_parking_id, axis=1)\n",
    "\n",
    "g= places.groupby('parking_id')\n",
    "clusters = list(filter(lambda x: len(x) > 1, g.id.apply(list).to_list()))\n",
    "\n",
    "for cluster in clusters:\n",
    "    merged_spot = places.loc[cluster[0]]\n",
    "    lat = merged_spot.lat\n",
    "    lon = merged_spot.lon\n",
    "    for spot in cluster[1:]:\n",
    "        spot = places.loc[spot]\n",
    "        points.loc[(points.lat == spot.lat) & (points.lon == spot.lon), ['lat','lon']] = [lat,lon]\n",
    "\n"
   ]
  },
  {
   "cell_type": "code",
   "execution_count": null,
   "metadata": {},
   "outputs": [],
   "source": [
    "places['id'] = places.index\n",
    "g= places.groupby('services_id')\n",
    "clusters = list(filter(lambda x: len(x) > 1, g.id.apply(list).to_list()))\n",
    "\n",
    "for cluster in clusters:\n",
    "    merged_spot = places.loc[cluster[0]]\n",
    "    lat = merged_spot.lat\n",
    "    lon = merged_spot.lon\n",
    "    for spot in cluster[1:]:\n",
    "        spot = places.loc[spot]\n",
    "        points.loc[(points.lat == spot.lat) & (points.lon == spot.lon), ['lat','lon']] = [lat,lon]\n",
    "# refetch places before checking on map"
   ]
  },
  {
   "cell_type": "markdown",
   "metadata": {},
   "source": [
    "# close enough to street"
   ]
  },
  {
   "cell_type": "code",
   "execution_count": null,
   "metadata": {},
   "outputs": [],
   "source": [
    "# check if spot is on road\n",
    "threshold = 100 #meters\n",
    "spot = (51.49219, 0.27456)\n",
    "try:\n",
    "    Network = osmnx.graph_from_point(spot, dist=threshold, network_type='drive')\n",
    "except:\n",
    "    print('no')\n"
   ]
  },
  {
   "cell_type": "code",
   "execution_count": 70,
   "metadata": {},
   "outputs": [
    {
     "data": {
      "image/png": "[encoded data removed]",
      "text/plain": [
       "<Figure size 720x720 with 1 Axes>"
      ]
     },
     "metadata": {},
     "output_type": "display_data"
    }
   ],
   "source": [
    "places.to_crs(epsg=4326, inplace=True)\n",
    "current_cluster = places.loc[places.cluster == 0]\n",
    "polys = MultiPolygon(current_cluster.geometry.to_list())\n",
    "current_region = polys.convex_hull\n",
    "\n",
    "Network = osmnx.graph_from_polygon(current_region, network_type='drive', retain_all=True, truncate_by_edge=True)\n",
    "Network = osmnx.project_graph(Network, to_crs='epsg:3857')\n",
    "fig, ax = osmnx.plot_graph(Network, figsize=(10,10))"
   ]
  },
  {
   "cell_type": "code",
   "execution_count": 97,
   "metadata": {},
   "outputs": [
    {
     "name": "stderr",
     "output_type": "stream",
     "text": [
      "/home/till/.local/lib/python3.10/site-packages/pandas/core/dtypes/cast.py:128: ShapelyDeprecationWarning: The array interface is deprecated and will no longer work in Shapely 2.0. Convert the '.coords' to a numpy array instead.\n",
      "  arr = construct_1d_object_array_from_listlike(values)\n",
      "/home/till/.local/lib/python3.10/site-packages/geopandas/geodataframe.py:1472: SettingWithCopyWarning: \n",
      "A value is trying to be set on a copy of a slice from a DataFrame.\n",
      "Try using .loc[row_indexer,col_indexer] = value instead\n",
      "\n",
      "See the caveats in the documentation: https://pandas.pydata.org/pandas-docs/stable/user_guide/indexing.html#returning-a-view-versus-a-copy\n",
      "  super().__setitem__(key, value)\n",
      "/home/till/.local/lib/python3.10/site-packages/geopandas/geodataframe.py:1472: SettingWithCopyWarning: \n",
      "A value is trying to be set on a copy of a slice from a DataFrame.\n",
      "Try using .loc[row_indexer,col_indexer] = value instead\n",
      "\n",
      "See the caveats in the documentation: https://pandas.pydata.org/pandas-docs/stable/user_guide/indexing.html#returning-a-view-versus-a-copy\n",
      "  super().__setitem__(key, value)\n"
     ]
    }
   ],
   "source": [
    "# 3 s per spot\n",
    "# distances result in meters if epsg is 3857 for Network and Spots -> but both have to be 4326 before !\n",
    "\n",
    "\n",
    "a = places.loc[places.cluster == 0]\n",
    "# switch back from circle to point\n",
    "a['geometry'] = a.apply(lambda x: Point(x.lon, x.lat), axis=1)\n",
    "a.to_crs(epsg=3857, inplace=True)\n",
    "def get_nearest_road(row):    \n",
    "    try:\n",
    "        return osmnx.distance.nearest_edges(Network, row.geometry.x, row.geometry.y, return_dist=True)\n",
    "    except:\n",
    "        return None\n",
    "\n",
    "a['nearest_road'] = a.apply(get_nearest_road, axis=1)"
   ]
  },
  {
   "cell_type": "code",
   "execution_count": null,
   "metadata": {},
   "outputs": [],
   "source": [
    "# takes more than 20 min for Saxony, about 0.5 min per spot (if network is whole Saxony)\n",
    "# works well\n",
    "# tested for Freiberg\n",
    "# 10 min for Saxony\n",
    "\n",
    "threshold = 0.05 # 100m\n",
    "\n",
    "def get_nearest_road(row):    \n",
    "    try:\n",
    "        N = osmnx.graph_from_point((row.lat, row.lon), dist=threshold, network_type='drive')\n",
    "        return osmnx.distance.nearest_edges(N, row.lon, row.lat, return_dist=True)\n",
    "    except:\n",
    "        return None\n",
    "\n",
    "places['nearest_road'] = places.apply(get_nearest_road, axis=1)"
   ]
  },
  {
   "cell_type": "code",
   "execution_count": null,
   "metadata": {},
   "outputs": [],
   "source": [
    "N = osmnx.graph_from_point((51.349009, 12.207173), dist=100, network_type='drive', retain_all=True)\n",
    "fig, ax = osmnx.plot_graph(N, figsize=(100,100))"
   ]
  }
 ],
 "metadata": {
  "kernelspec": {
   "display_name": "Python 3 (ipykernel)",
   "language": "python",
   "name": "python3"
  },
  "language_info": {
   "codemirror_mode": {
    "name": "ipython",
    "version": 3
   },
   "file_extension": ".py",
   "mimetype": "text/x-python",
   "name": "python",
   "nbconvert_exporter": "python",
   "pygments_lexer": "ipython3",
   "version": "3.10.6"
  }
 },
 "nbformat": 4,
 "nbformat_minor": 2
}
